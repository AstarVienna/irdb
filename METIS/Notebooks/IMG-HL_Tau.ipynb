{
 "cells": [
  {
   "cell_type": "markdown",
   "metadata": {},
   "source": [
    "# Imaging observations of HL Tau"
   ]
  },
  {
   "cell_type": "markdown",
   "metadata": {},
   "source": [
    "The purpose of this notebook is to show how to use a FITS image as input to create a `Source` object for imaging observations with METIS. We work with an ALMA 233 GHz image of HL Tau, pretending that this is the structure of the object in the mid-infrared. It will be joined to a very simple spectrum. The image is already prepared such that pixel values represent Jy/pixel in the observed band."
   ]
  },
  {
   "cell_type": "code",
   "execution_count": null,
   "metadata": {},
   "outputs": [],
   "source": [
    "import os\n",
    "import numpy as np\n",
    "from astropy.io import fits\n",
    "from astropy import units as u\n",
    "from astropy.wcs import WCS\n",
    "from synphot import SourceSpectrum\n",
    "from synphot.models import Empirical1D, ConstFlux1D"
   ]
  },
  {
   "cell_type": "code",
   "execution_count": null,
   "metadata": {},
   "outputs": [],
   "source": [
    "from matplotlib import pyplot as plt\n",
    "from matplotlib.colors import LogNorm\n",
    "%matplotlib inline"
   ]
  },
  {
   "cell_type": "code",
   "execution_count": null,
   "metadata": {},
   "outputs": [],
   "source": [
    "import scopesim as sim"
   ]
  },
  {
   "cell_type": "code",
   "execution_count": null,
   "metadata": {},
   "outputs": [],
   "source": [
    "sim.bug_report()"
   ]
  },
  {
   "cell_type": "markdown",
   "metadata": {},
   "source": [
    "To simulate observations with METIS, the instrument packages for METIS, the ELT, and Armazones are required. The packages are downloaded from the server and installed into sub-directory `inst_pkgs` in the current working directory."
   ]
  },
  {
   "cell_type": "code",
   "execution_count": null,
   "metadata": {},
   "outputs": [],
   "source": [
    "sim.download_package(['instruments/METIS', 'telescopes/ELT', 'locations/Armazones'])"
   ]
  },
  {
   "cell_type": "markdown",
   "metadata": {},
   "source": [
    "## Creating a source object from an image and a spectrum"
   ]
  },
  {
   "cell_type": "markdown",
   "metadata": {},
   "source": [
    "The image that we use is `HL_Tau_prep_for_Scopesim.fits`. This has been derived from `HLTau_B6cont_mscale_ap.image.fits`, which was retrieved from the ESO Science archive. The main step in preparing this file was a rescaling of the image values such that they directly represent flux in Jy per pixel (the flux scale was arbitrarily set such that the average over the first ring corresponds to 0.01 Jy/arcsec2). The image has a pixel scale of 5 mas, which was retained.  "
   ]
  },
  {
   "cell_type": "code",
   "execution_count": null,
   "metadata": {},
   "outputs": [],
   "source": [
    "hdul = fits.open(\"HL_Tau_prep_for_Scopesim.fits\")"
   ]
  },
  {
   "cell_type": "markdown",
   "metadata": {},
   "source": [
    "The header contains the information necessary for Scopesim, a WCS and the `BUNIT` keyword that gives the units of the pixel values. Scopesim mainly needs the `CDELT` keywords (or the `CD` matrix if present), which contain the pixel scale of the input image. The reference coordinates `CRVAL` have been set to zero as other values may confuse Scopesim at this stage."
   ]
  },
  {
   "cell_type": "code",
   "execution_count": null,
   "metadata": {},
   "outputs": [],
   "source": [
    "hdul[1].header"
   ]
  },
  {
   "cell_type": "markdown",
   "metadata": {},
   "source": [
    "A `Source` object in ScopeSim currently consists of an image (given as a FITS `HDU`) and a spectrum. The interface will be simplified to create the spectrum internally and take flux values from the image. Hence the next couple of cells will be superfluous in the future."
   ]
  },
  {
   "cell_type": "code",
   "execution_count": null,
   "metadata": {},
   "outputs": [],
   "source": [
    "wave = np.linspace(2.5, 18.5, 1001) * u.um\n",
    "flux = np.ones_like(wave.value) * 1 * u.Jy\n",
    "\n",
    "spec = SourceSpectrum(Empirical1D, points=wave, lookup_table=flux)"
   ]
  },
  {
   "cell_type": "markdown",
   "metadata": {},
   "source": [
    "Now we can finally create our `Source` object:"
   ]
  },
  {
   "cell_type": "code",
   "execution_count": null,
   "metadata": {},
   "outputs": [],
   "source": [
    "src = sim.Source(spectra=[spec], image_hdu=hdul[1])"
   ]
  },
  {
   "cell_type": "markdown",
   "metadata": {},
   "source": [
    "## N-band observation of the source"
   ]
  },
  {
   "cell_type": "markdown",
   "metadata": {},
   "source": [
    "We set up the instrument to the N-band imaging mode."
   ]
  },
  {
   "cell_type": "code",
   "execution_count": null,
   "metadata": {},
   "outputs": [],
   "source": [
    "cmd_n = sim.UserCommands(use_instrument='METIS', set_modes=['img_n'])"
   ]
  },
  {
   "cell_type": "markdown",
   "metadata": {},
   "source": [
    "The default filter is N2. It could be changed by modifying the configuration keyword"
   ]
  },
  {
   "cell_type": "code",
   "execution_count": null,
   "metadata": {},
   "outputs": [],
   "source": [
    "cmd_n['!OBS.filter_name']"
   ]
  },
  {
   "cell_type": "markdown",
   "metadata": {},
   "source": [
    "The instrument itself (the `OpticalTrain`), including atmosphere and telescope, is built by"
   ]
  },
  {
   "cell_type": "code",
   "execution_count": null,
   "metadata": {},
   "outputs": [],
   "source": [
    "metis_n = sim.OpticalTrain(cmd_n)\n",
    "metis_n[\"chopnod\"].include"
   ]
  },
  {
   "cell_type": "markdown",
   "metadata": {},
   "source": [
    "The optical train contains the following effects:"
   ]
  },
  {
   "cell_type": "code",
   "execution_count": null,
   "metadata": {},
   "outputs": [],
   "source": [
    "metis_n.effects"
   ]
  },
  {
   "cell_type": "markdown",
   "metadata": {},
   "source": [
    "We can now \"observe\" the source. This command creates the ideal image just in front of the detector."
   ]
  },
  {
   "cell_type": "code",
   "execution_count": null,
   "metadata": {},
   "outputs": [],
   "source": [
    "metis_n.observe(src, update=True)"
   ]
  },
  {
   "cell_type": "markdown",
   "metadata": {},
   "source": [
    "The N band configuration of METIS includes a detector effect `ChopNodCombiner`. This creates four detector images with chopping and nodding offsets and combines them into a chop-nod image with positive and negative beam images. The default is parallel chopping and nodding with"
   ]
  },
  {
   "cell_type": "code",
   "execution_count": null,
   "metadata": {},
   "outputs": [],
   "source": [
    "print(metis_n.cmds['!OBS.chop_offsets'], metis_n.cmds['!OBS.nod_offsets'])"
   ]
  },
  {
   "cell_type": "markdown",
   "metadata": {},
   "source": [
    "ScopeSim can automatically determine DIT and NDIT based on your choice of exptime and filter."
   ]
  },
  {
   "cell_type": "code",
   "execution_count": null,
   "metadata": {},
   "outputs": [],
   "source": [
    "outhdul_parallel = metis_n.readout(exptime=3600, detector_readout_mode=\"auto\")[0]"
   ]
  },
  {
   "cell_type": "markdown",
   "metadata": {},
   "source": [
    "Before writing the result to disk, we rescale to one DIT and add a little bit of information to the header."
   ]
  },
  {
   "cell_type": "code",
   "execution_count": null,
   "metadata": {},
   "outputs": [],
   "source": [
    "outhdul_parallel[1].data /= 4 * ndit\n",
    "outhdul_parallel[0].header['DIT'] = dit\n",
    "outhdul_parallel[0].header['NDIT'] = ndit\n",
    "outhdul_parallel[0].header['EXPTIME'] = dit\n",
    "outhdul_parallel[0].header['INTTIME'] = 4 * dit * ndit\n",
    "outhdul_parallel.writeto(\"hl_tau_metis_n_img_parallel.fits\", overwrite=True)"
   ]
  },
  {
   "cell_type": "code",
   "execution_count": null,
   "metadata": {},
   "outputs": [],
   "source": [
    "fig = plt.figure(figsize=(10, 2))\n",
    "plt.imshow(outhdul_parallel[1].data[750:1300,:], origin='lower')#, norm=LogNorm(), vmin=3e11, vmax=5e11)\n",
    "plt.colorbar()"
   ]
  },
  {
   "cell_type": "markdown",
   "metadata": {},
   "source": [
    "To change to perpendicular chopping and nodding, `nod_offsets` needs to operate in the y-direction:"
   ]
  },
  {
   "cell_type": "code",
   "execution_count": null,
   "metadata": {},
   "outputs": [],
   "source": [
    "metis_n.cmds['!OBS.nod_offsets'] = [0, 3]"
   ]
  },
  {
   "cell_type": "code",
   "execution_count": null,
   "metadata": {},
   "outputs": [],
   "source": [
    "outhdul_perpendicular = metis_n.readout()[0]"
   ]
  },
  {
   "cell_type": "code",
   "execution_count": null,
   "metadata": {},
   "outputs": [],
   "source": [
    "outhdul_perpendicular[1].data /= 4 * ndit\n",
    "outhdul_perpendicular[0].header['DIT'] = dit\n",
    "outhdul_perpendicular[0].header['NDIT'] = ndit\n",
    "outhdul_perpendicular[0].header['EXPTIME'] = dit\n",
    "outhdul_perpendicular[0].header['INTTIME'] = 4 * dit * ndit\n",
    "outhdul_perpendicular.writeto('hl_tau_metis_n_img_perpendicular.fits', overwrite=True)"
   ]
  },
  {
   "cell_type": "code",
   "execution_count": null,
   "metadata": {},
   "outputs": [],
   "source": [
    "fig = plt.figure(figsize=(10, 8))\n",
    "plt.imshow(outhdul_perpendicular[1].data[750:1750, 750:1750], origin='lower')\n",
    "plt.colorbar()"
   ]
  },
  {
   "cell_type": "markdown",
   "metadata": {},
   "source": [
    "## Dithered L-band observations of the source"
   ]
  },
  {
   "cell_type": "markdown",
   "metadata": {},
   "source": [
    "The spectrum of our source object was defined on a wavelength range that makes the source immediately suitable for L-band observations. We have to set up the instrument from scratch:"
   ]
  },
  {
   "cell_type": "code",
   "execution_count": null,
   "metadata": {},
   "outputs": [],
   "source": [
    "cmd_l = sim.UserCommands(use_instrument=\"METIS\", set_modes=[\"img_lm\"])"
   ]
  },
  {
   "cell_type": "markdown",
   "metadata": {},
   "source": [
    "The default filter is L':"
   ]
  },
  {
   "cell_type": "code",
   "execution_count": null,
   "metadata": {},
   "outputs": [],
   "source": [
    "cmd_l[\"!OBS.filter_name\"]"
   ]
  },
  {
   "cell_type": "code",
   "execution_count": null,
   "metadata": {},
   "outputs": [],
   "source": [
    "metis_l = sim.OpticalTrain(cmd_l)"
   ]
  },
  {
   "cell_type": "code",
   "execution_count": null,
   "metadata": {},
   "outputs": [],
   "source": [
    "metis_l['detector_linearity'].include = False"
   ]
  },
  {
   "cell_type": "code",
   "execution_count": null,
   "metadata": {},
   "outputs": [],
   "source": [
    "metis_l.observe(src, update=True)"
   ]
  },
  {
   "cell_type": "markdown",
   "metadata": {},
   "source": [
    "For the investigation of science cases, it should mostly be sufficient to set DIT and NDIT to represent the entire observation in one go."
   ]
  },
  {
   "cell_type": "code",
   "execution_count": null,
   "metadata": {},
   "outputs": [],
   "source": [
    "metis_l.cmds['!OBS.dit'] = 0.040   # MINDIT of H2RG: 40 ms\n",
    "metis_l.cmds['!OBS.ndit'] = 3600"
   ]
  },
  {
   "cell_type": "code",
   "execution_count": null,
   "metadata": {},
   "outputs": [],
   "source": [
    "hdu_tot = metis_l.readout()[0]"
   ]
  },
  {
   "cell_type": "code",
   "execution_count": null,
   "metadata": {},
   "outputs": [],
   "source": [
    "plt.imshow(hdu_tot[1].data[750:1300, 750:1300], origin='lower', norm=LogNorm())"
   ]
  },
  {
   "cell_type": "markdown",
   "metadata": {},
   "source": [
    "It is possible to simulate dithered observations using the `.shift()` method of the source object. Note that this alters the source object, so any shift is relative to the current position."
   ]
  },
  {
   "cell_type": "code",
   "execution_count": null,
   "metadata": {},
   "outputs": [],
   "source": [
    "metis_l.cmds['!OBS.dit'] = 0.040\n",
    "metis_l.cmds['!OBS.ndit'] = 600"
   ]
  },
  {
   "cell_type": "code",
   "execution_count": null,
   "metadata": {},
   "outputs": [],
   "source": [
    "hdu_1 = metis_l.readout(src)[0]"
   ]
  },
  {
   "cell_type": "code",
   "execution_count": null,
   "metadata": {},
   "outputs": [],
   "source": [
    "src.shift(dx=1., dy=0.)\n",
    "metis_l.observe(src, update=True)\n",
    "hdu_2 = metis_l.readout(src)[0]"
   ]
  },
  {
   "cell_type": "code",
   "execution_count": null,
   "metadata": {},
   "outputs": [],
   "source": [
    "src.shift(dx=0., dy=1.)\n",
    "metis_l.observe(src, update=True)\n",
    "hdu_3 = metis_l.readout(src)[0]"
   ]
  },
  {
   "cell_type": "code",
   "execution_count": null,
   "metadata": {},
   "outputs": [],
   "source": [
    "vmin, vmax = np.median(hdu_1[1].data), np.max(hdu_1[1].data)\n",
    "\n",
    "fig, axes = plt.subplots(1, 3, figsize=(12, 4))\n",
    "axes[0].imshow(hdu_1[1].data[750:1500, 750:1500], origin='lower', vmin=vmin, vmax=vmax, norm=LogNorm())\n",
    "axes[1].imshow(hdu_2[1].data[750:1500, 750:1500], origin='lower', vmin=vmin, vmax=vmax, norm=LogNorm())\n",
    "axes[2].imshow(hdu_3[1].data[750:1500, 750:1500], origin='lower', vmin=vmin, vmax=vmax, norm=LogNorm())"
   ]
  }
 ],
 "metadata": {
  "kernelspec": {
   "display_name": "Python 3",
   "language": "python",
   "name": "python3"
  },
  "language_info": {
   "codemirror_mode": {
    "name": "ipython",
    "version": 3
   },
   "file_extension": ".py",
   "mimetype": "text/x-python",
   "name": "python",
   "nbconvert_exporter": "python",
   "pygments_lexer": "ipython3",
   "version": "3.9.2"
  }
 },
 "nbformat": 4,
 "nbformat_minor": 4
}
