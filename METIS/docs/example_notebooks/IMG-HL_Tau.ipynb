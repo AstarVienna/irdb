{
 "cells": [
  {
   "cell_type": "markdown",
   "metadata": {},
   "source": [
    "# Imaging observations of HL Tau"
   ]
  },
  {
   "cell_type": "markdown",
   "metadata": {},
   "source": [
    "The purpose of this notebook is to show how to use a FITS image as input to create a `Source` object for imaging observations with METIS. We work with an ALMA 233 GHz image of HL Tau, pretending that this is the structure of the object in the mid-infrared. It will be joined to a very simple spectrum. The image is already prepared such that pixel values represent Jy/pixel in the observed band."
   ]
  },
  {
   "cell_type": "code",
   "execution_count": null,
   "metadata": {},
   "outputs": [],
   "source": [
    "import os\n",
    "import numpy as np\n",
    "from astropy.io import fits\n",
    "from astropy import units as u\n",
    "from astropy.wcs import WCS\n",
    "from synphot import SourceSpectrum\n",
    "from synphot.models import Empirical1D, ConstFlux1D"
   ]
  },
  {
   "cell_type": "code",
   "execution_count": null,
   "metadata": {},
   "outputs": [],
   "source": [
    "from matplotlib import pyplot as plt\n",
    "from matplotlib.colors import LogNorm\n",
    "%matplotlib inline"
   ]
  },
  {
   "cell_type": "code",
   "execution_count": null,
   "metadata": {},
   "outputs": [],
   "source": [
    "import scopesim as sim"
   ]
  },
  {
   "cell_type": "code",
   "execution_count": null,
   "metadata": {},
   "outputs": [],
   "source": [
    "sim.bug_report()"
   ]
  },
  {
   "cell_type": "markdown",
   "metadata": {},
   "source": [
    "To simulate observations with METIS, the instrument packages for METIS, the ELT, and Armazones are required. The packages are downloaded from the server and installed into sub-directory `inst_pkgs` in the current working directory."
   ]
  },
  {
   "cell_type": "code",
   "execution_count": null,
   "metadata": {},
   "outputs": [],
   "source": [
    "sim.download_package(['instruments/METIS', 'telescopes/ELT', 'locations/Armazones'])"
   ]
  },
  {
   "cell_type": "markdown",
   "metadata": {},
   "source": [
    "## Creating a source object from an image and a spectrum"
   ]
  },
  {
   "cell_type": "markdown",
   "metadata": {},
   "source": [
    "The image that we use is `HL_Tau_prep_for_Scopesim.fits`. This has been derived from `HLTau_B6cont_mscale_ap.image.fits`, which was retrieved from the ESO Science archive. The main step in preparing this file was a rescaling of the image values such that they directly represent flux in Jy per pixel (the flux scale was arbitrarily set such that the average over the first ring corresponds to 0.01 Jy/arcsec2). The image has a pixel scale of 5 mas, which was retained.  "
   ]
  },
  {
   "cell_type": "code",
   "execution_count": null,
   "metadata": {},
   "outputs": [],
   "source": [
    "input_hdul = fits.open(\"HL_Tau_prep_for_Scopesim.fits\")"
   ]
  },
  {
   "cell_type": "markdown",
   "metadata": {},
   "source": [
    "The header contains the information necessary for Scopesim, a WCS and the `BUNIT` keyword that gives the units of the pixel values. Scopesim mainly needs the `CDELT` keywords (or the `CD` matrix if present), which contain the pixel scale of the input image. The reference coordinates `CRVAL` have been set to zero as other values may confuse Scopesim at this stage."
   ]
  },
  {
   "cell_type": "code",
   "execution_count": null,
   "metadata": {},
   "outputs": [],
   "source": [
    "input_hdul[1].header"
   ]
  },
  {
   "cell_type": "markdown",
   "metadata": {},
   "source": [
    "There are several ways to instantiate a `Source` object in ScopeSim. In the present case, we provide an image (given as a FITS `HDU`) and stipulate that an image value of 1 corresponds to 1 Jy."
   ]
  },
  {
   "cell_type": "code",
   "execution_count": null,
   "metadata": {},
   "outputs": [],
   "source": [
    "src = sim.Source(image_hdu=input_hdul[1], flux=1*u.Jy)"
   ]
  },
  {
   "cell_type": "markdown",
   "metadata": {},
   "source": [
    "## L-band observations of the source"
   ]
  },
  {
   "cell_type": "markdown",
   "metadata": {},
   "source": [
    "The spectrum of our source object was defined on a wavelength range that makes the source immediately suitable for L-band observations. We have to set up the instrument from scratch:"
   ]
  },
  {
   "cell_type": "code",
   "execution_count": null,
   "metadata": {},
   "outputs": [],
   "source": [
    "cmd_l = sim.UserCommands(use_instrument=\"METIS\", set_modes=[\"img_lm\"])"
   ]
  },
  {
   "cell_type": "markdown",
   "metadata": {},
   "source": [
    "The default filter is L':"
   ]
  },
  {
   "cell_type": "code",
   "execution_count": null,
   "metadata": {},
   "outputs": [],
   "source": [
    "cmd_l[\"!OBS.filter_name\"]"
   ]
  },
  {
   "cell_type": "markdown",
   "metadata": {},
   "source": [
    "A different filter could be selected by setting this parameter. Parameters can also be set by giving a properties dictionary, e.g:\n",
    "```python\n",
    "cmd_l = sim.UserCommands(use_instrument=\"METIS\", set_modes=[\"img_lm\"],\n",
    "                         properties={\"!OBS.filter_name\": \"Mp\", \"!OBS.exptime\": 100.})\n",
    "```\n",
    "In this example, we'll stick to the L' filter and set the exposure time directly in the `readout()` commands."
   ]
  },
  {
   "cell_type": "markdown",
   "metadata": {},
   "source": [
    "We will now build the `OpticalTrain` (which includes atmosphere, telescope and instrument) and `observe` the source. "
   ]
  },
  {
   "cell_type": "code",
   "execution_count": null,
   "metadata": {},
   "outputs": [],
   "source": [
    "metis_l = sim.OpticalTrain(cmd_l)"
   ]
  },
  {
   "cell_type": "code",
   "execution_count": null,
   "metadata": {},
   "outputs": [],
   "source": [
    "metis_l.observe(src, update=True)"
   ]
  },
  {
   "cell_type": "markdown",
   "metadata": {},
   "source": [
    "The `observe` command creates the ideal image that arrives at the detector focal plane. Photon noise and detector noise are created by the `readout` command, which can be applied several times. In this example we read out with two different exposure times. The exposure time is split automatically into DITs such that the detector is not saturated."
   ]
  },
  {
   "cell_type": "code",
   "execution_count": null,
   "metadata": {},
   "outputs": [],
   "source": [
    "result_10 = metis_l.readout(exptime=10.)[0]\n",
    "print(\"----\")\n",
    "result_100 = metis_l.readout(exptime=100.)[0]"
   ]
  },
  {
   "cell_type": "markdown",
   "metadata": {},
   "source": [
    "`readout` creates a list of HDU lists (a list of multi-extension fits files). In this example the list contains a single HDU list, which we have already extracted by adding `[0]` above. The detector image is in the first extension of the HDU list. In the following cells we display (sections of) the detector images, with the input image for comparison, and then save the results to fits files."
   ]
  },
  {
   "cell_type": "code",
   "execution_count": null,
   "metadata": {},
   "outputs": [],
   "source": [
    "plt.figure(figsize=(15, 5))\n",
    "plt.subplot(131)\n",
    "plt.imshow(input_hdul[1].data[520:1160, 483:1123], origin='lower', vmin=0, vmax=5e-7,\n",
    "          extent=(-1.6, 1.6, -1.6, 1.6))\n",
    "plt.xlabel(\"[arcsec]\")\n",
    "plt.ylabel(\"[arcsec]\")\n",
    "plt.title(\"Input image\")\n",
    "plt.subplot(132)\n",
    "plt.imshow(result_10[1].data[768:1352, 732:1316], origin='lower', extent=(-1.6, 1.6, -1.6, 1.6))\n",
    "plt.xlabel(\"[arcsec]\")\n",
    "plt.ylabel(\"[arcsec]\")\n",
    "plt.title(r\"Scopesim simulation, $T_\\mathrm{exp} = 10\\,\\mathrm{s}$\")\n",
    "plt.subplot(133)\n",
    "plt.imshow(result_100[1].data[768:1352, 732:1316], origin='lower', extent=(-1.6, 1.6, -1.6, 1.6))\n",
    "plt.xlabel(\"[arcsec]\")\n",
    "plt.ylabel(\"[arcsec]\")\n",
    "plt.title(r\"Scopesim simulation, $T_\\mathrm{exp} = 100\\,\\mathrm{s}$\");"
   ]
  },
  {
   "cell_type": "code",
   "execution_count": null,
   "metadata": {},
   "outputs": [],
   "source": [
    "result_10.writeto(\"hl_tau_img_l_10s.fits\", overwrite=True)\n",
    "result_100.writeto(\"hl_tau_img_l_100s.fits\", overwrite=True)"
   ]
  },
  {
   "cell_type": "markdown",
   "metadata": {},
   "source": [
    "## N-band observation of the source"
   ]
  },
  {
   "cell_type": "markdown",
   "metadata": {},
   "source": [
    "We set up the instrument for N-band imaging, the total requested exposure time is set to 3600 s."
   ]
  },
  {
   "cell_type": "code",
   "execution_count": null,
   "metadata": {},
   "outputs": [],
   "source": [
    "cmd_n = sim.UserCommands(use_instrument='METIS', set_modes=['img_n'], \n",
    "                        properties={\"!OBS.exptime\": 3600})"
   ]
  },
  {
   "cell_type": "markdown",
   "metadata": {},
   "source": [
    "The default filter is N2. As before it could be changed by modifying the configuration keyword"
   ]
  },
  {
   "cell_type": "code",
   "execution_count": null,
   "metadata": {},
   "outputs": [],
   "source": [
    "cmd_n['!OBS.filter_name']"
   ]
  },
  {
   "cell_type": "markdown",
   "metadata": {},
   "source": [
    "The instrument itself (the `OpticalTrain`), including atmosphere and telescope, is built by"
   ]
  },
  {
   "cell_type": "code",
   "execution_count": null,
   "metadata": {},
   "outputs": [],
   "source": [
    "metis_n = sim.OpticalTrain(cmd_n)"
   ]
  },
  {
   "cell_type": "markdown",
   "metadata": {},
   "source": [
    "The list of \"effects\" in the `OpticalTrain` can be accessed by `metis_n.effects` (the method `show_in_notebook` adds some eye candy for display in this jupyter notebook). The effects that are actually applied are those with `included=True`, the others are ignored. Note that there are effects that serve the same purpose albeit in different ways. For example, both `armazones_atmo_skycalc_ter_curve` and `armazones_atmo_default_ter_curve` provide atmospheric absorption and emission. The first effect downloads the data from ESO's skycalc server; the second effect uses default data included in the instrument package. "
   ]
  },
  {
   "cell_type": "code",
   "execution_count": null,
   "metadata": {},
   "outputs": [],
   "source": [
    "metis_n.effects.show_in_notebook()"
   ]
  },
  {
   "cell_type": "markdown",
   "metadata": {},
   "source": [
    "We can now \"observe\" the source. This command creates the ideal image just in front of the detector."
   ]
  },
  {
   "cell_type": "code",
   "execution_count": null,
   "metadata": {},
   "outputs": [],
   "source": [
    "metis_n.observe(src, update=True)"
   ]
  },
  {
   "cell_type": "markdown",
   "metadata": {},
   "source": [
    "The N band configuration of METIS includes a detector effect `ChopNodCombiner`. By default, this effect is switched off so that the readout corresponds to a staring observation, which should be sufficient for most science applications. \n",
    "When the effect is switched on it creates four detector images with chopping and nodding offsets and combines them into a chop-nod image with positive and negative beam images. This corresponds to the primary data product of the METIS data reduction pipeline. \n",
    "The default pattern is perpendicular chopping and nodding with"
   ]
  },
  {
   "cell_type": "code",
   "execution_count": null,
   "metadata": {},
   "outputs": [],
   "source": [
    "metis_n['chopnod'].include = True\n",
    "print(\"Chopping:\", metis_n.cmds['!OBS.chop_offsets'])\n",
    "print(\"Nodding: \", metis_n.cmds['!OBS.nod_offsets'])"
   ]
  },
  {
   "cell_type": "markdown",
   "metadata": {},
   "source": [
    "The exposure time given to the `readout()` method is the integration time on one position. With `exptime=3600`, we therefore get a total integration time of 14400 s:"
   ]
  },
  {
   "cell_type": "code",
   "execution_count": null,
   "metadata": {},
   "outputs": [],
   "source": [
    "outhdul_perpendicular = metis_n.readout(exptime=3600)[0]"
   ]
  },
  {
   "cell_type": "code",
   "execution_count": null,
   "metadata": {},
   "outputs": [],
   "source": [
    "ndit = metis_n.cmds['!OBS.ndit']\n",
    "dit = metis_n.cmds['!OBS.dit']\n",
    "outhdul_perpendicular[0].header['DIT'] = dit\n",
    "outhdul_perpendicular[0].header['NDIT'] = ndit * 4\n",
    "outhdul_perpendicular[0].header['EXPTIME'] = 4 * dit * ndit\n",
    "outhdul_perpendicular.writeto('hl_tau_metis_n_img_perpendicular.fits', overwrite=True)"
   ]
  },
  {
   "cell_type": "code",
   "execution_count": null,
   "metadata": {},
   "outputs": [],
   "source": [
    "fig = plt.figure(figsize=(10, 8))\n",
    "plt.imshow(outhdul_perpendicular[1].data[750:1750, 750:1750], origin='lower', extent=(750, 1750, 750, 1750))\n",
    "plt.colorbar();"
   ]
  },
  {
   "cell_type": "markdown",
   "metadata": {},
   "source": [
    "The following cell combines the four beams into a single image. The chop/nod offsets were 3 arcsec, the N-band pixel scale is 6.79 mas."
   ]
  },
  {
   "cell_type": "code",
   "execution_count": null,
   "metadata": {},
   "outputs": [],
   "source": [
    "image = outhdul_perpendicular[1].data\n",
    "shift = int(3 / 0.00679)\n",
    "xmin, xmax, ymin, ymax = 823, 1232, 853, 1253\n",
    "beam_1 = image[ymin:ymax, xmin:xmax]\n",
    "beam_2 = image[ymin:ymax, xmin+shift:xmax+shift]\n",
    "beam_3 = image[ymin+shift:ymax+shift, xmin:xmax]\n",
    "beam_4 = image[ymin+shift:ymax+shift, xmin+shift:xmax+shift]\n",
    "final_img = beam_1 - beam_2 - beam_3 + beam_4"
   ]
  },
  {
   "cell_type": "code",
   "execution_count": null,
   "metadata": {},
   "outputs": [],
   "source": [
    "plt.figure(figsize=(10, 8))\n",
    "hw_arcsec = (xmax - xmin) * 0.00679\n",
    "plt.imshow(final_img, origin='lower', extent=(-hw_arcsec, hw_arcsec, -hw_arcsec, hw_arcsec))\n",
    "plt.xlabel(\"[arcsec]\")\n",
    "plt.ylabel(\"[arcsec]\")\n",
    "plt.colorbar();"
   ]
  }
 ],
 "metadata": {
  "kernelspec": {
   "display_name": "Python 3",
   "language": "python",
   "name": "python3"
  },
  "language_info": {
   "codemirror_mode": {
    "name": "ipython",
    "version": 3
   },
   "file_extension": ".py",
   "mimetype": "text/x-python",
   "name": "python",
   "nbconvert_exporter": "python",
   "pygments_lexer": "ipython3",
   "version": "3.9.7"
  }
 },
 "nbformat": 4,
 "nbformat_minor": 4
}
