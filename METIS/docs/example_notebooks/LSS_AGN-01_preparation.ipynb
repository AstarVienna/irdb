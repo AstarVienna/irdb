{
 "cells": [
  {
   "cell_type": "markdown",
   "metadata": {},
   "source": [
    "This notebook describes how to prepare a data cube for observation with Scopesim. The cube has been provided by Marko Stalevski and contains the simulation of an AGN. It is sampled on an irregular wavelength grid; Scopesim can deal with that but the data have to be converted to a form that Scopesim can understand. The notebook also shows how to rotate the data cube to provide interesting slit orientations.  "
   ]
  },
  {
   "cell_type": "code",
   "execution_count": null,
   "metadata": {},
   "outputs": [],
   "source": [
    "import numpy as np\n",
    "from scipy.interpolate import RectBivariateSpline\n",
    "\n",
    "from astropy.io import ascii as ioascii   # \"ascii\" is a python builtin, so we rename the module\n",
    "from astropy.io import fits\n",
    "from astropy.wcs import WCS\n",
    "\n",
    "from matplotlib import pyplot as plt\n",
    "from matplotlib.colors import LogNorm\n",
    "%matplotlib inline"
   ]
  },
  {
   "cell_type": "code",
   "execution_count": null,
   "metadata": {
    "scrolled": true
   },
   "outputs": [],
   "source": [
    "import scopesim as sim\n",
    "sim.bug_report()\n",
    "\n",
    "# Edit this path if you have a custom install directory, otherwise comment it out. [For ReadTheDocs only]\n",
    "sim.rc.__config__[\"!SIM.file.local_packages_path\"] = \"../../../\""
   ]
  },
  {
   "cell_type": "markdown",
   "metadata": {},
   "source": [
    "# Preparing the data cube for Scopesim\n",
    "\n",
    "The data used in this notebook have to be downloaded from the Scopesim server. If you already have them, make sure that the files are in the current working directory; you can then skip the download step.\n",
    "\n",
    "The data come in two files: a FITS file that contains the data cube and a text file that contains amongst other things the wavelength vector on which the cube has been sampled. The wavelength vector has to be appended to the FITS file as a binary table extension following the prescription of Greisen et al. (2006, A&A 446, 747). "
   ]
  },
  {
   "cell_type": "code",
   "execution_count": null,
   "metadata": {},
   "outputs": [],
   "source": [
    "fitsfile = \"tor_oa20_t9-5sg_Rout1.5_Rin0.13_p0__hypSh_oa40-50_tV-0.01g_D40_a0.2-0.4_tlt0_i90_total.fits\"\n",
    "sedfile = \"tor_oa20_t9-5sg_Rout1.5_Rin0.13_p0__hypSh_oa40-50_tV-0.01g_D40_a0.2-0.4_tlt0_i90_sed.dat\"\n",
    "\n",
    "fitsfile, sedfile = sim.download_example_data(fitsfile, sedfile)"
   ]
  },
  {
   "cell_type": "code",
   "execution_count": null,
   "metadata": {},
   "outputs": [],
   "source": [
    "wave = np.array(ioascii.read(sedfile)['col1'])\n",
    "nwave = wave.shape[0]"
   ]
  },
  {
   "cell_type": "code",
   "execution_count": null,
   "metadata": {},
   "outputs": [],
   "source": [
    "plt.figure(figsize=(12, 3.5))\n",
    "plt.subplot(121)\n",
    "plt.plot(wave, 'k-')\n",
    "plt.xlabel(\"bin\")\n",
    "plt.ylabel(\"Wavelength [um]\")\n",
    "plt.title(\"Full wavelength range\")\n",
    "plt.semilogy();\n",
    "\n",
    "plt.subplot(122)\n",
    "plt.plot(wave, 'ko-')\n",
    "plt.xlabel(\"bin\")\n",
    "plt.ylabel(\"Wavelength [um]\")\n",
    "plt.fill_between([0, nwave], 2.9, 4.2, color='orange', label=\"L band\", alpha=0.5)\n",
    "plt.fill_between([0, nwave], 4.5, 5.2, color='green', label=\"M band\", alpha=0.5)\n",
    "plt.fill_between([0, nwave], 7.5, 13.5, color='red', label=\"N band\", alpha=0.5)\n",
    "plt.xlim(50, 100)\n",
    "plt.ylim(2.5, 18)\n",
    "plt.semilogy()\n",
    "plt.title(\"Zoom on METIS bands\")\n",
    "plt.legend();"
   ]
  },
  {
   "cell_type": "markdown",
   "metadata": {},
   "source": [
    "It can be seen that wavelengths are on logarithmic grids with a higher sampling rate across the N band. It would be possible to extract the just that part of the cube that covers the N band and construct a standard WCS of type `CTYPE3 = 'WAVE-LOG'` for that. We can also use the entire cube and construct a tabular WCS (`CTYPE3 = 'WAVE-TAB'`)."
   ]
  },
  {
   "cell_type": "markdown",
   "metadata": {},
   "source": [
    "# Tabular WCS"
   ]
  },
  {
   "cell_type": "code",
   "execution_count": null,
   "metadata": {},
   "outputs": [],
   "source": [
    "hdulist = fits.open(fitsfile)\n",
    "hdulist[0].header"
   ]
  },
  {
   "cell_type": "markdown",
   "metadata": {},
   "source": [
    "The cube actually contains $\\lambda f_\\lambda$ in units of W/m2/arcsec2. Scopesim works on $f_\\lambda$, so we have to divide the cube data by wavelength. This changes the units to W/m2/um/arcsec2: "
   ]
  },
  {
   "cell_type": "code",
   "execution_count": null,
   "metadata": {},
   "outputs": [],
   "source": [
    "hdulist[0].data /= wave[:, None, None]      # broadcast wavelength vector to pseudo-3D structure\n",
    "hdulist[0].header['BUNIT'] = 'W/m2/um/arcsec2'"
   ]
  },
  {
   "cell_type": "markdown",
   "metadata": {},
   "source": [
    "We create the wavelength lookup table following Greisen et al. (2006). The binary table has a single column, which we call \"WAVELENGTH\", with a single row that contains the wavelength array of length `nwave`. The binary table HDU is called \"WCS-TAB\" and is appended to the HDU list."
   ]
  },
  {
   "cell_type": "code",
   "execution_count": null,
   "metadata": {},
   "outputs": [],
   "source": [
    "wavecol = fits.Column(name=\"WAVELENGTH\", array=np.array([wave]),\n",
    "                     format=f\"{nwave}E\", unit=\"um\")\n",
    "wave_hdu = fits.BinTableHDU.from_columns([wavecol], name=\"WCS-TAB\")\n",
    "hdulist.append(wave_hdu)"
   ]
  },
  {
   "cell_type": "markdown",
   "metadata": {},
   "source": [
    "The third dimension of the WCS needs to be declared in the cube hdu as type `WAVE-TAB`. The keywords `PS3_0` and `PS3_1` point to the table extension and the column in the table, respectively.  "
   ]
  },
  {
   "cell_type": "code",
   "execution_count": null,
   "metadata": {},
   "outputs": [],
   "source": [
    "hdulist[0].header[\"CTYPE3\"] = \"WAVE-TAB\", \"Coordinate type\"\n",
    "hdulist[0].header[\"CUNIT3\"] = \"um\", \"Coordinate units\"\n",
    "hdulist[0].header[\"PS3_0\"] = \"WCS-TAB\", \"Coord table extension name\"\n",
    "hdulist[0].header[\"PS3_1\"] = \"WAVELENGTH\", \"Coord table column name\""
   ]
  },
  {
   "cell_type": "markdown",
   "metadata": {},
   "source": [
    "The spatial WCS as it appears in the original file is not useful. In fact the `CDELT` values are given in units of parsec, whereas Scopesim expects angular units. The model represents the Circinus galaxy, which is at a distance of 4.2 Mpc, which results in a scale of 0.049 pc/arcsec. For simplicity, the type of the WCS is declared as 'LINEAR', thus neglecting the nonlinear part of the more common projections. "
   ]
  },
  {
   "cell_type": "code",
   "execution_count": null,
   "metadata": {},
   "outputs": [],
   "source": [
    "hdulist[0].header['CTYPE1'] = 'LINEAR'\n",
    "hdulist[0].header['CTYPE2'] = 'LINEAR'\n",
    "hdulist[0].header['CDELT1'] *= 0.049\n",
    "hdulist[0].header['CDELT2'] *= 0.049\n",
    "hdulist[0].header['CUNIT1'] = 'arcsec'\n",
    "hdulist[0].header['CUNIT2'] = 'arcsec'"
   ]
  },
  {
   "cell_type": "code",
   "execution_count": null,
   "metadata": {},
   "outputs": [],
   "source": [
    "hdulist.writeto(\"AGN_sim_prepared.fits\", overwrite=True)"
   ]
  },
  {
   "cell_type": "markdown",
   "metadata": {},
   "source": [
    "# Visual inspection of the cube\n",
    "We first look at a plane of cube somewhere in the N-band, then produce a through-slit image in the N2-band using the widest slit available in METIS."
   ]
  },
  {
   "cell_type": "code",
   "execution_count": null,
   "metadata": {},
   "outputs": [],
   "source": [
    "plt.figure(figsize=(12, 10))\n",
    "plt.imshow(hdulist[0].data[75,] + 1e-14, origin='lower', norm=LogNorm())  # 1e-14 added to avoid zeros in LogNorm\n",
    "plt.colorbar(label=r\"$\\mathrm{W\\,m^{-2}\\,\\mu m^{-1}\\,arcsec^{-2}}$\")\n",
    "plt.text(30, 570, r\"$\\lambda = {:.2}\\,\\mathrm{{\\mu m}}$\".format(wave[75]), color='white', size='large');"
   ]
  },
  {
   "cell_type": "code",
   "execution_count": null,
   "metadata": {},
   "outputs": [],
   "source": [
    "with fits.open(\"AGN_sim_prepared.fits\") as cube_hdul:\n",
    "    src = sim.Source(cube=cube_hdul)"
   ]
  },
  {
   "cell_type": "code",
   "execution_count": null,
   "metadata": {},
   "outputs": [],
   "source": [
    "cmd = sim.UserCommands(use_instrument=\"METIS\", set_modes=[\"img_n\"], \n",
    "                      properties={\"!OBS.slit\": \"E-114_2\"})\n",
    "metis = sim.OpticalTrain(cmd)\n",
    "\n",
    "metis.observe(src)"
   ]
  },
  {
   "cell_type": "code",
   "execution_count": null,
   "metadata": {},
   "outputs": [],
   "source": [
    "plt.figure(figsize=(15, 3))\n",
    "plt.imshow(metis.image_planes[0].data[1004:1044, 724:1324], norm=LogNorm(vmin=1.23e8),\n",
    "          extent=(724, 1324, 1004, 1044))\n",
    "metis.image_planes[0].data[1024, 500]\n",
    "plt.colorbar(location='bottom', aspect=120)\n",
    "plt.title(\"Through slit image\");"
   ]
  },
  {
   "cell_type": "markdown",
   "metadata": {},
   "source": [
    "# Rotating the field\n",
    "The METIS slit is always aligned with the x-axis. For more interesting slit orientations, we actually have to rotate the input cube. We pick an angle of 50 degrees (counterclockwise from the positive x-direction)."
   ]
  },
  {
   "cell_type": "code",
   "execution_count": null,
   "metadata": {},
   "outputs": [],
   "source": [
    "angle = 50 * np.pi / 180    # convert from degrees to radians"
   ]
  },
  {
   "cell_type": "markdown",
   "metadata": {},
   "source": [
    "We need two WCSs: `wcs_orig` is the WCS of the original image, `wcs_rot` will be modified to represent the rotated image. To that end, we define the rotation matrix (`PCi_j`) and keep the pixel scales in `CDELTi`."
   ]
  },
  {
   "cell_type": "code",
   "execution_count": null,
   "metadata": {},
   "outputs": [],
   "source": [
    "wcs_orig = WCS(\"AGN_sim_prepared.fits\").sub(2)\n",
    "wcs_rot = WCS(\"AGN_sim_prepared.fits\").sub(2)"
   ]
  },
  {
   "cell_type": "code",
   "execution_count": null,
   "metadata": {},
   "outputs": [],
   "source": [
    "wcs_rot.wcs.pc = [[np.cos(angle), np.sin(angle)], [-np.sin(angle), np.cos(angle)]]"
   ]
  },
  {
   "cell_type": "markdown",
   "metadata": {},
   "source": [
    "Now define the interpolation function on the original image in terms of world coordinates at the pixel positions. "
   ]
  },
  {
   "cell_type": "code",
   "execution_count": null,
   "metadata": {},
   "outputs": [],
   "source": [
    "i_orig = np.arange(hdulist[0].header['NAXIS1'])\n",
    "j_orig = np.arange(hdulist[0].header['NAXIS2'])\n",
    "x_orig, y_orig = wcs_orig.all_pix2world(i_orig, j_orig, 0) "
   ]
  },
  {
   "cell_type": "code",
   "execution_count": null,
   "metadata": {},
   "outputs": [],
   "source": [
    "interp = RectBivariateSpline(y_orig, x_orig, hdulist[0].data[75,], kx=1, ky=1)"
   ]
  },
  {
   "cell_type": "markdown",
   "metadata": {},
   "source": [
    "On the rotated image, world coordinates (x,y) are not aligned with pixel coordinates (i,j), and we need to work with 2D images rather than 1D vectors. We keep the size of the original image."
   ]
  },
  {
   "cell_type": "code",
   "execution_count": null,
   "metadata": {},
   "outputs": [],
   "source": [
    "i_rot, j_rot = np.meshgrid(i_orig, j_orig)"
   ]
  },
  {
   "cell_type": "code",
   "execution_count": null,
   "metadata": {},
   "outputs": [],
   "source": [
    "x_rot, y_rot = wcs_rot.all_pix2world(i_rot, j_rot, 0)"
   ]
  },
  {
   "cell_type": "code",
   "execution_count": null,
   "metadata": {},
   "outputs": [],
   "source": [
    "plt.figure(figsize=(10,4))\n",
    "plt.subplot(121)\n",
    "plt.imshow(x_rot, origin='lower')\n",
    "cs = plt.contour(x_rot, origin='lower', colors='k')\n",
    "plt.clabel(cs)\n",
    "plt.subplot(122)\n",
    "plt.imshow(y_rot, origin='lower')\n",
    "cs = plt.contour(y_rot, origin='lower', colors='k')\n",
    "plt.clabel(cs);"
   ]
  },
  {
   "cell_type": "code",
   "execution_count": null,
   "metadata": {},
   "outputs": [],
   "source": [
    "imgrot = interp(y_rot, x_rot, grid=False)"
   ]
  },
  {
   "cell_type": "code",
   "execution_count": null,
   "metadata": {},
   "outputs": [],
   "source": [
    "plt.figure(figsize=(12, 10))\n",
    "plt.imshow(imgrot + 1e-14, origin='lower', norm=LogNorm())    # 1e-14 added to avoid zeros in LogNorm\n",
    "plt.colorbar(label=r\"$\\mathrm{W\\,m^{-2}\\,\\mu m^{-1}\\,arcsec^{-2}}$\")\n",
    "plt.text(30, 570, r\"$\\lambda = {:.2}\\,\\mathrm{{\\mu m}}$\".format(wave[75]), color='white', size='large');"
   ]
  },
  {
   "cell_type": "markdown",
   "metadata": {},
   "source": [
    "Apply the procedure to the entire cube:"
   ]
  },
  {
   "cell_type": "code",
   "execution_count": null,
   "metadata": {},
   "outputs": [],
   "source": [
    "for iplane, plane in enumerate(hdulist[0].data):\n",
    "    interp = RectBivariateSpline(y_orig, x_orig, plane, kx=1, ky=1)\n",
    "    hdulist[0].data[iplane,] = interp(y_rot, x_rot, grid=False)"
   ]
  },
  {
   "cell_type": "code",
   "execution_count": null,
   "metadata": {},
   "outputs": [],
   "source": [
    "hdulist.writeto(\"AGN_sim_rotated_50.fits\", overwrite=True)"
   ]
  },
  {
   "cell_type": "markdown",
   "metadata": {},
   "source": [
    "From this file, we can set up a new `Source` object and simulate the through-slit image."
   ]
  },
  {
   "cell_type": "code",
   "execution_count": null,
   "metadata": {},
   "outputs": [],
   "source": [
    "with fits.open(\"AGN_sim_rotated_50.fits\") as cube_hdul:\n",
    "    src50 = sim.Source(cube=cube_hdul)"
   ]
  },
  {
   "cell_type": "code",
   "execution_count": null,
   "metadata": {},
   "outputs": [],
   "source": [
    "metis.observe(src50, update=True)"
   ]
  },
  {
   "cell_type": "code",
   "execution_count": null,
   "metadata": {},
   "outputs": [],
   "source": [
    "plt.figure(figsize=(15, 3))\n",
    "plt.imshow(metis.image_planes[0].data[1004:1044, 724:1324], norm=LogNorm(vmin=1.23e8),\n",
    "          extent=(724, 1324, 1004, 1044))\n",
    "metis.image_planes[0].data[1024, 500]\n",
    "plt.colorbar(location='bottom', aspect=120)\n",
    "plt.title(\"Through slit image\");"
   ]
  },
  {
   "cell_type": "markdown",
   "metadata": {},
   "source": [
    "The spectroscopic simulation of these sources will be done in a separate notebook, `LSS_AGN-02_simulation.ipynb`."
   ]
  }
 ],
 "metadata": {
  "kernelspec": {
   "display_name": "Python 3 (ipykernel)",
   "language": "python",
   "name": "python3"
  },
  "language_info": {
   "codemirror_mode": {
    "name": "ipython",
    "version": 3
   },
   "file_extension": ".py",
   "mimetype": "text/x-python",
   "name": "python",
   "nbconvert_exporter": "python",
   "pygments_lexer": "ipython3",
   "version": "3.11.4"
  }
 },
 "nbformat": 4,
 "nbformat_minor": 4
}
