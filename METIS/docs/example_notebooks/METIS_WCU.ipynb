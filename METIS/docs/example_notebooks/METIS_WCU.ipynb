{
 "cells": [
  {
   "cell_type": "markdown",
   "id": "35ec9b39-71eb-4eb2-b62a-89e831b375ed",
   "metadata": {},
   "source": [
    "# The METIS-WCU mode in Scopesim"
   ]
  },
  {
   "cell_type": "markdown",
   "id": "eaea6c09",
   "metadata": {},
   "source": [
    "This notebook documents the implementation of the METIS WCU in `Scopesim`. It is largely a stand-alone effect that requires no further `Source` object. In addition to the normal \"sky\" modes there are new wcu modes that combine the WCU with the existing subsystems of METIS. Currently, these are\n",
    "- `wcu_img_lm`\n",
    "- `wcu_img_n`\n",
    "- `wcu_lss_l`\n",
    "- `wcu_lss_m`\n",
    "- `wcu_lss_n`\n",
    "- `wcu_lms`\n",
    "\n",
    "The most basic way to run this mode is as follows\n",
    "```python\n",
    "import scopesim as sim\n",
    "cmd = sim.UserCommands(use_instrument=\"METIS\", set_modes=[\"wcu_lss_m\"])\n",
    "metis = sim.OpticalTrain(cmd)\n",
    "metis.observe()\n",
    "hdul = metis.readout()[0]\n",
    "```\n",
    "However, this sequence will saturate the detector and currently (2025-03-10) throw an error during readout (a header mismatch due to the lack of telescope information). In the following we will go through the sequence and show how to change parameters to get a satisfactory result. We will use `wcu_img_lm` for that purpose."
   ]
  },
  {
   "cell_type": "markdown",
   "id": "c1d5b860-22fc-435b-a555-e85c0db9a113",
   "metadata": {},
   "source": [
    "## Setting up the `OpticalTrain`"
   ]
  },
  {
   "cell_type": "code",
   "execution_count": null,
   "id": "da5d5357",
   "metadata": {},
   "outputs": [],
   "source": [
    "import numpy as np\n",
    "from astropy import units as u"
   ]
  },
  {
   "cell_type": "code",
   "execution_count": null,
   "id": "3c430849",
   "metadata": {},
   "outputs": [],
   "source": [
    "from matplotlib import pyplot as plt\n",
    "%matplotlib inline"
   ]
  },
  {
   "cell_type": "code",
   "execution_count": null,
   "id": "80b3125f-9719-4d1a-8a33-ad05672058c3",
   "metadata": {},
   "outputs": [],
   "source": [
    "import scopesim as sim\n",
    "\n",
    "# Edit this path if you have a custom install directory, otherwise comment it out. [For ReadTheDocs only]\n",
    "sim.rc.__config__[\"!SIM.file.local_packages_path\"] = \"../../../\""
   ]
  },
  {
   "cell_type": "code",
   "execution_count": null,
   "id": "e088736f-9c9e-4fb9-84fb-56a8b681f2be",
   "metadata": {},
   "outputs": [],
   "source": [
    "#sim.download_packages([\"METIS\"])"
   ]
  },
  {
   "cell_type": "code",
   "execution_count": null,
   "id": "0ada4418",
   "metadata": {},
   "outputs": [],
   "source": [
    "cmd = sim.UserCommands(use_instrument=\"METIS\", set_modes=[\"wcu_img_lm\"])"
   ]
  },
  {
   "cell_type": "code",
   "execution_count": null,
   "id": "09e6ae91-9317-4f8a-b64b-19e33688ea09",
   "metadata": {},
   "outputs": [],
   "source": [
    "metis = sim.OpticalTrain(cmd)"
   ]
  },
  {
   "cell_type": "markdown",
   "id": "37a69858-46cf-4141-ba26-b6c113807f5d",
   "metadata": {},
   "source": [
    "Let's have look at the effects that are included in the `OpticalTrain`: "
   ]
  },
  {
   "cell_type": "code",
   "execution_count": null,
   "id": "17290c94-0932-4d61-a5d9-cf270de15d3e",
   "metadata": {},
   "outputs": [],
   "source": [
    "metis.effects.pprint_all()"
   ]
  },
  {
   "cell_type": "markdown",
   "id": "e678d68d-4669-4dd5-bff9-e324a8197528",
   "metadata": {},
   "source": [
    "There are three effects associated with the WCU; these replace the atmosphere and telescope effects that are used in the sky modes. `wcu_relay_optics` is a static effect that describes the mirrors within the WCU and does not need to be modified by most users. `pupil_masks` is used to select a pupil mask; in the full implementation this will affect the PSF, but currently only a flux throughput factor is implemented. We will ignore this effect for the time being.\n",
    "The interesting effect with many user-settable parameters is `wcu_source`. For convenience we will assign a variable to reference it, but all operations below could be done directly to `metis['wcu_source']`. "
   ]
  },
  {
   "cell_type": "code",
   "execution_count": null,
   "id": "aeb2a713-9908-4ec3-8842-201ecc661c47",
   "metadata": {},
   "outputs": [],
   "source": [
    "wcu = metis['wcu_source']"
   ]
  },
  {
   "cell_type": "markdown",
   "id": "9f8aa816-9a2c-49fd-9f6b-463f062afe60",
   "metadata": {},
   "source": [
    "An overview of the setup of the WCU can be obtained with"
   ]
  },
  {
   "cell_type": "code",
   "execution_count": null,
   "id": "564582e0-e249-4e37-953b-0aedffa7479d",
   "metadata": {},
   "outputs": [],
   "source": [
    "print(wcu)"
   ]
  },
  {
   "cell_type": "markdown",
   "id": "df75a8c0-5b85-44e9-983b-46ab679ab85b",
   "metadata": {},
   "source": [
    "As can be seen, the default configuration uses the black-body continuum lamp at a temperature of 1000 Kelvin, with the flux-controlling mask (\"BlackBody aperture\") fully open. No focal-plane mask is inserted, which means that we are observing a flat field. The thermal backgrounds from the integrating sphere and the WCU itself are both set at a temperature of 300 Kelvin, so rather warm compared to typical atmospheric temperatures.\n",
    "No `Source` is required (unlike for most sky observations) and we can create the (noise-less) image plane just ahead of the detector with"
   ]
  },
  {
   "cell_type": "code",
   "execution_count": null,
   "id": "ceb4d333-0f9a-432d-a493-87512fa1b55a",
   "metadata": {},
   "outputs": [],
   "source": [
    "metis.observe()"
   ]
  },
  {
   "cell_type": "code",
   "execution_count": null,
   "id": "045ed1a2-924f-4ab0-970b-4aee69101a8d",
   "metadata": {},
   "outputs": [],
   "source": [
    "plt.imshow(metis.image_planes[0].data, origin='lower')\n",
    "plt.colorbar();"
   ]
  },
  {
   "cell_type": "markdown",
   "id": "3059a608-48c9-4daf-bb1c-1ac14096c9aa",
   "metadata": {},
   "source": [
    "As expected, no structure is seen in the `ImagePlane`. The expected photon flux per pixel is around 7.2e8 photons per second. This flux would saturate the Hawaii2RG detector of the LM imager within a minimum DIT (1.3 seconds in slow mode, 0.04 seconds in fast mode), so a neutral-density filter has to be inserted. Repeating the observation gives a manageable image-plane flux:"
   ]
  },
  {
   "cell_type": "code",
   "execution_count": null,
   "id": "adff2eb6-e359-46da-ad9b-125a71f32b47",
   "metadata": {},
   "outputs": [],
   "source": [
    "metis['nd_filter_wheel'].change_filter(\"ND_OD4\")\n",
    "metis.observe()\n",
    "print(f\"{metis.image_planes[0].data.mean():.2g}\")"
   ]
  },
  {
   "cell_type": "markdown",
   "id": "fc75f237-c61c-4659-b0db-be6a2c661bcc",
   "metadata": {},
   "source": [
    "To make `readout` work, we currently have to turn off the effect that adds keywords to the resulting fits file. Including it would cause failure as it expects keywords related to the telescope, which are not available in WCU mode."
   ]
  },
  {
   "cell_type": "code",
   "execution_count": null,
   "id": "de47de6a-6947-4c9e-ba06-494f7b6c2aa6",
   "metadata": {},
   "outputs": [],
   "source": [
    "metis['common_fits_keywords'].include = False"
   ]
  },
  {
   "cell_type": "code",
   "execution_count": null,
   "id": "b2a3c4c9-a80d-4b90-b996-1a9297a5889a",
   "metadata": {},
   "outputs": [],
   "source": [
    "hdul = metis.readout(exptime=1.3)[0]"
   ]
  },
  {
   "cell_type": "code",
   "execution_count": null,
   "id": "80db43a0-3ac9-43a9-957f-69d765418e51",
   "metadata": {},
   "outputs": [],
   "source": [
    "plt.imshow(hdul[1].data, vmin=92000, vmax=92600)\n",
    "plt.colorbar();\n",
    "print(f\"Mean:               {hdul[1].data.mean():7.1f}\")\n",
    "print(f\"Standard deviation: {hdul[1].data.std(): 7.1f}\")"
   ]
  },
  {
   "cell_type": "markdown",
   "id": "191e31ba-4739-4a09-98f5-b7ab7174eefe",
   "metadata": {},
   "source": [
    "## Changing the black-body temperature\n",
    "\n",
    "The method `.set_temperature` is used to set the temperature of the black-body source as well as the temperatures of the integrating sphere and the ambient temperature of the WCU. The latter two determine the thermal background, the former the actual signal that we want to record. In this illustrative example we remove the backgrounds and see how the temperature affects the signal level."
   ]
  },
  {
   "cell_type": "code",
   "execution_count": null,
   "id": "54daf816-8b52-4ee5-b5e4-a96d587d2277",
   "metadata": {},
   "outputs": [],
   "source": [
    "wcu.set_temperature(is_temp=0*u.K, wcu_temp=0*u.K)\n",
    "temps = np.array([400, 600, 800, 1000, 1200]) * u.K\n",
    "signal = np.zeros(5)\n",
    "for i, temp in enumerate(temps):\n",
    "    wcu.set_temperature(bb_temp=temp)\n",
    "    metis.observe()\n",
    "    signal[i] = metis.image_planes[0].data.mean()\n",
    "\n",
    "plt.plot(temps, signal, 'o')\n",
    "plt.xlabel(\"Black-body temperature [K]\")\n",
    "plt.ylabel(\"Image-plane flux [ph/s/pixel]\");"
   ]
  },
  {
   "cell_type": "markdown",
   "id": "921ea829-9e4a-4a45-be82-7fdc923e07b3",
   "metadata": {},
   "source": [
    "## Using the flux-controlling masks\n",
    "\n",
    "The flux-controlling masks sit in front of the black-body source and control the flux that is entering the integrating sphere. These masks will be used for linearity measurements. It is currently not clear how the diameters of the masks translate to the amount of flux passed through. In the current implementation the method `.set_bb_aperture` accepts a number between 0 and 1 to describe directly the fraction of flux let through (values larger than 1 or less than 0 are clipped to 1 and 0, respectively)."
   ]
  },
  {
   "cell_type": "code",
   "execution_count": null,
   "id": "bd51bac8-afef-4118-876e-a932f860e152",
   "metadata": {},
   "outputs": [],
   "source": [
    "wcu.set_temperature(bb_temp=1000*u.K, is_temp=300*u.K, wcu_temp=300*u.K)\n",
    "bb_ap = np.array([0., 0.2, 0.4, 0.6, 0.8, 1.])\n",
    "signal = np.zeros(6)\n",
    "for i, ap in enumerate(bb_ap):\n",
    "    wcu.set_bb_aperture(ap)\n",
    "    metis.observe()\n",
    "    signal[i] = metis.image_planes[0].data.mean()\n",
    "\n",
    "plt.plot(bb_ap, signal, 'o')\n",
    "plt.xlabel(\"Fraction of flux transmitted into IS\")\n",
    "plt.ylabel(\"Image-plane flux [ph/s/pixel]\");"
   ]
  },
  {
   "cell_type": "markdown",
   "id": "7ee9b0a8-4150-42db-bb2b-1783d106eb06",
   "metadata": {},
   "source": [
    "## Changing the focal-plane mask\n",
    "\n",
    "So far, we have produced flat-field images with the 'open' focal-plane mask. The WCU has masks for a single pinhole and grids of pinholes. These can be applied using the `.set_fpmask` method. This method also allows to rotate and shift the mask (which in METIS would be done with the derotator and the internal chopper, respectively) and rotating the mask (which would be done with the derotator). \n",
    "Note that the design of the grid masks is not yet finished and the design used by Scopesim should be considered illustrative. \n",
    "\n",
    "Information on the currently inserted mask can be obtained with"
   ]
  },
  {
   "cell_type": "code",
   "execution_count": null,
   "id": "e114d7fb-3d6e-4c4c-870a-efda1a5d1227",
   "metadata": {},
   "outputs": [],
   "source": [
    "print(wcu.fpmask)"
   ]
  },
  {
   "cell_type": "code",
   "execution_count": null,
   "id": "64580c71-7d69-4b36-a33c-dbe726d8668d",
   "metadata": {},
   "outputs": [],
   "source": [
    "wcu.set_fpmask(\"grid_lm\", angle=20, shift=(1, 0.5))\n",
    "print(wcu.fpmask)\n",
    "metis.observe()\n",
    "plt.imshow(metis.image_planes[0].data, norm='log', origin='lower')"
   ]
  },
  {
   "cell_type": "markdown",
   "id": "bd69ebb0-a833-4c53-b339-056ce44b49f2",
   "metadata": {},
   "source": [
    "In the example above, the name of a pre-defined mask was used (these are provided in the METIS instrument package as `wcu/fp_mask_*.dat`). To simplify testing of mask designs the method also accepts a valid path to a filename. To create your own mask start by copying one of the existing pinhole or grid masks and enter the hole positions in the `x` and `y` columns (in arcsec using a plate scale of 3.319 mm/arcsec) and hole diameter in the `diam` column (also in arcsec). Note that holes are currently assumed to be non-resolved and are modelled as a single pixel in a 2047 by 2047 image (`diam` scales the brightness of the flux passed through the hole).  "
   ]
  },
  {
   "attachments": {},
   "cell_type": "markdown",
   "id": "5df00c01-d709-4b9c-96ad-a61d3a3371e8",
   "metadata": {},
   "source": [
    "## Changing the lamp\n",
    "\n",
    "In addition to the black-body source (`bb`),  the WCU includes three laser sources. As there is no observing mode that covers more than one of these lasers at a time, the implementation in Scopesim treats all three as a single `laser` lamp with lines in the L, M and N bands. The behaviour of the tunable laser in the M band is currently not clear and the implementation in Scopesim is not much more than a preliminary place holder. To change the lamp use the `.set_lamp` method:\n",
    "```python\n",
    "wcu.set_lamp('laser')\n",
    "```"
   ]
  },
  {
   "cell_type": "markdown",
   "id": "e7ec4b03-aa12-40d9-82e7-c6ddd600f8ad",
   "metadata": {},
   "source": [
    "To show the behaviour we shall switch to the long-slit L-band mode with the grid mask and simulate spectra with both the black-body and the laser sources. To subtract the thermal background emission, we also take an exposure with the black-body source closed."
   ]
  },
  {
   "cell_type": "code",
   "execution_count": null,
   "id": "d6b1ddab-518c-4eb6-9c27-47b525e729a2",
   "metadata": {},
   "outputs": [],
   "source": [
    "cmd = sim.UserCommands(use_instrument='METIS', set_modes=['wcu_lss_l'])\n",
    "metis = sim.OpticalTrain(cmd)\n",
    "wcu = metis['wcu_source']"
   ]
  },
  {
   "cell_type": "code",
   "execution_count": null,
   "id": "9f0ab9ec-13cc-4f84-b059-7a23838f4698",
   "metadata": {},
   "outputs": [],
   "source": [
    "wcu.set_fpmask('grid_lm')\n",
    "print(wcu)\n",
    "metis.observe()\n",
    "implane_bb = metis.image_planes[0].data    # using bb source"
   ]
  },
  {
   "cell_type": "code",
   "execution_count": null,
   "id": "a8eb7f98-6add-45a1-a39d-5729dc56aaa3",
   "metadata": {},
   "outputs": [],
   "source": [
    "wcu.set_bb_aperture(0)\n",
    "print(wcu)\n",
    "metis.observe()\n",
    "implane_off = metis.image_planes[0].data   # background, no source\n",
    "wcu.set_bb_aperture(1)"
   ]
  },
  {
   "cell_type": "code",
   "execution_count": null,
   "id": "facd2021-5d72-4b9a-b34c-8faf2fc29558",
   "metadata": {},
   "outputs": [],
   "source": [
    "wcu.set_lamp('laser')\n",
    "print(wcu)\n",
    "metis.observe()\n",
    "implane_laser = metis.image_planes[0].data   # using laser source"
   ]
  },
  {
   "cell_type": "code",
   "execution_count": null,
   "id": "4009ef14-783e-4a72-932d-fc7495ced5e0",
   "metadata": {},
   "outputs": [],
   "source": [
    "fig, axes = plt.subplots(1, 2, figsize=(10, 10))\n",
    "axes[0].imshow(implane_bb - implane_off, origin='lower', norm='symlog')\n",
    "axes[1].imshow(implane_laser - implane_off, origin='lower', norm='symlog');"
   ]
  },
  {
   "cell_type": "markdown",
   "id": "acc87faf-3f48-4f26-82f4-aef1bf848dca",
   "metadata": {},
   "source": [
    "## Using a configuration file\n",
    "\n",
    "The default configuration for the WCU is read from the file `metis_wcu_config.yaml` in the METIS instrument package. This is a yaml file that contains both the user-settable parameters described above and also physical quantities that describe the WCU itself:\n",
    "```yaml\n",
    "# ------------- User-settable parameters\n",
    "lamps:  [\"bb\", \"laser\", \"none\"]  # available lamps\n",
    "current_lamp: \"bb\"  # the lamp currently in use\n",
    "bb_temp: 1000       # [K] temperature of BB source  # Kelvin!\n",
    "is_temp:  300       # [K] temperature of the integratig sphere\n",
    "wcu_temp: 300       # [K] ambient temperature in the WCU\n",
    "bb_aperture: 1.0    # aperture of flux-controlling mask\n",
    "fpmasks:  [\"open\", \"pinhole_lm\", \"pinhole_n\", \"grid_lm\"]\n",
    "fpmask_filename_format: \"wcu/fp_mask_{}.dat\"\n",
    "current_fpmask: \"open\"\n",
    "fpmask_angle: 0\n",
    "fpmask_shift: [0, 0]\n",
    "\n",
    "# ------------- Data needed to describe the WCU\n",
    "bb_to_is:     \"wcu/WCU_BB_to_IS_throughput.fits\"\n",
    "is_reflect:   \"wcu/WCU_IS_reflectivity.dat\"\n",
    "tube_reflect: \"wcu/WCU_tube_reflectivity.dat\"\n",
    "mask_reflect: \"wcu/WCU_mask_reflectivity.dat\"\n",
    "emiss_bb:      0.98     # E-REP-MPIA-MET-1203\n",
    "diam_is_in:   25.4      # [mm] diameter of integrating sphere entrance port\n",
    "diam_is:     250        # [mm] diameter of integrating sphere\n",
    "diam_is_out: 100        # [mm] diameter if integrating sphere output port\n",
    "rho_is:        0.95     # [] reflectivity of integrating sphere\n",
    "rho_tube:      0.95     # [] reflectivity of tube between BB and IS\n",
    "emiss_mask:    1.00     # [] emissivity of focal-plane mask\n",
    "```\n",
    "To use your own configuration file, copy the default file into your working directory and instantiate the `OpticalTrain` as follows:\n",
    "```python\n",
    "cmd = sim.UserCommands(use_instrument=\"METIS\", set_modes=[\"wcu_img_lm\"])\n",
    "cmd[\"!WCU.config_file\") = \"my_config.yaml\"\n",
    "metis = sim.OpticalTrain(cmd)\n",
    "```"
   ]
  },
  {
   "cell_type": "markdown",
   "id": "06eaea13-7c1d-4cc9-a345-fe5d13956126",
   "metadata": {},
   "source": [
    "## Some shortcomings\n",
    "\n",
    "- The gaps in the connection between the black-body source and the entrance port of the integrating sphere are not yet included (model is available in Roy van Boekel's document)\n",
    "- The PSF defaults to the standard SCAO PSF included in the METIS instrument package. At the very least a PSF without atmosphere contribution should be available. Ideally the PSF should be tied to the pupil-plane mask (this also applies to sky observations).\n",
    "- The focal-plane grid mask design is preliminary. The one included here has been taken from E-SPE-UZK-MET-1015 (v2), taking the Figure 5-6 as being to scale. It appears that this is not the case, though.\n",
    "- Pupil imaging could maybe be included. This could be included as an additional focal-plane mask with the appropriate plate scale onto the detectors. There are some differences as to which optical elements are included in the optical train as compared to the normal modes, but these are presumably of secondary importance. "
   ]
  }
 ],
 "metadata": {
  "kernelspec": {
   "display_name": "Python 3 (ipykernel)",
   "language": "python",
   "name": "python3"
  },
  "language_info": {
   "codemirror_mode": {
    "name": "ipython",
    "version": 3
   },
   "file_extension": ".py",
   "mimetype": "text/x-python",
   "name": "python",
   "nbconvert_exporter": "python",
   "pygments_lexer": "ipython3",
   "version": "3.12.7"
  }
 },
 "nbformat": 4,
 "nbformat_minor": 5
}
