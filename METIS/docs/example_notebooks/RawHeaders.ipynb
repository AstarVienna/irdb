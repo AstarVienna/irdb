{
 "cells": [
  {
   "cell_type": "markdown",
   "id": "5cbaae4c-e4ac-423a-93c3-80f67b85566c",
   "metadata": {},
   "source": [
    "# Raw Headers\n",
    "\n",
    "A notebook to show the raw headers of the simulated data."
   ]
  },
  {
   "cell_type": "code",
   "execution_count": 1,
   "id": "d3d7858c-b000-436f-91ba-142f04196deb",
   "metadata": {},
   "outputs": [],
   "source": [
    "import os\n",
    "import numpy as np\n",
    "from astropy.io import fits\n",
    "from astropy import units as u\n",
    "from astropy.wcs import WCS"
   ]
  },
  {
   "cell_type": "code",
   "execution_count": 2,
   "id": "0f8e6494-3a5f-4469-ba9f-3722791d71ee",
   "metadata": {},
   "outputs": [],
   "source": [
    "from matplotlib import pyplot as plt\n",
    "from matplotlib.colors import LogNorm\n",
    "%matplotlib inline"
   ]
  },
  {
   "cell_type": "code",
   "execution_count": 3,
   "id": "bc15265c-73eb-4752-abb8-cb888c7cf66e",
   "metadata": {},
   "outputs": [],
   "source": [
    "import scopesim as sim\n",
    "import scopesim_templates\n",
    "# Edit this path to use where you have downloaded the IRDB packages (see other notebooks).\n",
    "sim.rc.__config__[\"!SIM.file.local_packages_path\"] = \"../../../\""
   ]
  },
  {
   "cell_type": "code",
   "execution_count": 4,
   "id": "45c9a641-3db7-4387-a173-591930519161",
   "metadata": {},
   "outputs": [],
   "source": [
    "# sim.bug_report()"
   ]
  },
  {
   "cell_type": "code",
   "execution_count": null,
   "id": "c4dc4316-fef2-4906-ba0c-8f0bb3b07698",
   "metadata": {},
   "outputs": [],
   "source": []
  },
  {
   "cell_type": "code",
   "execution_count": 5,
   "id": "e39b7043-dce3-4dbd-8190-5454a20a7910",
   "metadata": {},
   "outputs": [
    {
     "name": "stdout",
     "output_type": "stream",
     "text": [
      "['A0V']\n"
     ]
    }
   ],
   "source": [
    "star = scopesim_templates.stellar.star(filter_name=\"V\", amplitude=22)"
   ]
  },
  {
   "cell_type": "code",
   "execution_count": null,
   "id": "7c44f895-374b-486c-aabe-cdfada73e460",
   "metadata": {},
   "outputs": [],
   "source": []
  },
  {
   "cell_type": "code",
   "execution_count": 6,
   "id": "e003ed89-244f-4c9b-9424-ad5a32404a1a",
   "metadata": {},
   "outputs": [],
   "source": [
    "cmd_img_lm = sim.UserCommands(use_instrument=\"METIS\", set_modes=[\"img_lm\"])"
   ]
  },
  {
   "cell_type": "code",
   "execution_count": 7,
   "id": "d4400d93-c89a-42d9-be23-2a73a2aad5f8",
   "metadata": {},
   "outputs": [],
   "source": [
    "metis_img_lm = sim.OpticalTrain(cmd_img_lm)"
   ]
  },
  {
   "cell_type": "code",
   "execution_count": 8,
   "id": "0a0b2978-8cd9-4d6f-a392-590bab0a8d8d",
   "metadata": {},
   "outputs": [],
   "source": [
    "metis_img_lm.observe(star)"
   ]
  },
  {
   "cell_type": "code",
   "execution_count": 9,
   "id": "f0f06cc9-8a61-4934-8403-91a5502dfda5",
   "metadata": {},
   "outputs": [
    {
     "name": "stdout",
     "output_type": "stream",
     "text": [
      "Requested exposure time: 1.000 s\n",
      "Exposure parameters:\n",
      "                DIT: 0.250 s  NDIT: 4\n",
      "Total exposure time: 1.000 s\n",
      "Requested exposure time: 1.000 s\n",
      "Exposure parameters:\n",
      "                DIT: 0.250 s  NDIT: 4\n",
      "Total exposure time: 1.000 s\n"
     ]
    }
   ],
   "source": [
    "hdus_img_lm = metis_img_lm.readout()[0]"
   ]
  },
  {
   "cell_type": "code",
   "execution_count": 10,
   "id": "824170f2-e16f-46de-b389-7db36efba431",
   "metadata": {},
   "outputs": [],
   "source": [
    "header_primary_img_lm = hdus_img_lm[0].header"
   ]
  },
  {
   "cell_type": "code",
   "execution_count": null,
   "id": "dc6b7f73-e8ee-4bf9-bef1-3d3a78d1960b",
   "metadata": {},
   "outputs": [],
   "source": []
  },
  {
   "cell_type": "code",
   "execution_count": 11,
   "id": "f53fbddb-927f-4ff1-b44e-1265faf8ac6e",
   "metadata": {},
   "outputs": [
    {
     "name": "stdout",
     "output_type": "stream",
     "text": [
      "SIMPLE  =                    T / conforms to FITS standard                      \n",
      "BITPIX  =                    8 / array data type                                \n",
      "NAXIS   =                    0 / number of array dimensions                     \n",
      "EXTEND  =                    T                                                  \n",
      "MJD-OBS = '2027-05-04T02:30:00'                                                 \n",
      "RA      =                  0.0                                                  \n",
      "DEC     =                  0.0                                                  \n",
      "ORIGIN  = 'SCOPESIM'                                                            \n",
      "TELESCOP= 'ELT     '                                                            \n",
      "INSTRUME= 'METIS   '                                                            \n",
      "AIRMASS =                  1.2                                                  \n",
      "HIERARCH ESO DPR CATG = 'SCIENCE '                                              \n",
      "HIERARCH ESO DPR TYPE = 'OBJECT  '                                              \n",
      "HIERARCH ESO DPR TECH = 'IMAGE,LM'                                              \n",
      "HIERARCH ESO OBS ID = 42                                                        \n",
      "HIERARCH ESO OBS NAME = 'TODO    '                                              \n",
      "HIERARCH ESO OBS START = 'TODO    '                                             \n",
      "HIERARCH ESO OBS TPLNO = 1                                                      \n",
      "HIERARCH ESO TPL ID = 'METIS_img_lm_obs_GenericOffset'                          \n",
      "HIERARCH ESO TPL NAME = 'METIS_img_lm_obs_GenericOffset'                        \n",
      "HIERARCH ESO TPL EXPNO = 0                                                      \n",
      "HIERARCH ESO TPL START = '2027-05-04T02:30:00'                                  \n",
      "HIERARCH ESO DET DIT = 0.25                                                     \n",
      "HIERARCH ESO DET NDIT = 4                                                       \n",
      "HIERARCH ESO DET NCORRS NAME = 'TODO    '                                       \n",
      "HIERARCH ESO DET CUBE MODE = 'F       '                                         \n",
      "HIERARCH ESO INS DROT POSANG = 0                                                \n",
      "HIERARCH ESO DRS FILTER = 'Lp      '                                            \n",
      "HIERARCH ESO DRS NDFILTER = 'open    '                                          \n",
      "HIERARCH WISE ATMO LOCATION = 'Armazones'                                       \n",
      "HIERARCH WISE ATMO ALTITUDE = 3060                                              \n",
      "HIERARCH WISE ATMO LONGITUD = -70.1918                                          \n",
      "HIERARCH WISE ATMO LATITUDE = -24.5899                                          \n",
      "HIERARCH WISE ATMO TEMPERAT = 7                                                 \n",
      "HIERARCH WISE ATMO HUMIDITY = 0.1                                               \n",
      "HIERARCH WISE ATMO PRESSURE = 0.755                                             \n",
      "HIERARCH WISE ATMO PWV = 2.5                                                    \n",
      "HIERARCH WISE DET IMAGE_PL = 0                                                  \n",
      "HIERARCH WISE DET TEMPERAT = -230                                               \n",
      "HIERARCH WISE DET DAR VALUE = 0.05                                              \n",
      "HIERARCH WISE DET SHO STATE = T                                                 \n",
      "HIERARCH WISE DET QEC FILENAME = 'QE_detector_H2RG_METIS.dat'                   \n",
      "HIERARCH WISE DET LIN FILENAME = '!DET.linearity.file_name'                     \n",
      "HIERARCH WISE TEL NAME = 'ELT     '                                             \n",
      "HIERARCH WISE TEL TELESCOP = 'ELT     '                                         \n",
      "HIERARCH WISE TEL TER FILENAME = 'TER_ELT_6_mirror_field_track.dat'             \n",
      "HIERARCH WISE TEL REF FILENAME = 'LIST_ELT_combined.tbl'                        \n",
      "HIERARCH WISE OCS PXSCALE = 0.00547                                             \n",
      "HIERARCH WISE OBS TPLNO = 0                                                     \n",
      "HIERARCH WISE OBS INSTRUME = 'METIS   '                                         \n",
      "HIERARCH WISE OBS NAME = 'MyScienceTest'                                        \n",
      "HIERARCH WISE OBS RA = 0.0                                                      \n",
      "HIERARCH WISE OBS DEC = 0.0                                                     \n"
     ]
    }
   ],
   "source": [
    "print(repr(header_primary_img_lm))"
   ]
  },
  {
   "cell_type": "code",
   "execution_count": null,
   "id": "24bcc27f-f74b-4d35-bcc0-2e2160d5639b",
   "metadata": {},
   "outputs": [],
   "source": []
  }
 ],
 "metadata": {
  "kernelspec": {
   "display_name": "Python 3 (ipykernel)",
   "language": "python",
   "name": "python3"
  },
  "language_info": {
   "codemirror_mode": {
    "name": "ipython",
    "version": 3
   },
   "file_extension": ".py",
   "mimetype": "text/x-python",
   "name": "python",
   "nbconvert_exporter": "python",
   "pygments_lexer": "ipython3",
   "version": "3.11.5"
  }
 },
 "nbformat": 4,
 "nbformat_minor": 5
}
