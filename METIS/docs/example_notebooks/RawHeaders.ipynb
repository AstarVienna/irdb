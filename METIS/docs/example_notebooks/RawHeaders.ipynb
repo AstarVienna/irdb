{
 "cells": [
  {
   "cell_type": "markdown",
   "id": "5cbaae4c-e4ac-423a-93c3-80f67b85566c",
   "metadata": {},
   "source": [
    "# Raw Headers\n",
    "\n",
    "A notebook to show the raw headers of the simulated data."
   ]
  },
  {
   "cell_type": "code",
   "execution_count": null,
   "id": "d3d7858c-b000-436f-91ba-142f04196deb",
   "metadata": {},
   "outputs": [],
   "source": [
    "import os\n",
    "import numpy as np\n",
    "from astropy.io import fits\n",
    "from astropy import units as u\n",
    "from astropy.wcs import WCS"
   ]
  },
  {
   "cell_type": "code",
   "execution_count": null,
   "id": "0f8e6494-3a5f-4469-ba9f-3722791d71ee",
   "metadata": {},
   "outputs": [],
   "source": [
    "from matplotlib import pyplot as plt\n",
    "from matplotlib.colors import LogNorm\n",
    "%matplotlib inline"
   ]
  },
  {
   "cell_type": "code",
   "execution_count": null,
   "id": "bc15265c-73eb-4752-abb8-cb888c7cf66e",
   "metadata": {},
   "outputs": [],
   "source": [
    "import scopesim as sim\n",
    "import scopesim_templates\n",
    "# Edit this path to use where you have downloaded the IRDB packages (see other notebooks).\n",
    "sim.rc.__config__[\"!SIM.file.local_packages_path\"] = \"../../../\""
   ]
  },
  {
   "cell_type": "code",
   "execution_count": null,
   "id": "45c9a641-3db7-4387-a173-591930519161",
   "metadata": {},
   "outputs": [],
   "source": [
    "# sim.bug_report()"
   ]
  },
  {
   "cell_type": "code",
   "execution_count": null,
   "id": "c4dc4316-fef2-4906-ba0c-8f0bb3b07698",
   "metadata": {},
   "outputs": [],
   "source": []
  },
  {
   "cell_type": "code",
   "execution_count": null,
   "id": "e39b7043-dce3-4dbd-8190-5454a20a7910",
   "metadata": {},
   "outputs": [],
   "source": [
    "star = scopesim_templates.stellar.star(filter_name=\"V\", amplitude=22)"
   ]
  },
  {
   "cell_type": "code",
   "execution_count": null,
   "id": "7c44f895-374b-486c-aabe-cdfada73e460",
   "metadata": {},
   "outputs": [],
   "source": []
  },
  {
   "cell_type": "code",
   "execution_count": null,
   "id": "e003ed89-244f-4c9b-9424-ad5a32404a1a",
   "metadata": {},
   "outputs": [],
   "source": [
    "cmd_img_lm = sim.UserCommands(use_instrument=\"METIS\", set_modes=[\"img_lm\"])\n",
    "metis_img_lm = sim.OpticalTrain(cmd_img_lm)\n",
    "metis_img_lm.observe(star)\n",
    "hdus_img_lm = metis_img_lm.readout()[0]"
   ]
  },
  {
   "cell_type": "code",
   "execution_count": null,
   "id": "ea5fff12-568e-46ee-b710-e581d3b7558b",
   "metadata": {},
   "outputs": [],
   "source": []
  },
  {
   "cell_type": "code",
   "execution_count": null,
   "id": "824170f2-e16f-46de-b389-7db36efba431",
   "metadata": {},
   "outputs": [],
   "source": [
    "header_primary_img_lm = hdus_img_lm[0].header"
   ]
  },
  {
   "cell_type": "code",
   "execution_count": null,
   "id": "f53fbddb-927f-4ff1-b44e-1265faf8ac6e",
   "metadata": {},
   "outputs": [],
   "source": [
    "print(repr(header_primary_img_lm))"
   ]
  },
  {
   "cell_type": "code",
   "execution_count": null,
   "id": "fcf146b7-5a68-4e38-a3f4-8c8aa0a46c67",
   "metadata": {},
   "outputs": [],
   "source": []
  },
  {
   "cell_type": "code",
   "execution_count": null,
   "id": "1f5b3afd-7f43-4e3b-b6cb-fdc4be5a2f85",
   "metadata": {},
   "outputs": [],
   "source": [
    "header_data_img_lm = hdus_img_lm[1].header"
   ]
  },
  {
   "cell_type": "code",
   "execution_count": null,
   "id": "80a9bf38-4387-40e9-8cc3-8345170e21cf",
   "metadata": {},
   "outputs": [],
   "source": [
    "print(repr(header_data_img_lm))"
   ]
  },
  {
   "cell_type": "code",
   "execution_count": null,
   "id": "b30ee239-a0c9-4268-b22a-bbdd4bb38c19",
   "metadata": {},
   "outputs": [],
   "source": []
  },
  {
   "cell_type": "code",
   "execution_count": null,
   "id": "131ace17-a84c-4a86-87a9-1ce0388a52a5",
   "metadata": {},
   "outputs": [],
   "source": []
  },
  {
   "cell_type": "code",
   "execution_count": null,
   "id": "c79e4013-ad8b-40b6-b246-c564b9ed6500",
   "metadata": {},
   "outputs": [],
   "source": []
  },
  {
   "cell_type": "code",
   "execution_count": null,
   "id": "090e8621-2edc-436b-94ce-4256f3818245",
   "metadata": {},
   "outputs": [],
   "source": []
  }
 ],
 "metadata": {
  "kernelspec": {
   "display_name": "Python 3 (ipykernel)",
   "language": "python",
   "name": "python3"
  },
  "language_info": {
   "codemirror_mode": {
    "name": "ipython",
    "version": 3
   },
   "file_extension": ".py",
   "mimetype": "text/x-python",
   "name": "python",
   "nbconvert_exporter": "python",
   "pygments_lexer": "ipython3",
   "version": "3.11.4"
  }
 },
 "nbformat": 4,
 "nbformat_minor": 5
}
