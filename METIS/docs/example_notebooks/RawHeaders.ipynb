{
 "cells": [
  {
   "cell_type": "markdown",
   "id": "5cbaae4c-e4ac-423a-93c3-80f67b85566c",
   "metadata": {},
   "source": [
    "# Raw Headers\n",
    "\n",
    "A notebook to show the raw headers of the simulated data."
   ]
  },
  {
   "cell_type": "code",
   "execution_count": 1,
   "id": "d3d7858c-b000-436f-91ba-142f04196deb",
   "metadata": {},
   "outputs": [],
   "source": [
    "import os\n",
    "import numpy as np\n",
    "from astropy.io import fits\n",
    "from astropy import units as u\n",
    "from astropy.wcs import WCS"
   ]
  },
  {
   "cell_type": "code",
   "execution_count": 2,
   "id": "0f8e6494-3a5f-4469-ba9f-3722791d71ee",
   "metadata": {},
   "outputs": [],
   "source": [
    "from matplotlib import pyplot as plt\n",
    "from matplotlib.colors import LogNorm\n",
    "%matplotlib inline"
   ]
  },
  {
   "cell_type": "code",
   "execution_count": 3,
   "id": "bc15265c-73eb-4752-abb8-cb888c7cf66e",
   "metadata": {},
   "outputs": [],
   "source": [
    "import scopesim as sim\n",
    "import scopesim_templates\n",
    "# Edit this path to use where you have downloaded the IRDB packages (see other notebooks).\n",
    "sim.rc.__config__[\"!SIM.file.local_packages_path\"] = \"../../../\""
   ]
  },
  {
   "cell_type": "code",
   "execution_count": 4,
   "id": "45c9a641-3db7-4387-a173-591930519161",
   "metadata": {},
   "outputs": [],
   "source": [
    "# sim.bug_report()"
   ]
  },
  {
   "cell_type": "code",
   "execution_count": null,
   "id": "c4dc4316-fef2-4906-ba0c-8f0bb3b07698",
   "metadata": {},
   "outputs": [],
   "source": []
  },
  {
   "cell_type": "code",
   "execution_count": 5,
   "id": "e39b7043-dce3-4dbd-8190-5454a20a7910",
   "metadata": {},
   "outputs": [
    {
     "name": "stdout",
     "output_type": "stream",
     "text": [
      "['A0V']\n"
     ]
    }
   ],
   "source": [
    "star = scopesim_templates.stellar.star(filter_name=\"V\", amplitude=22)"
   ]
  },
  {
   "cell_type": "code",
   "execution_count": null,
   "id": "7c44f895-374b-486c-aabe-cdfada73e460",
   "metadata": {},
   "outputs": [],
   "source": []
  },
  {
   "cell_type": "code",
   "execution_count": 6,
   "id": "e003ed89-244f-4c9b-9424-ad5a32404a1a",
   "metadata": {},
   "outputs": [],
   "source": [
    "cmd_img_lm = sim.UserCommands(use_instrument=\"METIS\", set_modes=[\"img_lm\"])"
   ]
  },
  {
   "cell_type": "code",
   "execution_count": 7,
   "id": "d4400d93-c89a-42d9-be23-2a73a2aad5f8",
   "metadata": {},
   "outputs": [],
   "source": [
    "metis_img_lm = sim.OpticalTrain(cmd_img_lm)"
   ]
  },
  {
   "cell_type": "code",
   "execution_count": null,
   "id": "0a0b2978-8cd9-4d6f-a392-590bab0a8d8d",
   "metadata": {},
   "outputs": [],
   "source": [
    "metis_img_lm.observe(star)"
   ]
  },
  {
   "cell_type": "code",
   "execution_count": null,
   "id": "f0f06cc9-8a61-4934-8403-91a5502dfda5",
   "metadata": {},
   "outputs": [],
   "source": [
    "hdus_img_lm = metis_img_lm.readout()[0]"
   ]
  },
  {
   "cell_type": "code",
   "execution_count": null,
   "id": "824170f2-e16f-46de-b389-7db36efba431",
   "metadata": {},
   "outputs": [],
   "source": [
    "header_primary_img_lm = hdus_img_lm[0].header"
   ]
  },
  {
   "cell_type": "code",
   "execution_count": null,
   "id": "f53fbddb-927f-4ff1-b44e-1265faf8ac6e",
   "metadata": {},
   "outputs": [],
   "source": [
    "header_primary_img_lm"
   ]
  },
  {
   "cell_type": "code",
   "execution_count": null,
   "id": "08310b53-9630-49d9-9965-c89851005495",
   "metadata": {},
   "outputs": [],
   "source": [
    "hdus_img_lm.writeto(\"temp.fits\", overwrite=True)"
   ]
  },
  {
   "cell_type": "code",
   "execution_count": null,
   "id": "24bcc27f-f74b-4d35-bcc0-2e2160d5639b",
   "metadata": {},
   "outputs": [],
   "source": []
  }
 ],
 "metadata": {
  "kernelspec": {
   "display_name": "Python 3 (ipykernel)",
   "language": "python",
   "name": "python3"
  },
  "language_info": {
   "codemirror_mode": {
    "name": "ipython",
    "version": 3
   },
   "file_extension": ".py",
   "mimetype": "text/x-python",
   "name": "python",
   "nbconvert_exporter": "python",
   "pygments_lexer": "ipython3",
   "version": "3.11.5"
  }
 },
 "nbformat": 4,
 "nbformat_minor": 5
}
