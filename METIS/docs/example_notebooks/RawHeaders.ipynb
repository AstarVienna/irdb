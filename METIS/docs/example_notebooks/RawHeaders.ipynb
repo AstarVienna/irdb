{
 "cells": [
  {
   "cell_type": "markdown",
   "id": "5cbaae4c-e4ac-423a-93c3-80f67b85566c",
   "metadata": {},
   "source": [
    "# Raw Headers\n",
    "\n",
    "A notebook to show the raw headers of the simulated data."
   ]
  },
  {
   "cell_type": "code",
   "execution_count": 1,
   "id": "d3d7858c-b000-436f-91ba-142f04196deb",
   "metadata": {},
   "outputs": [],
   "source": [
    "import os\n",
    "import numpy as np\n",
    "from astropy.io import fits\n",
    "from astropy import units as u\n",
    "from astropy.wcs import WCS"
   ]
  },
  {
   "cell_type": "code",
   "execution_count": 2,
   "id": "0f8e6494-3a5f-4469-ba9f-3722791d71ee",
   "metadata": {},
   "outputs": [],
   "source": [
    "from matplotlib import pyplot as plt\n",
    "from matplotlib.colors import LogNorm\n",
    "%matplotlib inline"
   ]
  },
  {
   "cell_type": "code",
   "execution_count": 3,
   "id": "bc15265c-73eb-4752-abb8-cb888c7cf66e",
   "metadata": {},
   "outputs": [],
   "source": [
    "import scopesim as sim\n",
    "import scopesim_templates\n",
    "# Edit this path to use where you have downloaded the IRDB packages (see other notebooks).\n",
    "sim.rc.__config__[\"!SIM.file.local_packages_path\"] = \"../../../\""
   ]
  },
  {
   "cell_type": "code",
   "execution_count": 4,
   "id": "45c9a641-3db7-4387-a173-591930519161",
   "metadata": {},
   "outputs": [],
   "source": [
    "# sim.bug_report()"
   ]
  },
  {
   "cell_type": "code",
   "execution_count": null,
   "id": "c4dc4316-fef2-4906-ba0c-8f0bb3b07698",
   "metadata": {},
   "outputs": [],
   "source": []
  },
  {
   "cell_type": "code",
   "execution_count": 5,
   "id": "e39b7043-dce3-4dbd-8190-5454a20a7910",
   "metadata": {},
   "outputs": [
    {
     "name": "stdout",
     "output_type": "stream",
     "text": [
      "['A0V']\n"
     ]
    }
   ],
   "source": [
    "star = scopesim_templates.stellar.star(filter_name=\"V\", amplitude=22)"
   ]
  },
  {
   "cell_type": "code",
   "execution_count": null,
   "id": "7c44f895-374b-486c-aabe-cdfada73e460",
   "metadata": {},
   "outputs": [],
   "source": []
  },
  {
   "cell_type": "code",
   "execution_count": 6,
   "id": "e003ed89-244f-4c9b-9424-ad5a32404a1a",
   "metadata": {},
   "outputs": [
    {
     "name": "stderr",
     "output_type": "stream",
     "text": [
      "DEBUG:astar.scopesim.optics.image_plane_utils:Pixel scale: 0.00547 arcsec / pix\n",
      "DEBUG:astar.scopesim.optics.image_plane_utils:Plate scale: 0.30389 arcsec / mm\n",
      "DEBUG:astar.scopesim.optics.image_plane_utils:WCS sky corners: [[-0.00155591 -0.00155591]\n",
      " [-0.00155591  0.00155591]\n",
      " [ 0.00155591  0.00155591]\n",
      " [ 0.00155591 -0.00155591]] deg\n",
      "DEBUG:astar.scopesim.optics.image_plane_utils:WCS det corners: [[-18.43193261 -18.43193261]\n",
      " [-18.43193261  18.43193261]\n",
      " [ 18.43193261  18.43193261]\n",
      " [ 18.43193261 -18.43193261]] mm\n",
      "DEBUG:astar.scopesim.optics.image_plane:det WCS Keywords\n",
      "\n",
      "Number of WCS axes: 2\n",
      "CTYPE : 'LINEAR'  'LINEAR'  \n",
      "CRVAL : 0.0  0.0  \n",
      "CRPIX : 1024.5  1024.5  \n",
      "PC1_1 PC1_2  : 1.0  0.0  \n",
      "PC2_1 PC2_2  : 0.0  1.0  \n",
      "CDELT : 0.018  0.018  \n",
      "NAXIS : 2048  2048\n",
      "DEBUG:astar.scopesim.optics.image_plane:sky None\n",
      "DEBUG:astar.scopesim.optics.image_plane_utils:Pixel scale: 0.00547 arcsec / pix\n",
      "DEBUG:astar.scopesim.optics.image_plane_utils:Plate scale: 0.30389 arcsec / mm\n",
      "DEBUG:astar.scopesim.optics.image_plane_utils:WCS sky corners: [[-0.00155591 -0.00155591]\n",
      " [-0.00155591  0.00155591]\n",
      " [ 0.00155591  0.00155591]\n",
      " [ 0.00155591 -0.00155591]] deg\n",
      "DEBUG:astar.scopesim.optics.image_plane_utils:WCS det corners: [[-18.43193261 -18.43193261]\n",
      " [-18.43193261  18.43193261]\n",
      " [ 18.43193261  18.43193261]\n",
      " [ 18.43193261 -18.43193261]] mm\n",
      "DEBUG:astar.scopesim.optics.image_plane:det WCS Keywords\n",
      "\n",
      "Number of WCS axes: 2\n",
      "CTYPE : 'LINEAR'  'LINEAR'  \n",
      "CRVAL : 0.0  0.0  \n",
      "CRPIX : 1024.5  1024.5  \n",
      "PC1_1 PC1_2  : 1.0  0.0  \n",
      "PC2_1 PC2_2  : 0.0  1.0  \n",
      "CDELT : 0.018  0.018  \n",
      "NAXIS : 2048  2048\n",
      "DEBUG:astar.scopesim.optics.image_plane:sky None\n",
      "DEBUG:astar.scopesim.optics.surface:emission not found in either '.meta' or '.table': [ELT]\n",
      "DEBUG:astar.scopesim.optics.surface:emission not found in either '.meta' or '.table': [CFO_EntrWin]\n",
      "DEBUG:astar.scopesim.optics.surface:emission not found in either '.meta' or '.table': [CFO_CM1]\n",
      "DEBUG:astar.scopesim.optics.surface:emissivity not found in either '.meta' or '.table': [CFO_CM1]\n",
      "DEBUG:astar.scopesim.optics.surface:transmission not found in either '.meta' or '.table': [CFO_CM1]\n",
      "DEBUG:astar.scopesim.optics.surface:emission not found in either '.meta' or '.table': [CFO_FM1]\n",
      "DEBUG:astar.scopesim.optics.surface:emissivity not found in either '.meta' or '.table': [CFO_FM1]\n",
      "DEBUG:astar.scopesim.optics.surface:transmission not found in either '.meta' or '.table': [CFO_FM1]\n",
      "DEBUG:astar.scopesim.optics.surface:emission not found in either '.meta' or '.table': [CFO_CM2]\n",
      "DEBUG:astar.scopesim.optics.surface:emissivity not found in either '.meta' or '.table': [CFO_CM2]\n",
      "DEBUG:astar.scopesim.optics.surface:transmission not found in either '.meta' or '.table': [CFO_CM2]\n",
      "DEBUG:astar.scopesim.optics.surface:emission not found in either '.meta' or '.table': [CFO_CM3]\n",
      "DEBUG:astar.scopesim.optics.surface:emissivity not found in either '.meta' or '.table': [CFO_CM3]\n",
      "DEBUG:astar.scopesim.optics.surface:transmission not found in either '.meta' or '.table': [CFO_CM3]\n",
      "DEBUG:astar.scopesim.optics.surface:emission not found in either '.meta' or '.table': [CFO_KM1]\n",
      "DEBUG:astar.scopesim.optics.surface:emissivity not found in either '.meta' or '.table': [CFO_KM1]\n",
      "DEBUG:astar.scopesim.optics.surface:transmission not found in either '.meta' or '.table': [CFO_KM1]\n",
      "DEBUG:astar.scopesim.optics.surface:emission not found in either '.meta' or '.table': [CFO_KM2]\n",
      "DEBUG:astar.scopesim.optics.surface:emissivity not found in either '.meta' or '.table': [CFO_KM2]\n",
      "DEBUG:astar.scopesim.optics.surface:transmission not found in either '.meta' or '.table': [CFO_KM2]\n",
      "DEBUG:astar.scopesim.optics.surface:emission not found in either '.meta' or '.table': [CFO_KM3]\n",
      "DEBUG:astar.scopesim.optics.surface:emissivity not found in either '.meta' or '.table': [CFO_KM3]\n",
      "DEBUG:astar.scopesim.optics.surface:transmission not found in either '.meta' or '.table': [CFO_KM3]\n",
      "DEBUG:astar.scopesim.optics.surface:emission not found in either '.meta' or '.table': [CFO_FM2]\n",
      "DEBUG:astar.scopesim.optics.surface:emissivity not found in either '.meta' or '.table': [CFO_FM2]\n",
      "DEBUG:astar.scopesim.optics.surface:transmission not found in either '.meta' or '.table': [CFO_FM2]\n",
      "DEBUG:astar.scopesim.optics.surface:emission not found in either '.meta' or '.table': [CFO_Dichroic]\n",
      "DEBUG:astar.scopesim.optics.surface:emission not found in either '.meta' or '.table': [CFO_FM3]\n",
      "DEBUG:astar.scopesim.optics.surface:emissivity not found in either '.meta' or '.table': [CFO_FM3]\n",
      "DEBUG:astar.scopesim.optics.surface:transmission not found in either '.meta' or '.table': [CFO_FM3]\n",
      "DEBUG:astar.scopesim.optics.surface:emission not found in either '.meta' or '.table': [CFO_CM4]\n",
      "DEBUG:astar.scopesim.optics.surface:emissivity not found in either '.meta' or '.table': [CFO_CM4]\n",
      "DEBUG:astar.scopesim.optics.surface:transmission not found in either '.meta' or '.table': [CFO_CM4]\n",
      "DEBUG:astar.scopesim.optics.surface:emission not found in either '.meta' or '.table': [CFO_CM5]\n",
      "DEBUG:astar.scopesim.optics.surface:emissivity not found in either '.meta' or '.table': [CFO_CM5]\n",
      "DEBUG:astar.scopesim.optics.surface:transmission not found in either '.meta' or '.table': [CFO_CM5]\n",
      "DEBUG:astar.scopesim.optics.surface:emission not found in either '.meta' or '.table': [CFO_CM6]\n",
      "DEBUG:astar.scopesim.optics.surface:emissivity not found in either '.meta' or '.table': [CFO_CM6]\n",
      "DEBUG:astar.scopesim.optics.surface:transmission not found in either '.meta' or '.table': [CFO_CM6]\n",
      "DEBUG:astar.scopesim.optics.surface:emission not found in either '.meta' or '.table': [const_90]\n",
      "DEBUG:astar.scopesim.optics.surface:emission not found in either '.meta' or '.table': [cold_stop]\n",
      "DEBUG:astar.scopesim.optics.surface:emission not found in either '.meta' or '.table': [IMG_M1]\n",
      "DEBUG:astar.scopesim.optics.surface:emissivity not found in either '.meta' or '.table': [IMG_M1]\n",
      "DEBUG:astar.scopesim.optics.surface:transmission not found in either '.meta' or '.table': [IMG_M1]\n",
      "DEBUG:astar.scopesim.optics.surface:emission not found in either '.meta' or '.table': [IMG_M2]\n",
      "DEBUG:astar.scopesim.optics.surface:emissivity not found in either '.meta' or '.table': [IMG_M2]\n",
      "DEBUG:astar.scopesim.optics.surface:transmission not found in either '.meta' or '.table': [IMG_M2]\n",
      "DEBUG:astar.scopesim.optics.surface:emission not found in either '.meta' or '.table': [IMG_M3]\n",
      "DEBUG:astar.scopesim.optics.surface:emissivity not found in either '.meta' or '.table': [IMG_M3]\n",
      "DEBUG:astar.scopesim.optics.surface:transmission not found in either '.meta' or '.table': [IMG_M3]\n",
      "DEBUG:astar.scopesim.optics.surface:emission not found in either '.meta' or '.table': [IMG_dichroic]\n",
      "DEBUG:astar.scopesim.optics.surface:emission not found in either '.meta' or '.table': [IMG_dichroic]\n",
      "DEBUG:astar.scopesim.optics.surface:emission not found in either '.meta' or '.table': [IMG_LM_FM1]\n",
      "DEBUG:astar.scopesim.optics.surface:emissivity not found in either '.meta' or '.table': [IMG_LM_FM1]\n",
      "DEBUG:astar.scopesim.optics.surface:transmission not found in either '.meta' or '.table': [IMG_LM_FM1]\n",
      "DEBUG:astar.scopesim.optics.surface:emission not found in either '.meta' or '.table': [IMG_LM_FM2]\n",
      "DEBUG:astar.scopesim.optics.surface:emissivity not found in either '.meta' or '.table': [IMG_LM_FM2]\n",
      "DEBUG:astar.scopesim.optics.surface:transmission not found in either '.meta' or '.table': [IMG_LM_FM2]\n",
      "DEBUG:astar.scopesim.optics.surface:emission not found in either '.meta' or '.table': [IMG_LM_CM1]\n",
      "DEBUG:astar.scopesim.optics.surface:emissivity not found in either '.meta' or '.table': [IMG_LM_CM1]\n",
      "DEBUG:astar.scopesim.optics.surface:transmission not found in either '.meta' or '.table': [IMG_LM_CM1]\n",
      "DEBUG:astar.scopesim.optics.surface:emission not found in either '.meta' or '.table': [IMG_LM_CM2]\n",
      "DEBUG:astar.scopesim.optics.surface:emissivity not found in either '.meta' or '.table': [IMG_LM_CM2]\n",
      "DEBUG:astar.scopesim.optics.surface:transmission not found in either '.meta' or '.table': [IMG_LM_CM2]\n",
      "DEBUG:astar.scopesim.optics.surface:emission not found in either '.meta' or '.table': [IMG_LM_CM3]\n",
      "DEBUG:astar.scopesim.optics.surface:emissivity not found in either '.meta' or '.table': [IMG_LM_CM3]\n",
      "DEBUG:astar.scopesim.optics.surface:transmission not found in either '.meta' or '.table': [IMG_LM_CM3]\n",
      "DEBUG:astar.scopesim.optics.surface:emission not found in either '.meta' or '.table': [Lp]\n",
      "DEBUG:astar.scopesim.optics.surface:emissivity not found in either '.meta' or '.table': [Lp]\n",
      "DEBUG:astar.scopesim.optics.surface:reflection not found in either '.meta' or '.table': [Lp]\n",
      "DEBUG:astar.scopesim.optics.surface:emission not found in either '.meta' or '.table': [open]\n",
      "DEBUG:astar.scopesim.optics.surface:emissivity not found in either '.meta' or '.table': [open]\n",
      "DEBUG:astar.scopesim.optics.surface:reflection not found in either '.meta' or '.table': [open]\n",
      "DEBUG:astar.scopesim.optics.surface:emission not found in either '.meta' or '.table': [quantum_efficiency]\n",
      "DEBUG:astar.scopesim.optics.surface:emissivity not found in either '.meta' or '.table': [quantum_efficiency]\n",
      "DEBUG:astar.scopesim.optics.surface:reflection not found in either '.meta' or '.table': [quantum_efficiency]\n",
      " FOVs:   0%|                                                                                                          | 0/1 [00:00<?, ?it/s]\n",
      " FOV effects:   0%|                                                                                                   | 0/1 [00:00<?, ?it/s]\u001b[A\n",
      " FOV effects: 100%|███████████████████████████████████████████████████████████████████████████████████████████| 1/1 [00:00<00:00,  1.21it/s]\u001b[A\n",
      "                                                                                                                                            \u001b[ADEBUG:astar.scopesim.optics.image_plane_utils:zoom [0.99999634 0.99999634]\n",
      "DEBUG:astar.scopesim.optics.image_plane_utils:new crpix [1024.5 1024.5]\n",
      "DEBUG:astar.scopesim.optics.image_plane_utils:sky [[0. 0.]]\n",
      "DEBUG:astar.scopesim.optics.image_plane_utils:pix [[1023.5 1023.5]]\n",
      " FOVs: 100%|██████████████████████████████████████████████████████████████████████████████████████████████████| 1/1 [00:01<00:00,  1.09s/it]\n",
      " Image Plane effects: 0it [00:00, ?it/s]\n"
     ]
    },
    {
     "name": "stdout",
     "output_type": "stream",
     "text": [
      "Requested exposure time: 1.000 s\n",
      "Exposure parameters:\n",
      "                DIT: 0.250 s  NDIT: 4\n",
      "Total exposure time: 1.000 s\n",
      "astar.scopesim.detector.detector_array - INFO: Extracting from 1 detectors...\n"
     ]
    },
    {
     "name": "stderr",
     "output_type": "stream",
     "text": [
      "INFO:astar.scopesim.detector.detector_array:Extracting from 1 detectors...\n",
      "DEBUG:astar.scopesim.optics.image_plane_utils:Pixel scale: 0.00547 arcsec / pix\n",
      "DEBUG:astar.scopesim.optics.image_plane_utils:Plate scale: 0.30389 arcsec / mm\n",
      "DEBUG:astar.scopesim.optics.image_plane_utils:WCS det corners: [[-18.432 -18.432]\n",
      " [-18.432  18.432]\n",
      " [ 18.432  18.432]\n",
      " [ 18.432 -18.432]] mm\n",
      "DEBUG:astar.scopesim.optics.image_plane_utils:WCS sky corners: [[-5.60130048 -5.60130048]\n",
      " [-5.60130048  5.60130048]\n",
      " [ 5.60130048  5.60130048]\n",
      " [ 5.60130048 -5.60130048]] arcsec\n",
      "DEBUG:astar.scopesim.optics.image_plane_utils:zoom [1. 1.]\n",
      "DEBUG:astar.scopesim.optics.image_plane_utils:sky [[0. 0.]]\n",
      "DEBUG:astar.scopesim.optics.image_plane_utils:pix [[1023.5 1023.5]]\n",
      "DEBUG:astar.scopesim.optics.image_plane_utils:Pixel scale: 0.00547 arcsec / pix\n",
      "DEBUG:astar.scopesim.optics.image_plane_utils:Plate scale: 0.30389 arcsec / mm\n",
      "DEBUG:astar.scopesim.optics.image_plane_utils:WCS det corners: [[-18.432 -18.432]\n",
      " [-18.432  18.432]\n",
      " [ 18.432  18.432]\n",
      " [ 18.432 -18.432]] mm\n",
      "DEBUG:astar.scopesim.optics.image_plane_utils:WCS sky corners: [[-5.60130048 -5.60130048]\n",
      " [-5.60130048  5.60130048]\n",
      " [ 5.60130048  5.60130048]\n",
      " [ 5.60130048 -5.60130048]] arcsec\n"
     ]
    },
    {
     "name": "stdout",
     "output_type": "stream",
     "text": [
      "Requested exposure time: 1.000 s\n",
      "Exposure parameters:\n",
      "                DIT: 0.250 s  NDIT: 4\n",
      "Total exposure time: 1.000 s\n"
     ]
    }
   ],
   "source": [
    "cmd_img_lm = sim.UserCommands(use_instrument=\"METIS\", set_modes=[\"img_lm\"])\n",
    "metis_img_lm = sim.OpticalTrain(cmd_img_lm)\n",
    "metis_img_lm.observe(star)\n",
    "hdus_img_lm = metis_img_lm.readout()[0]"
   ]
  },
  {
   "cell_type": "code",
   "execution_count": null,
   "id": "ea5fff12-568e-46ee-b710-e581d3b7558b",
   "metadata": {},
   "outputs": [],
   "source": []
  },
  {
   "cell_type": "code",
   "execution_count": 7,
   "id": "824170f2-e16f-46de-b389-7db36efba431",
   "metadata": {},
   "outputs": [],
   "source": [
    "header_primary_img_lm = hdus_img_lm[0].header"
   ]
  },
  {
   "cell_type": "code",
   "execution_count": 8,
   "id": "f53fbddb-927f-4ff1-b44e-1265faf8ac6e",
   "metadata": {},
   "outputs": [
    {
     "name": "stdout",
     "output_type": "stream",
     "text": [
      "SIMPLE  =                    T / conforms to FITS standard                      \n",
      "BITPIX  =                    8 / array data type                                \n",
      "NAXIS   =                    0 / number of array dimensions                     \n",
      "EXTEND  =                    T                                                  \n",
      "MJD-OBS = '2027-05-04T02:30:00'                                                 \n",
      "RA      =                  0.0                                                  \n",
      "DEC     =                  0.0                                                  \n",
      "ORIGIN  = 'SCOPESIM'                                                            \n",
      "TELESCOP= 'ELT     '                                                            \n",
      "INSTRUME= 'METIS   '                                                            \n",
      "AIRMASS =                  1.2                                                  \n",
      "HIERARCH ESO DPR CATG = 'SCIENCE '                                              \n",
      "HIERARCH ESO DPR TYPE = 'OBJECT  '                                              \n",
      "HIERARCH ESO DPR TECH = 'IMAGE,LM'                                              \n",
      "HIERARCH ESO OBS ID = 42                                                        \n",
      "HIERARCH ESO OBS NAME = 'TODO    '                                              \n",
      "HIERARCH ESO OBS START = 'TODO    '                                             \n",
      "HIERARCH ESO OBS TPLNO = 1                                                      \n",
      "HIERARCH ESO TPL ID = 'METIS_img_lm_obs_GenericOffset'                          \n",
      "HIERARCH ESO TPL NAME = 'METIS_img_lm_obs_GenericOffset'                        \n",
      "HIERARCH ESO TPL EXPNO = 0                                                      \n",
      "HIERARCH ESO TPL START = '2027-05-04T02:30:00'                                  \n",
      "HIERARCH ESO DET DIT = 0.25                                                     \n",
      "HIERARCH ESO DET NDIT = 4                                                       \n",
      "HIERARCH ESO DET NCORRS NAME = 'TODO    '                                       \n",
      "HIERARCH ESO DET CUBE MODE = 'F       '                                         \n",
      "HIERARCH ESO INS DROT POSANG = 0                                                \n",
      "HIERARCH ESO DRS FILTER = 'Lp      '                                            \n",
      "HIERARCH ESO DRS NDFILTER = 'open    '                                          \n",
      "HIERARCH WISE ATMO LOCATION = 'Armazones'                                       \n",
      "HIERARCH WISE ATMO ALTITUDE = 3060                                              \n",
      "HIERARCH WISE ATMO LONGITUD = -70.1918                                          \n",
      "HIERARCH WISE ATMO LATITUDE = -24.5899                                          \n",
      "HIERARCH WISE ATMO TEMPERAT = 7                                                 \n",
      "HIERARCH WISE ATMO HUMIDITY = 0.1                                               \n",
      "HIERARCH WISE ATMO PRESSURE = 0.755                                             \n",
      "HIERARCH WISE ATMO PWV = 2.5                                                    \n",
      "HIERARCH WISE DET IMAGE_PL = 0                                                  \n",
      "HIERARCH WISE DET TEMPERAT = -230                                               \n",
      "HIERARCH WISE DET DAR VALUE = 0.05                                              \n",
      "HIERARCH WISE DET SHO STATE = T                                                 \n",
      "HIERARCH WISE DET QEC FILENAME = 'QE_detector_H2RG_METIS.dat'                   \n",
      "HIERARCH WISE DET LIN FILENAME = '!DET.linearity.file_name'                     \n",
      "HIERARCH WISE TEL NAME = 'ELT     '                                             \n",
      "HIERARCH WISE TEL TELESCOP = 'ELT     '                                         \n",
      "HIERARCH WISE TEL TER FILENAME = 'TER_ELT_6_mirror_field_track.dat'             \n",
      "HIERARCH WISE TEL REF FILENAME = 'LIST_ELT_combined.tbl'                        \n",
      "HIERARCH WISE OCS PXSCALE = 0.00547                                             \n",
      "HIERARCH WISE OBS TPLNO = 0                                                     \n",
      "HIERARCH WISE OBS INSTRUME = 'METIS   '                                         \n",
      "HIERARCH WISE OBS NAME = 'MyScienceTest'                                        \n",
      "HIERARCH WISE OBS RA = 0.0                                                      \n",
      "HIERARCH WISE OBS DEC = 0.0                                                     \n"
     ]
    }
   ],
   "source": [
    "print(repr(header_primary_img_lm))"
   ]
  },
  {
   "cell_type": "code",
   "execution_count": null,
   "id": "fcf146b7-5a68-4e38-a3f4-8c8aa0a46c67",
   "metadata": {},
   "outputs": [],
   "source": []
  },
  {
   "cell_type": "code",
   "execution_count": 9,
   "id": "1f5b3afd-7f43-4e3b-b6cb-fdc4be5a2f85",
   "metadata": {},
   "outputs": [],
   "source": [
    "header_data_img_lm = hdus_img_lm[1].header"
   ]
  },
  {
   "cell_type": "code",
   "execution_count": 10,
   "id": "80a9bf38-4387-40e9-8cc3-8345170e21cf",
   "metadata": {},
   "outputs": [
    {
     "name": "stdout",
     "output_type": "stream",
     "text": [
      "XTENSION= 'IMAGE   '           / Image extension                                \n",
      "BITPIX  =                  -64 / array data type                                \n",
      "NAXIS   =                    2                                                  \n",
      "NAXIS1  =                 2048                                                  \n",
      "NAXIS2  =                 2048                                                  \n",
      "PCOUNT  =                    0 / number of parameters                           \n",
      "GCOUNT  =                    1 / number of groups                               \n",
      "WCSAXESD=                    2                                                  \n",
      "CRPIX1D =              1024.5                                                   \n",
      "CRPIX2D =              1024.5                                                   \n",
      "CDELT1D =               0.018                                                   \n",
      "CDELT2D =               0.018                                                   \n",
      "CUNIT1D = 'mm      '                                                            \n",
      "CUNIT2D = 'mm      '                                                            \n",
      "CTYPE1D = 'LINEAR  '                                                            \n",
      "CTYPE2D = 'LINEAR  '                                                            \n",
      "CRVAL1D =                 0.0                                                   \n",
      "CRVAL2D =                 0.0                                                   \n",
      "LATPOLED=                90.0                                                   \n",
      "MJDREF  =                 0.0  / [d] MJD of fiducial time                       \n",
      "ID      = '1       '                                                            \n",
      "X_CEN   =                  0.0                                                  \n",
      "Y_CEN   =                  0.0                                                  \n",
      "X_SIZE  = '2048    '                                                            \n",
      "Y_SIZE  = '2048    '                                                            \n",
      "HIERARCH pixel_size = 0.018                                                     \n",
      "ANGLE   =                  0.0                                                  \n",
      "GAIN    =                  1.0                                                  \n",
      "WCSAXES =                    2 / Number of coordinate axes                      \n",
      "CRPIX1  =               1024.5 / Pixel coordinate of reference point            \n",
      "CRPIX2  =               1024.5 / Pixel coordinate of reference point            \n",
      "CDELT1  =              0.00547 / [arcsec] Coordinate increment at reference poin\n",
      "CDELT2  =              0.00547 / [arcsec] Coordinate increment at reference poin\n",
      "CUNIT1  = 'arcsec'             / Units of coordinate increment and value        \n",
      "CUNIT2  = 'arcsec'             / Units of coordinate increment and value        \n",
      "CTYPE1  = 'LINEAR'             / Coordinate type code                           \n",
      "CTYPE2  = 'LINEAR'             / Coordinate type code                           \n",
      "CRVAL1  =                  0.0 / [arcsec] Coordinate value at reference point   \n",
      "CRVAL2  =                  0.0 / [arcsec] Coordinate value at reference point   \n",
      "LATPOLE =                 90.0 / [deg] Native latitude of celestial pole        \n",
      "INHERIT = 'T       '                                                            \n",
      "EXTNAME = 'DET1.DATA'                                                           \n"
     ]
    }
   ],
   "source": [
    "print(repr(header_data_img_lm))"
   ]
  },
  {
   "cell_type": "code",
   "execution_count": null,
   "id": "b30ee239-a0c9-4268-b22a-bbdd4bb38c19",
   "metadata": {},
   "outputs": [],
   "source": []
  },
  {
   "cell_type": "code",
   "execution_count": null,
   "id": "131ace17-a84c-4a86-87a9-1ce0388a52a5",
   "metadata": {},
   "outputs": [],
   "source": []
  },
  {
   "cell_type": "code",
   "execution_count": null,
   "id": "c79e4013-ad8b-40b6-b246-c564b9ed6500",
   "metadata": {},
   "outputs": [],
   "source": []
  },
  {
   "cell_type": "code",
   "execution_count": null,
   "id": "090e8621-2edc-436b-94ce-4256f3818245",
   "metadata": {},
   "outputs": [],
   "source": []
  }
 ],
 "metadata": {
  "kernelspec": {
   "display_name": "Python 3 (ipykernel)",
   "language": "python",
   "name": "python3"
  },
  "language_info": {
   "codemirror_mode": {
    "name": "ipython",
    "version": 3
   },
   "file_extension": ".py",
   "mimetype": "text/x-python",
   "name": "python",
   "nbconvert_exporter": "python",
   "pygments_lexer": "ipython3",
   "version": "3.11.5"
  }
 },
 "nbformat": 4,
 "nbformat_minor": 5
}
