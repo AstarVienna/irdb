{
 "cells": [
  {
   "cell_type": "markdown",
   "metadata": {},
   "source": [
    "# Test ADC wheel\n",
    "\n",
    "This notebook demonstrates how to use the various atmospheric dispersion correctors in METIS. Note that the action of an adc is currently restricted to a transmission loss. The implementation of the geometric differential refraction residuals will follow at a later stage."
   ]
  },
  {
   "cell_type": "code",
   "execution_count": 1,
   "metadata": {},
   "outputs": [
    {
     "name": "stdout",
     "output_type": "stream",
     "text": [
      "Python:\n",
      "3.12.7 | packaged by Anaconda, Inc. | (main, Oct  4 2024, 13:17:27) [MSC v.1929 64 bit (AMD64)]\n",
      "\n",
      "Installed Python packages:\n",
      "           anisocado: 0.3.0\n",
      "         astar-utils: 0.3.3\n",
      "             astropy: 6.1.7\n",
      "      beautifulsoup4: 4.13.3\n",
      "            docutils: 0.19\n",
      "               httpx: 0.28.1\n",
      "                lxml: 5.3.2\n",
      "          matplotlib: 3.10.3\n",
      "      more-itertools: 10.3.0\n",
      "               numpy: 1.26.4\n",
      "           packaging: 24.1\n",
      "               pooch: 1.8.2\n",
      "              pyyaml: 6.0.1\n",
      "               scipy: 1.14.1\n",
      "            scopesim: 0.10.0b4\n",
      "       scopesim_data: could not be loaded.\n",
      "  scopesim_templates: 0.6.2a0\n",
      "         skycalc-ipy: 0.5.3\n",
      "             synphot: 1.5.0\n",
      "                tqdm: 4.66.5\n",
      "\n",
      "Installed IRDB packages:\n",
      "\n",
      "Operating System info:\n",
      "   System: Windows\n",
      "  Release: 11\n",
      "  Version: 10.0.26100\n",
      "  Machine: AMD64\n"
     ]
    }
   ],
   "source": [
    "import numpy as np\n",
    "\n",
    "import scopesim as sim\n",
    "sim.bug_report()\n",
    "\n",
    "# Edit this path if you have a custom install directory, otherwise comment it out.\n",
    "sim.link_irdb(\"../../../../\")"
   ]
  },
  {
   "cell_type": "markdown",
   "metadata": {},
   "source": [
    "If you haven't got the instrument packages yet, uncomment the following cell"
   ]
  },
  {
   "cell_type": "code",
   "execution_count": 2,
   "metadata": {},
   "outputs": [],
   "source": [
    "# sim.download_packages([\"METIS\", \"ELT\", \"Armazones\"]) "
   ]
  },
  {
   "cell_type": "code",
   "execution_count": 3,
   "metadata": {},
   "outputs": [],
   "source": [
    "cmd = sim.UserCommands(use_instrument=\"METIS\", set_modes=[\"img_lm\"])"
   ]
  },
  {
   "cell_type": "markdown",
   "metadata": {},
   "source": [
    "The ADC to use is defined by `\"!OBS.adc\"`. This can be set to `false` when no ADC is in the path. The default for LM band imaging is"
   ]
  },
  {
   "cell_type": "code",
   "execution_count": 4,
   "metadata": {},
   "outputs": [
    {
     "data": {
      "text/plain": [
       "'const_90'"
      ]
     },
     "execution_count": 4,
     "metadata": {},
     "output_type": "execute_result"
    }
   ],
   "source": [
    "cmd[\"!OBS.adc\"]"
   ]
  },
  {
   "cell_type": "code",
   "execution_count": 5,
   "metadata": {},
   "outputs": [],
   "source": [
    "src = sim.source.source_templates.empty_sky()"
   ]
  },
  {
   "cell_type": "code",
   "execution_count": 6,
   "metadata": {},
   "outputs": [],
   "source": [
    "metis = sim.OpticalTrain(cmd)"
   ]
  },
  {
   "cell_type": "markdown",
   "metadata": {},
   "source": [
    "The effect `metis[\"adc_wheel\"]` works the same way as e.g. `metis[\"filter_wheel\"]`. The following ADCs are now available (yes, there's only one) and can be selected with `metis[\"adc_wheel\"].change_adc()` as demonstrated below."
   ]
  },
  {
   "cell_type": "code",
   "execution_count": 7,
   "metadata": {
    "scrolled": true
   },
   "outputs": [
    {
     "data": {
      "text/html": [
       "<div><i>Table length=1</i>\n",
       "<table id=\"table1590786033424\" class=\"table-striped table-bordered table-condensed\">\n",
       "<thead><tr><th>name</th><th>max_transmission</th></tr></thead>\n",
       "<thead><tr><th>str8</th><th>float64</th></tr></thead>\n",
       "<tr><td>const_90</td><td>0.9</td></tr>\n",
       "</table></div>"
      ],
      "text/plain": [
       "<Table length=1>\n",
       "  name   max_transmission\n",
       "  str8       float64     \n",
       "-------- ----------------\n",
       "const_90              0.9"
      ]
     },
     "execution_count": 7,
     "metadata": {},
     "output_type": "execute_result"
    }
   ],
   "source": [
    "metis[\"adc_wheel\"].get_table()"
   ]
  },
  {
   "cell_type": "markdown",
   "metadata": {},
   "source": [
    "Run a simulation with the ADC in the path:"
   ]
  },
  {
   "cell_type": "code",
   "execution_count": 8,
   "metadata": {},
   "outputs": [],
   "source": [
    "metis.observe(src, update=True)\n",
    "implane_adc = metis.image_planes[0].data"
   ]
  },
  {
   "cell_type": "markdown",
   "metadata": {},
   "source": [
    "Now remove the ADC from the path by changing to `False`. Run the simulation without the ADC:"
   ]
  },
  {
   "cell_type": "code",
   "execution_count": 9,
   "metadata": {},
   "outputs": [],
   "source": [
    "metis[\"adc_wheel\"].change_adc(False)"
   ]
  },
  {
   "cell_type": "code",
   "execution_count": 10,
   "metadata": {},
   "outputs": [],
   "source": [
    "metis.observe(src, update=True)\n",
    "implane_no_adc = metis.image_planes[0].data"
   ]
  },
  {
   "cell_type": "markdown",
   "metadata": {},
   "source": [
    "Compare the image plane simulated with and without the ADC. The ratio should be equal to the throughput of the ADC (90 per cent):"
   ]
  },
  {
   "cell_type": "code",
   "execution_count": 11,
   "metadata": {},
   "outputs": [
    {
     "name": "stdout",
     "output_type": "stream",
     "text": [
      "With ADC:    242637.3\n",
      "Without ADC: 269597.0\n",
      "Ratio:       0.9\n"
     ]
    }
   ],
   "source": [
    "med_adc = np.median(implane_adc)\n",
    "med_no_adc = np.median(implane_no_adc)\n",
    "print(\"With ADC:    {:.1f}\".format(np.median(med_adc)))\n",
    "print(\"Without ADC: {:.1f}\".format(np.median(med_no_adc)))\n",
    "print(\"Ratio:       {:.1f}\".format(med_adc/med_no_adc))"
   ]
  }
 ],
 "metadata": {
  "kernelspec": {
   "display_name": "Python 3 (ipykernel)",
   "language": "python",
   "name": "python3"
  },
  "language_info": {
   "codemirror_mode": {
    "name": "ipython",
    "version": 3
   },
   "file_extension": ".py",
   "mimetype": "text/x-python",
   "name": "python",
   "nbconvert_exporter": "python",
   "pygments_lexer": "ipython3",
   "version": "3.12.7"
  }
 },
 "nbformat": 4,
 "nbformat_minor": 4
}
