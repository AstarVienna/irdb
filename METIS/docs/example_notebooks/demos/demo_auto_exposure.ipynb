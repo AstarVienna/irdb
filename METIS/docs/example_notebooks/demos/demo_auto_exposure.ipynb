{
 "cells": [
  {
   "cell_type": "markdown",
   "metadata": {},
   "source": [
    "This is a setup/test/demonstration notebook for the `AutoExposure` effect in Scopesim. The notebook uses the `irdb/METIS` configuration. The observed source is blank sky, except for the last example where a star of 0 mag is used (Vega)."
   ]
  },
  {
   "cell_type": "code",
   "execution_count": 1,
   "metadata": {},
   "outputs": [
    {
     "name": "stdout",
     "output_type": "stream",
     "text": [
      "Python:\n",
      " 3.6.8 (tags/v3.6.8:3c6b436a57, Dec 24 2018, 00:16:47) [MSC v.1916 64 bit (AMD64)]\n",
      "\n",
      "scopesim :  0.4.0\n",
      "numpy :  1.19.5\n",
      "scipy :  1.5.4\n",
      "astropy :  4.1\n",
      "matplotlib :  3.3.4\n",
      "synphot :  1.0.1\n",
      "skycalc_ipy : version number not available\n",
      "requests :  2.25.1\n",
      "bs4 :  4.9.3\n",
      "yaml :  5.4.1\n",
      "\n",
      "Operating system:  Windows\n",
      "         Release:  10\n",
      "         Version:  10.0.19041\n",
      "         Machine:  AMD64\n"
     ]
    }
   ],
   "source": [
    "import scopesim as sim\n",
    "sim.bug_report()\n",
    "\n",
    "# Edit this path if you have a custom install directory, otherwise comment it out.\n",
    "sim.rc.__config__[\"!SIM.file.local_packages_path\"] = \"../../../../\""
   ]
  },
  {
   "cell_type": "markdown",
   "metadata": {},
   "source": [
    "If you haven't got the instrument packages yet, uncomment the following cell. "
   ]
  },
  {
   "cell_type": "code",
   "execution_count": 2,
   "metadata": {},
   "outputs": [],
   "source": [
    "# sim.download_package([\"instruments/METIS\", \"telescopes/ELT\", \"locations/Armazones\"])"
   ]
  },
  {
   "cell_type": "markdown",
   "metadata": {},
   "source": [
    "# Imaging LM-band"
   ]
  },
  {
   "cell_type": "code",
   "execution_count": 3,
   "metadata": {},
   "outputs": [],
   "source": [
    "cmd = sim.UserCommands(use_instrument=\"METIS\", set_modes=\"img_lm\")"
   ]
  },
  {
   "cell_type": "code",
   "execution_count": 4,
   "metadata": {},
   "outputs": [],
   "source": [
    "metis = sim.OpticalTrain(cmd)"
   ]
  },
  {
   "cell_type": "code",
   "execution_count": 5,
   "metadata": {},
   "outputs": [],
   "source": [
    "src = sim.source.source_templates.empty_sky()"
   ]
  },
  {
   "cell_type": "code",
   "execution_count": 6,
   "metadata": {},
   "outputs": [],
   "source": [
    "metis.observe(src)"
   ]
  },
  {
   "cell_type": "code",
   "execution_count": 7,
   "metadata": {},
   "outputs": [
    {
     "name": "stdout",
     "output_type": "stream",
     "text": [
      "Requested exposure time: 1.000 s\n",
      "Exposure parameters:\n",
      "                DIT: 0.250 s  NDIT: 4\n",
      "Total exposure time: 1.000 s\n",
      "\n",
      "Result\n",
      "======\n",
      "Maximum value in readout (per DIT):  63537.6\n",
      "Detector full well:                 100000.0\n",
      "Fill fraction:                          63.5 per cent\n"
     ]
    }
   ],
   "source": [
    "outimg = metis.readout()[0][1].data \n",
    "outimg /= sim.utils.from_currsys(metis['summed_exposure'].meta['ndit'])\n",
    "\n",
    "full_well = sim.utils.from_currsys(\"!DET.full_well\")\n",
    "print(\"\\nResult\\n======\")\n",
    "print(\"Maximum value in readout (per DIT): {:8.1f}\".format(outimg.max()))\n",
    "print(\"Detector full well:                 {:8.1f}\".format(full_well))\n",
    "print(\"Fill fraction:                      {:8.1f} per cent\".format(100 * outimg.max()/ full_well))"
   ]
  },
  {
   "cell_type": "markdown",
   "metadata": {},
   "source": [
    "Exposure time can be changed with an argument to `metis.readout()`:"
   ]
  },
  {
   "cell_type": "code",
   "execution_count": 8,
   "metadata": {},
   "outputs": [
    {
     "name": "stdout",
     "output_type": "stream",
     "text": [
      "Requested exposure time: 1000.000 s\n",
      "Exposure parameters:\n",
      "                DIT: 0.298 s  NDIT: 3354\n",
      "Total exposure time: 1000.000 s\n",
      "\n",
      "Result\n",
      "======\n",
      "Maximum value in readout (per DIT):  75006.0\n",
      "Detector full well:                 100000.0\n",
      "Fill fraction:                          75.0 per cent\n"
     ]
    }
   ],
   "source": [
    "outimg = metis.readout(exptime = 1000)[0][1].data \n",
    "outimg /= sim.utils.from_currsys(metis['summed_exposure'].meta['ndit'])\n",
    "\n",
    "full_well = sim.utils.from_currsys(\"!DET.full_well\")\n",
    "print(\"\\nResult\\n======\")\n",
    "print(\"Maximum value in readout (per DIT): {:8.1f}\".format(outimg.max()))\n",
    "print(\"Detector full well:                 {:8.1f}\".format(full_well))\n",
    "print(\"Fill fraction:                      {:8.1f} per cent\".format(100 * outimg.max()/ full_well))"
   ]
  },
  {
   "cell_type": "markdown",
   "metadata": {},
   "source": [
    "# Imaging N-band"
   ]
  },
  {
   "cell_type": "code",
   "execution_count": 9,
   "metadata": {},
   "outputs": [],
   "source": [
    "cmd = sim.UserCommands(use_instrument=\"METIS\", set_modes=['img_n'])"
   ]
  },
  {
   "cell_type": "code",
   "execution_count": 10,
   "metadata": {},
   "outputs": [],
   "source": [
    "metis = sim.OpticalTrain(cmd)"
   ]
  },
  {
   "cell_type": "code",
   "execution_count": 11,
   "metadata": {},
   "outputs": [],
   "source": [
    "metis.observe(src)"
   ]
  },
  {
   "cell_type": "code",
   "execution_count": 12,
   "metadata": {},
   "outputs": [
    {
     "name": "stdout",
     "output_type": "stream",
     "text": [
      "Requested exposure time: 1.000 s\n",
      "Exposure parameters:\n",
      "                DIT: 0.017 s  NDIT: 59\n",
      "Total exposure time: 1.000 s\n",
      "\n",
      "Result\n",
      "======\n",
      "Maximum value in readout (per DIT): 2091735.2\n",
      "Detector full well:                 2800000.0\n",
      "Fill fraction:                           74.7 per cent\n"
     ]
    }
   ],
   "source": [
    "outimg = metis.readout()[0][1].data \n",
    "outimg /= sim.utils.from_currsys(metis['summed_exposure'].meta['ndit'])\n",
    "\n",
    "full_well = sim.utils.from_currsys(\"!DET.full_well\")\n",
    "print(\"\\nResult\\n======\")\n",
    "print(\"Maximum value in readout (per DIT): {:9.1f}\".format(outimg.max()))\n",
    "print(\"Detector full well:                 {:9.1f}\".format(full_well))\n",
    "print(\"Fill fraction:                      {:9.1f} per cent\".format(100 * outimg.max()/ full_well))"
   ]
  },
  {
   "cell_type": "markdown",
   "metadata": {},
   "source": [
    "# Long-slit spectroscopy"
   ]
  },
  {
   "cell_type": "code",
   "execution_count": 13,
   "metadata": {},
   "outputs": [],
   "source": [
    "cmd = sim.UserCommands(use_instrument=\"METIS\", set_modes=['lss_l'])"
   ]
  },
  {
   "cell_type": "code",
   "execution_count": 14,
   "metadata": {},
   "outputs": [],
   "source": [
    "metis = sim.OpticalTrain(cmd)"
   ]
  },
  {
   "cell_type": "code",
   "execution_count": 15,
   "metadata": {},
   "outputs": [],
   "source": [
    "metis.observe(src)"
   ]
  },
  {
   "cell_type": "code",
   "execution_count": 16,
   "metadata": {},
   "outputs": [
    {
     "name": "stdout",
     "output_type": "stream",
     "text": [
      "Requested exposure time: 3600.000 s\n",
      "Exposure parameters:\n",
      "                DIT: 6.040 s  NDIT: 596\n",
      "Total exposure time: 3600.000 s\n",
      "\n",
      "Result\n",
      "======\n",
      "Maximum value in readout (per DIT):  74937.2\n",
      "Detector full well:                 100000.0\n",
      "Fill fraction:                          74.9 per cent\n"
     ]
    }
   ],
   "source": [
    "outimg = metis.readout(exptime=3600.)[0][1].data \n",
    "outimg /= sim.utils.from_currsys(metis['summed_exposure'].meta['ndit'])\n",
    "full_well = sim.utils.from_currsys(\"!DET.full_well\")\n",
    "\n",
    "print(\"\\nResult\\n======\")\n",
    "print(\"Maximum value in readout (per DIT): {:8.1f}\".format(outimg.max()))\n",
    "print(\"Detector full well:                 {:8.1f}\".format(full_well))\n",
    "print(\"Fill fraction:                      {:8.1f} per cent\".format(100 * outimg.max()/ full_well))"
   ]
  },
  {
   "cell_type": "markdown",
   "metadata": {},
   "source": [
    "# What happens when the source saturates the detector?\n",
    "Use N-band imaging of Vega. DIT is automatically set to the minimum possible value, but the centre of the star still saturates the detector. In the final image, the star's profile is capped at the full well of the detector."
   ]
  },
  {
   "cell_type": "code",
   "execution_count": 17,
   "metadata": {},
   "outputs": [],
   "source": [
    "cmd = sim.UserCommands(use_instrument=\"METIS\", set_modes=[\"img_n\"])"
   ]
  },
  {
   "cell_type": "code",
   "execution_count": null,
   "metadata": {},
   "outputs": [],
   "source": [
    "metis = sim.OpticalTrain(cmd)"
   ]
  },
  {
   "cell_type": "code",
   "execution_count": null,
   "metadata": {},
   "outputs": [],
   "source": [
    "src = sim.source.source_templates.star()"
   ]
  },
  {
   "cell_type": "code",
   "execution_count": null,
   "metadata": {},
   "outputs": [],
   "source": [
    "metis.observe(src)"
   ]
  },
  {
   "cell_type": "code",
   "execution_count": null,
   "metadata": {},
   "outputs": [],
   "source": [
    "outimg = metis.readout()[0][1].data\n",
    "outimg /= sim.utils.from_currsys(metis['summed_exposure'].meta['ndit'])\n",
    "full_well = sim.utils.from_currsys(\"!DET.full_well\")\n",
    "\n",
    "print(\"\\nResult\\n======\")\n",
    "print(\"Maximum value in readout (per DIT): {:9.1f}\".format(outimg.max()))\n",
    "print(\"Detector full well:                 {:9.1f}\".format(full_well))\n",
    "print(\"Fill fraction:                      {:9.1f} per cent\".format(100 * outimg.max()/ full_well))"
   ]
  },
  {
   "cell_type": "markdown",
   "metadata": {},
   "source": [
    "Plot a cut through the star to show how its peak saturates the detector."
   ]
  },
  {
   "cell_type": "code",
   "execution_count": null,
   "metadata": {},
   "outputs": [],
   "source": [
    "from matplotlib import pyplot as plt\n",
    "%matplotlib inline"
   ]
  },
  {
   "cell_type": "code",
   "execution_count": null,
   "metadata": {},
   "outputs": [],
   "source": [
    "plt.plot(outimg[950:1100, 1024])"
   ]
  },
  {
   "cell_type": "code",
   "execution_count": null,
   "metadata": {},
   "outputs": [],
   "source": [
    "npix = (outimg >= full_well).sum()\n",
    "print(\"Number of saturated pixels:\", npix)"
   ]
  }
 ],
 "metadata": {
  "nbsphinx": {
   "execute": "always"
  },
  "kernelspec": {
   "display_name": "Python 3",
   "language": "python",
   "name": "python3"
  },
  "language_info": {
   "codemirror_mode": {
    "name": "ipython",
    "version": 3
   },
   "file_extension": ".py",
   "mimetype": "text/x-python",
   "name": "python",
   "nbconvert_exporter": "python",
   "pygments_lexer": "ipython3",
   "version": "3.6.8"
  }
 },
 "nbformat": 4,
 "nbformat_minor": 4
}
