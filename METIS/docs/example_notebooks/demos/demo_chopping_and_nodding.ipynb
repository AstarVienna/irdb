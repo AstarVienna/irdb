{
 "cells": [
  {
   "cell_type": "markdown",
   "metadata": {},
   "source": [
    "# Chopping and nodding in Scopesim\n",
    "\n",
    "This notebook demonstrates how to use the `ChopNod` effect in Scopesim. Both chopping and nodding are currently defined as two-point patterns, where the throw direction is given as a 2D vector (dx, dy) in `metis['chop_nod'].meta['chop_offsets']` and `metis['chop_nod'].meta['nod_offsets']`. For parallel nodding, the two vectors are parallel (typically nod_offset = - chop_offset, giving a three-point pattern), for perpendicular nodding, the vectors are orthogonal.  "
   ]
  },
  {
   "cell_type": "code",
   "execution_count": 1,
   "metadata": {},
   "outputs": [
    {
     "name": "stdout",
     "output_type": "stream",
     "text": [
      "Python:\n",
      " 3.6.8 (tags/v3.6.8:3c6b436a57, Dec 24 2018, 00:16:47) [MSC v.1916 64 bit (AMD64)]\n",
      "\n",
      "scopesim :  0.4.0\n",
      "numpy :  1.19.5\n",
      "scipy :  1.5.4\n",
      "astropy :  4.1\n",
      "matplotlib :  3.3.4\n",
      "synphot :  1.0.1\n",
      "skycalc_ipy : version number not available\n",
      "requests :  2.25.1\n",
      "bs4 :  4.9.3\n",
      "yaml :  5.4.1\n",
      "\n",
      "Operating system:  Windows\n",
      "         Release:  10\n",
      "         Version:  10.0.19041\n",
      "         Machine:  AMD64\n"
     ]
    }
   ],
   "source": [
    "import scopesim as sim\n",
    "sim.bug_report()\n",
    "\n",
    "# Edit this path if you have a custom install directory, otherwise comment it out.\n",
    "sim.rc.__config__[\"!SIM.file.local_packages_path\"] = \"../../../../\" "
   ]
  },
  {
   "cell_type": "code",
   "execution_count": 2,
   "metadata": {},
   "outputs": [],
   "source": [
    "from matplotlib import pyplot as plt\n",
    "%matplotlib inline"
   ]
  },
  {
   "cell_type": "markdown",
   "metadata": {},
   "source": [
    "If you haven't got the instrument packages yet, uncomment the following cell."
   ]
  },
  {
   "cell_type": "code",
   "execution_count": 3,
   "metadata": {},
   "outputs": [],
   "source": [
    "# sim.download_package([\"instruments/METIS\", \"telescopes/ELT\", \"locations/Armazones\"])"
   ]
  },
  {
   "cell_type": "code",
   "execution_count": 4,
   "metadata": {},
   "outputs": [],
   "source": [
    "cmd = sim.UserCommands(use_instrument=\"METIS\", set_modes=['img_n'])"
   ]
  },
  {
   "cell_type": "code",
   "execution_count": 5,
   "metadata": {},
   "outputs": [],
   "source": [
    "metis = sim.OpticalTrain(cmd)\n",
    "metis['chop_nod'].include = True"
   ]
  },
  {
   "cell_type": "markdown",
   "metadata": {},
   "source": [
    "The default is perpendicular nodding, with the chop throw in the x-direction and the nod throw in the y direction."
   ]
  },
  {
   "cell_type": "code",
   "execution_count": 6,
   "metadata": {},
   "outputs": [
    {
     "name": "stdout",
     "output_type": "stream",
     "text": [
      "Chop offsets: [3, 0]\n",
      "Nod offsets:  [0, 3]\n"
     ]
    }
   ],
   "source": [
    "print(\"Chop offsets:\", sim.utils.from_currsys(metis['chop_nod'].meta['chop_offsets']))\n",
    "print(\"Nod offsets: \", sim.utils.from_currsys(metis['chop_nod'].meta['nod_offsets']))"
   ]
  },
  {
   "cell_type": "code",
   "execution_count": 7,
   "metadata": {},
   "outputs": [],
   "source": [
    "src = sim.source.source_templates.star()"
   ]
  },
  {
   "cell_type": "code",
   "execution_count": 8,
   "metadata": {},
   "outputs": [
    {
     "name": "stdout",
     "output_type": "stream",
     "text": [
      "Requested exposure time: 1.000 s\n",
      "Warning: The detector will be saturated!\n",
      "Exposure parameters:\n",
      "                DIT: 0.011 s  NDIT: 90\n",
      "Total exposure time: 0.990 s\n"
     ]
    }
   ],
   "source": [
    "metis.observe(src, update=True)\n",
    "imghdu = metis.readout()[0][1]"
   ]
  },
  {
   "cell_type": "code",
   "execution_count": 9,
   "metadata": {},
   "outputs": [
    {
     "data": {
      "text/plain": [
       "<matplotlib.colorbar.Colorbar at 0x2a7bcb20dd8>"
      ]
     },
     "execution_count": 9,
     "metadata": {},
     "output_type": "execute_result"
    },
    {
     "data": {
      "image/png": "[encoded data removed]",
      "text/plain": [
       "<Figure size 432x288 with 2 Axes>"
      ]
     },
     "metadata": {
      "needs_background": "light"
     },
     "output_type": "display_data"
    }
   ],
   "source": [
    "plt.imshow(imghdu.data, origin='lower', vmin=-5e7, vmax=5e7)\n",
    "plt.colorbar()"
   ]
  },
  {
   "cell_type": "markdown",
   "metadata": {},
   "source": [
    "For parallel nodding, turn the nod throw into the x-direction as well."
   ]
  },
  {
   "cell_type": "code",
   "execution_count": 10,
   "metadata": {},
   "outputs": [],
   "source": [
    "metis['chop_nod'].meta['nod_offsets'] = [-3, 0]"
   ]
  },
  {
   "cell_type": "code",
   "execution_count": 11,
   "metadata": {},
   "outputs": [
    {
     "name": "stdout",
     "output_type": "stream",
     "text": [
      "Requested exposure time: 1.000 s\n",
      "Warning: The detector will be saturated!\n",
      "Exposure parameters:\n",
      "                DIT: 0.011 s  NDIT: 90\n",
      "Total exposure time: 0.990 s\n"
     ]
    }
   ],
   "source": [
    "imghdu_par = metis.readout()[0][1]"
   ]
  },
  {
   "cell_type": "code",
   "execution_count": null,
   "metadata": {},
   "outputs": [
    {
     "data": {
      "text/plain": [
       "<matplotlib.image.AxesImage at 0x2a7bcbc1a58>"
      ]
     },
     "execution_count": 12,
     "metadata": {},
     "output_type": "execute_result"
    }
   ],
   "source": [
    "plt.imshow(imghdu_par.data, origin='lower', vmin=-5e7, vmax=5e7)"
   ]
  },
  {
   "cell_type": "markdown",
   "metadata": {},
   "source": [
    "Other four-point patterns are possible:"
   ]
  },
  {
   "cell_type": "code",
   "execution_count": null,
   "metadata": {},
   "outputs": [],
   "source": [
    "metis['chop_nod'].meta['nod_offsets'] = [-3, 3]\n",
    "imghdu_3 = metis.readout()[0][1]\n",
    "plt.imshow(imghdu_3.data, origin='lower', vmin=-5e7, vmax=5e7)"
   ]
  },
  {
   "cell_type": "code",
   "execution_count": null,
   "metadata": {},
   "outputs": [],
   "source": [
    "metis['chop_nod'].meta['chop_offsets'] = [-3, 2]\n",
    "metis['chop_nod'].meta['nod_offsets'] = [2, 3]\n",
    "imghdu_4 = metis.readout()[0][1]\n",
    "plt.imshow(imghdu_4.data, origin='lower', vmin=-5e7, vmax=5e7)"
   ]
  }
 ],
 "metadata": {
  "kernelspec": {
   "display_name": "Python 3",
   "language": "python",
   "name": "python3"
  },
  "language_info": {
   "codemirror_mode": {
    "name": "ipython",
    "version": 3
   },
   "file_extension": ".py",
   "mimetype": "text/x-python",
   "name": "python",
   "nbconvert_exporter": "python",
   "pygments_lexer": "ipython3",
   "version": "3.6.8"
  },
  "nbsphinx": {
   "execute": "always"
  }
 },
 "nbformat": 4,
 "nbformat_minor": 4
}
