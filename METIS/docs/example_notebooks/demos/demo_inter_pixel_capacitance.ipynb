{
 "cells": [
  {
   "attachments": {},
   "cell_type": "markdown",
   "id": "f6b7e7d5-70b3-4a06-8380-80ba648170c5",
   "metadata": {},
   "source": [
    "This notebook demonstrates the ScopeSim effect `InterPixelCapacitance`. Inter-pixel capacitance correlates the voltages or data values measured in adjacent pixels of an infrared detector. The effect implements the three-parameter model of Kannawadi et al. (2016) (PASP 128, 095001) and applies the following convolution kernel (in their notation) to the detector readout:\n",
    "$$ K(\\alpha, \\alpha^\\prime, \\alpha_{+}) = \\begin{pmatrix}\n",
    "   \\alpha^\\prime & \\alpha - \\alpha_{+} & \\alpha^\\prime \\\\\n",
    "   \\alpha + \\alpha_{+} & 1 - 4(\\alpha + \\alpha^\\prime) & \\alpha + \\alpha_{+} \\\\\n",
    "   \\alpha^\\prime & \\alpha - \\alpha_{+} & \\alpha^\\prime\n",
    "   \\end{pmatrix}\n",
    "$$\n",
    "\n",
    "The correspondence between these parameters and those of the Scopesim effect is as follows:\n",
    "- $\\alpha$ -- ``alpha_edge``: gives the influence of the four pixels sharing an edge with the target pixel.\n",
    "- $\\alpha^\\prime$ -- ``alpha_corner``: gives the influence of the four pixels sharing a corner with the target pixel.\n",
    "- $\\alpha_{+}$ -- ``alpha_aniso``: gives a difference in the influence of neighbouring pixels along rows and along columns\n",
    "\n",
    "The default setting in the instrument package sets these parameter with literature values typical for HxRG detectors. \n",
    "It is also possible to set the kernel directly in the yaml file. This allows using kernels that are larger than $3\\times 3$.\n",
    "\n",
    "When the $\\alpha$ parameters are used to define the IPC kernel it is automatically normalised to unit sum. When the kernel is provided it is normalised by ScopeSim when its sum is greater than one. When it is less than one (but larger than zero), it is accepted as is, which then leads to loss of flux -- it is the user's responsibility to ensure the kernel is normalised unless this flux loss is intended. Kernels with negative sum are rejected and raise a `ValueError`.   "
   ]
  },
  {
   "cell_type": "code",
   "execution_count": null,
   "id": "9339c51b-9402-467c-91dd-57f90283101f",
   "metadata": {},
   "outputs": [],
   "source": [
    "import numpy as np\n",
    "from matplotlib import pyplot as plt\n",
    "from astropy import units as u"
   ]
  },
  {
   "cell_type": "code",
   "execution_count": null,
   "id": "d2fb8c45-8d59-49bc-a940-fde3c99a147e",
   "metadata": {},
   "outputs": [],
   "source": [
    "import scopesim as sim\n",
    "sim.bug_report()\n",
    "\n",
    "# Edit this path if you have a custom install directory, otherwise comment it out. [For ReadTheDocs only]\n",
    "sim.link_irdb(\"../../../../\")"
   ]
  },
  {
   "cell_type": "markdown",
   "id": "d073e7be-ffd4-4697-84e9-bc592d04df34",
   "metadata": {},
   "source": [
    "If you haven't got the instrument packages yet, uncomment the following cell, which will install the packages into `./inst_pkgs`, a subdirectory of your current working directory. If you have already downloaded the packages but to a different location you can set\n",
    "```python\n",
    "sim.set_inst_pgks_path(\"/path/to/inst/pkgs\")\n",
    "```"
   ]
  },
  {
   "cell_type": "code",
   "execution_count": null,
   "id": "702e1c8f-338f-4166-a3ad-ad58df89534d",
   "metadata": {},
   "outputs": [],
   "source": [
    "# sim.download_package([\"METIS\", \"ELT\", \"Armazones\"])"
   ]
  },
  {
   "cell_type": "markdown",
   "id": "55e7fa50-baf8-4410-8db9-eb9f30021075",
   "metadata": {},
   "source": [
    "The `InterPixelCapacitance` effect will be demonstrated in the METIS IMG_LM mode. It will become active in the `readout()` step."
   ]
  },
  {
   "cell_type": "code",
   "execution_count": null,
   "id": "fe9690aa-19c5-46ff-8ff2-47d5cf5933cc",
   "metadata": {},
   "outputs": [],
   "source": [
    "cmd = sim.UserCommands(use_instrument=\"METIS\", set_modes=[\"img_lm\"])"
   ]
  },
  {
   "cell_type": "code",
   "execution_count": null,
   "id": "aa6477aa-4f28-442c-8f3f-7aee4036b983",
   "metadata": {},
   "outputs": [],
   "source": [
    "metis = sim.OpticalTrain(cmd)"
   ]
  },
  {
   "cell_type": "code",
   "execution_count": null,
   "id": "aff0e33d-ce64-48fb-aeb4-57de2b9b6a3c",
   "metadata": {},
   "outputs": [],
   "source": [
    "metis.effects.pprint_all()"
   ]
  },
  {
   "cell_type": "code",
   "execution_count": null,
   "id": "a5ffef65-8b14-4a84-8c0e-457bfdc4a83e",
   "metadata": {},
   "outputs": [],
   "source": []
  },
  {
   "cell_type": "code",
   "execution_count": null,
   "id": "c8bd1828-de83-4b35-b8ef-16d61dc64d98",
   "metadata": {},
   "outputs": [],
   "source": [
    "print(metis['ipc'])"
   ]
  },
  {
   "cell_type": "markdown",
   "id": "e495fc00-54c6-4c6f-aec6-836e2565f734",
   "metadata": {},
   "source": [
    "The kernel can be replaced using the `update` method. Note that the parameters need to be specified in full, either as `kernel` or the three `alpha` parameters (`alpha` parameters that are not set explicitly default to zero):"
   ]
  },
  {
   "cell_type": "code",
   "execution_count": null,
   "id": "dc516e61-201e-4b3c-b1cb-df1068b2d327",
   "metadata": {},
   "outputs": [],
   "source": [
    "metis['ipc'].update(alpha_edge=0.02, alpha_corner=0.002, alpha_aniso=0.001)\n",
    "print(metis['ipc'])"
   ]
  },
  {
   "cell_type": "markdown",
   "id": "eea214d5-8863-44cb-888b-23e358966832",
   "metadata": {},
   "source": [
    "## Effect on noise\n",
    "The IPC effect is applied after dark current and shot noise but before readout noise. Its main effect is to correlate the photon noise, which is for instance measurable as a decrease in the rms noise. To show this, we observe a piece of blank sky and read out with and without the IPC effect included."
   ]
  },
  {
   "cell_type": "code",
   "execution_count": null,
   "id": "ca7d8574-b87c-4b13-ba43-1c8432f51c48",
   "metadata": {},
   "outputs": [],
   "source": [
    "metis.observe()"
   ]
  },
  {
   "cell_type": "code",
   "execution_count": null,
   "id": "87f64fb0-5352-49c9-9a58-7dde96190640",
   "metadata": {},
   "outputs": [],
   "source": [
    "metis['ipc'].include = True         # this is the default\n",
    "with_ipc = metis.readout(exptime=10)[0]"
   ]
  },
  {
   "cell_type": "code",
   "execution_count": null,
   "id": "8f2428bc-abf4-45f2-9ada-64457866c752",
   "metadata": {},
   "outputs": [],
   "source": [
    "metis['ipc'].include = False\n",
    "without_ipc = metis.readout(exptime=10)[0]"
   ]
  },
  {
   "cell_type": "code",
   "execution_count": null,
   "id": "ec0d258d-7421-415e-89b6-ffccaeb6d4af",
   "metadata": {},
   "outputs": [],
   "source": [
    "# The edge rows and columns need to be discarded as they are incompletely covered by the IPC kernel\n",
    "print(f\"RMS noise without IPC: {without_ipc[1].data[1:-1, 1:-1].std()}\")\n",
    "print(f\"RMS noise with IPC:    {with_ipc[1].data[1:-1, 1:-1].std()}\")"
   ]
  },
  {
   "cell_type": "markdown",
   "id": "09c84f86-009a-4f2b-8709-fe1dd4bbad3f",
   "metadata": {},
   "source": [
    "## Effect on image quality\n",
    "The effect on the image quality is rather slight, in particular because the SCAO PSF in the L band is broad with a FWHM of about five pixels. We simulate a star and apply the default SCAO PSF."
   ]
  },
  {
   "cell_type": "code",
   "execution_count": null,
   "id": "b2cb9f2b-638a-4422-9793-cf43acac53e5",
   "metadata": {},
   "outputs": [],
   "source": [
    "star = sim.source.source_templates.star(flux=0.01*u.Jy)"
   ]
  },
  {
   "cell_type": "code",
   "execution_count": null,
   "id": "fcf5e4bf-9a88-4981-bf93-7a860fbf9812",
   "metadata": {},
   "outputs": [],
   "source": [
    "metis.observe(star)"
   ]
  },
  {
   "cell_type": "code",
   "execution_count": null,
   "id": "65274649-0a13-486c-a4bf-a59ac8ddeec0",
   "metadata": {},
   "outputs": [],
   "source": [
    "metis['ipc'].include = True\n",
    "star_w_ipc = metis.readout(exptime=1)[0]\n",
    "metis['ipc'].include = False\n",
    "star_wo_ipc = metis.readout(exptime=1)[0]"
   ]
  },
  {
   "cell_type": "code",
   "execution_count": null,
   "id": "b606d556-156a-4629-aa15-5c4ea0045755",
   "metadata": {},
   "outputs": [],
   "source": [
    "plt.plot(np.arange(1010,1035), star_wo_ipc[1].data[1023, 1010:1035], label=\"without IPC\")\n",
    "plt.plot(np.arange(1010, 1035), star_w_ipc[1].data[1023, 1010:1035], label=\"with IPC\")\n",
    "plt.legend();"
   ]
  },
  {
   "cell_type": "code",
   "execution_count": null,
   "id": "6ae04433-7442-45fc-8c75-705773b49f58",
   "metadata": {},
   "outputs": [],
   "source": [
    "plt.plot(np.arange(1010, 1035), (star_w_ipc[1].data - star_wo_ipc[1].data)[1023, 1010:1035], label=\"Difference (with_ipc - without_ipc)\")\n",
    "plt.legend();"
   ]
  },
  {
   "cell_type": "markdown",
   "id": "718af26c-c72f-4667-9abb-3bf4a7e018d9",
   "metadata": {},
   "source": [
    "The effect is also more pronounced with a different (though unrealistic) kernel:"
   ]
  },
  {
   "cell_type": "code",
   "execution_count": null,
   "id": "73e4df86-3089-4403-9cd3-291ffd3617b6",
   "metadata": {},
   "outputs": [],
   "source": [
    "metis['ipc'].update(kernel=[[1, 1, 1], [1, 1, 1], [1, 1, 1]])\n",
    "print(metis['ipc'])"
   ]
  },
  {
   "cell_type": "code",
   "execution_count": null,
   "id": "65b9b44c-fbc0-41c5-af99-495e886628ad",
   "metadata": {},
   "outputs": [],
   "source": [
    "metis['ipc'].include = True\n",
    "star_w_strong_ipc = metis.readout(exptime=1)[0]"
   ]
  },
  {
   "cell_type": "code",
   "execution_count": null,
   "id": "b539e170-8d9e-4f44-ba05-84cf792a757a",
   "metadata": {},
   "outputs": [],
   "source": [
    "plt.plot(np.arange(1010,1035), star_wo_ipc[1].data[1023, 1010:1035], label=\"without IPC\")\n",
    "plt.plot(np.arange(1010, 1035), star_w_strong_ipc[1].data[1023, 1010:1035], label=\"with strong IPC\")\n",
    "plt.legend();"
   ]
  }
 ],
 "metadata": {
  "kernelspec": {
   "display_name": "Python 3 (ipykernel)",
   "language": "python",
   "name": "python3"
  },
  "language_info": {
   "codemirror_mode": {
    "name": "ipython",
    "version": 3
   },
   "file_extension": ".py",
   "mimetype": "text/x-python",
   "name": "python",
   "nbconvert_exporter": "python",
   "pygments_lexer": "ipython3",
   "version": "3.12.9"
  }
 },
 "nbformat": 4,
 "nbformat_minor": 5
}
