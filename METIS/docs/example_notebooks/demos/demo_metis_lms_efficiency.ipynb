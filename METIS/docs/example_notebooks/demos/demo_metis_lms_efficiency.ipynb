{
 "cells": [
  {
   "cell_type": "markdown",
   "metadata": {},
   "source": [
    "This notebook demonstrates the effect `MetisLMSEfficiency`. Here we use it standalone to reproduce Figure 6 from E-REP-ATC-MET-1016 (v1.0) to show that the effect computes the efficiency correctly."
   ]
  },
  {
   "cell_type": "code",
   "execution_count": null,
   "metadata": {},
   "outputs": [],
   "source": [
    "from scopesim.effects.metis_lms_trace_list import MetisLMSEfficiency"
   ]
  },
  {
   "cell_type": "code",
   "execution_count": null,
   "metadata": {},
   "outputs": [],
   "source": [
    "import numpy as np\n",
    "from astropy import units as u\n",
    "from matplotlib import pyplot as plt\n",
    "%matplotlib inline"
   ]
  },
  {
   "cell_type": "markdown",
   "metadata": {},
   "source": [
    "When simulating an LMS observation, the user selects a target wavelength by setting `cmd['!OBS.wavelen']`, e.g. 4.2 (microns). The efficiency effect is then instantiated (within scopesim) as"
   ]
  },
  {
   "cell_type": "code",
   "execution_count": null,
   "metadata": {},
   "outputs": [],
   "source": [
    "eff = MetisLMSEfficiency(wavelen=4.2, filename=\"TRACE_LMS.fits\")"
   ]
  },
  {
   "cell_type": "markdown",
   "metadata": {},
   "source": [
    "The effect automatically selects the echelle order for that wavelength and computes the grating efficiency."
   ]
  },
  {
   "cell_type": "code",
   "execution_count": null,
   "metadata": {},
   "outputs": [],
   "source": [
    "print(eff.meta['order'])"
   ]
  },
  {
   "cell_type": "code",
   "execution_count": null,
   "metadata": {},
   "outputs": [],
   "source": [
    "eff.surface.transmission.plot()"
   ]
  },
  {
   "cell_type": "markdown",
   "metadata": {},
   "source": [
    "Alternatively, the order can be specified directly. This is used in the following to plot the efficiencies for all orders."
   ]
  },
  {
   "cell_type": "code",
   "execution_count": null,
   "metadata": {},
   "outputs": [],
   "source": [
    "plt.figure(figsize=(8, 6))\n",
    "plt.ylim(0, 1)\n",
    "plt.xlim(3.0, 5.05)\n",
    "plt.xlabel(r\"Wavelength [$\\mu$m]\")\n",
    "plt.ylabel(\"Efficiency\")\n",
    "plt.xticks(np.arange(3.0, 5.05, 0.2))\n",
    "for order in np.arange(22, 37):\n",
    "    eff = MetisLMSEfficiency(order=order, filename=\"TRACE_LMS.fits\")\n",
    "    lam = eff.surface.transmission.waveset\n",
    "    effic = eff.surface.transmission(lam)\n",
    "    lammax = lam[np.argmax(effic)]\n",
    "    p = plt.plot(lam.to(u.um), eff.surface.transmission(lam))\n",
    "    plt.text(lammax.to(u.um).value, 0.76, str(order), ha='center', color=p[0].get_color())"
   ]
  }
 ],
 "metadata": {
  "kernelspec": {
   "display_name": "Python 3",
   "language": "python",
   "name": "python3"
  },
  "language_info": {
   "codemirror_mode": {
    "name": "ipython",
    "version": 3
   },
   "file_extension": ".py",
   "mimetype": "text/x-python",
   "name": "python",
   "nbconvert_exporter": "python",
   "pygments_lexer": "ipython3",
   "version": "3.9.12"
  }
 },
 "nbformat": 4,
 "nbformat_minor": 4
}
