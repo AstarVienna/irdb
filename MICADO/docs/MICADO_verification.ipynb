{
 "cells": [
  {
   "cell_type": "markdown",
   "id": "3712759f",
   "metadata": {},
   "source": [
    "# ScopeSim + IRDB validation for MICADO\n",
    "\n",
    "This is referencing Ric Davies' document *MICADO Imaging and Spectroscopy Reference*, Doc. No.: ELT-TRE-MCD-56300-0173, Issue: 0.5, Date: 14.06.2023. This document is hereinafter referred to as \"the reference document\". Any mention of sections, tables and figures refer to those listed in that document."
   ]
  },
  {
   "cell_type": "code",
   "execution_count": null,
   "id": "614f1b3a",
   "metadata": {},
   "outputs": [],
   "source": [
    "import scopesim as sim\n",
    "from matplotlib import pyplot as plt\n",
    "\n",
    "# Set local path\n",
    "sim.rc.__config__[\"!SIM.file.local_packages_path\"] = \"../../\""
   ]
  },
  {
   "cell_type": "markdown",
   "id": "d38f69dc",
   "metadata": {},
   "source": [
    "### General info about the optical train object\n",
    "\n",
    "Note e.g. the `!INST.plate_scale`, which matches with the final plate scale for spectroscopy mode given in **Table 3**."
   ]
  },
  {
   "cell_type": "code",
   "execution_count": null,
   "id": "0e544a47",
   "metadata": {},
   "outputs": [],
   "source": [
    "cmds = sim.UserCommands(use_instrument=\"MICADO\", set_modes=[\"SCAO\", \"SPEC_3000x16\"])\n",
    "cmds.cmds[\"!OBS.filter_name_fw1\"] = \"Spec_IJ\"\n",
    "cmds.cmds[\"!OBS.filter_name_fw2\"] = \"open\"\n",
    "micado = sim.OpticalTrain(cmds)\n",
    "\n",
    "micado"
   ]
  },
  {
   "cell_type": "markdown",
   "id": "b0027ec9",
   "metadata": {},
   "source": [
    "### Specific info about the included effects\n",
    "\n",
    "Using the `.show_in_notebook()` method to get a non-truncated table."
   ]
  },
  {
   "cell_type": "code",
   "execution_count": null,
   "id": "688f0a5f",
   "metadata": {},
   "outputs": [],
   "source": [
    "micado.effects.show_in_notebook()"
   ]
  },
  {
   "cell_type": "markdown",
   "id": "7032c66e",
   "metadata": {},
   "source": [
    "## 4.1 Detector and Pixel Numbering\n",
    "\n",
    "### Figure 3\n",
    "\n",
    "This is a recreation of the spectral traces on the detector layout, using the actual `OpticalTrain` object in ScopeSim.\n",
    "Note the orientation is flipped compared to the reference document. Some orders (8_3, 5_2) are missing, as they are missing from the IRDB."
   ]
  },
  {
   "cell_type": "code",
   "execution_count": null,
   "id": "3ab1ca5e",
   "metadata": {},
   "outputs": [],
   "source": [
    "# Setup figure\n",
    "fig, axes = plt.subplots(1, 3, figsize=(12, 4))\n",
    "\n",
    "modes = [\"SPEC_15000x20\", \"SPEC_15000x20\", \"SPEC_3000x16\"]\n",
    "filters = [\"Spec_HK\", \"J\", \"Spec_IJ\"]\n",
    "\n",
    "for mode, fltr, ax in zip(modes, filters, axes):\n",
    "    cmds = sim.UserCommands(use_instrument=\"MICADO\", set_modes=[\"SCAO\", mode])\n",
    "    cmds.cmds[\"!OBS.filter_name_fw1\"] = fltr\n",
    "    cmds.cmds[\"!OBS.filter_name_fw2\"] = \"open\"\n",
    "    micado = sim.OpticalTrain(cmds)\n",
    "\n",
    "    tbl = micado[\"filter_wheel_1\"].current_filter.table\n",
    "    wav_min = tbl[tbl[\"transmission\"] > 0.001][\"wavelength\"].min()\n",
    "    wav_max = tbl[tbl[\"transmission\"] > 0.0][\"wavelength\"].max()\n",
    "    xi_min = micado[\"spectroscopic_slit_aperture\"].table[\"x\"].min()\n",
    "    xi_max = micado[\"spectroscopic_slit_aperture\"].table[\"x\"].max()\n",
    "\n",
    "    micado[\"full_detector_array\"].plot(axes=ax)\n",
    "    micado[\"micado_spectral_traces\"].plot(wave_min=wav_min, wave_max=wav_max, xi_min=xi_min, xi_max=xi_max, axes=ax,\n",
    "                                      plot_footprint=False, plot_wave=False, plot_ctrlpnts=False, plot_outline=True,\n",
    "                                      plot_trace_id=True)\n",
    "    ax.set_title(f\"{fltr=}, {mode=}\")\n",
    "fig.tight_layout()"
   ]
  },
  {
   "cell_type": "markdown",
   "id": "6805ec13",
   "metadata": {},
   "source": [
    "As can be seen in the leftmost panel of the plot, order 3_1 has a weird shape towards the bottom. Let's plot the individual control points to see what's going on:"
   ]
  },
  {
   "cell_type": "code",
   "execution_count": null,
   "id": "35394768",
   "metadata": {},
   "outputs": [],
   "source": [
    "fig, ax = plt.subplots(figsize=(5, 5))\n",
    "\n",
    "mode = \"SPEC_15000x20\"\n",
    "fltr = \"Spec_HK\"\n",
    "\n",
    "cmds = sim.UserCommands(use_instrument=\"MICADO\", set_modes=[\"SCAO\", mode])\n",
    "cmds.cmds[\"!OBS.filter_name_fw1\"] = fltr\n",
    "cmds.cmds[\"!OBS.filter_name_fw2\"] = \"open\"\n",
    "micado = sim.OpticalTrain(cmds)\n",
    "\n",
    "tbl = micado[\"filter_wheel_1\"].current_filter.table\n",
    "wav_min = tbl[tbl[\"transmission\"] > 0.001][\"wavelength\"].min()\n",
    "wav_max = tbl[tbl[\"transmission\"] > 0.0][\"wavelength\"].max()\n",
    "xi_min = micado[\"spectroscopic_slit_aperture\"].table[\"x\"].min()\n",
    "xi_max = micado[\"spectroscopic_slit_aperture\"].table[\"x\"].max()\n",
    "\n",
    "micado[\"full_detector_array\"].plot(axes=ax)\n",
    "micado[\"micado_spectral_traces\"].plot(wave_min=wav_min, wave_max=wav_max, xi_min=xi_min, xi_max=xi_max, axes=ax,\n",
    "                                  plot_footprint=False, plot_wave=False, plot_ctrlpnts=True, plot_outline=False,\n",
    "                                  plot_trace_id=False)\n",
    "ax.set_title(f\"{fltr=}, {mode=}\")"
   ]
  },
  {
   "cell_type": "markdown",
   "id": "818701e7",
   "metadata": {},
   "source": [
    "There seems to be a single erroneous control point with an x-value of 0.0, considering all other points the trace is in line with the reference document."
   ]
  },
  {
   "cell_type": "markdown",
   "id": "ddc919c1",
   "metadata": {},
   "source": [
    "## 4.2 Detector properties\n",
    "\n",
    "### Table 4\n",
    "\n",
    "The positions and angles of the individual detectors. Table is transposed compared to the one in the reference document."
   ]
  },
  {
   "cell_type": "code",
   "execution_count": null,
   "id": "b8a80d6b",
   "metadata": {},
   "outputs": [],
   "source": [
    "micado[\"full_detector_array\"].table[[\"id\", \"x_cen\", \"y_cen\", \"angle\"]]"
   ]
  },
  {
   "cell_type": "markdown",
   "id": "fb6b7feb",
   "metadata": {},
   "source": [
    "### QE curve\n",
    "\n",
    "The following plot shows the detector QE, which is related to the information in **Table 5**."
   ]
  },
  {
   "cell_type": "code",
   "execution_count": null,
   "id": "1e19f865",
   "metadata": {},
   "outputs": [],
   "source": [
    "micado[\"qe_curve\"].plot().show()"
   ]
  },
  {
   "cell_type": "markdown",
   "id": "4fb15db8",
   "metadata": {},
   "source": [
    "## 7.2 Grating Efficiencies\n",
    "### Figure 10"
   ]
  },
  {
   "cell_type": "code",
   "execution_count": null,
   "id": "48cd49a6",
   "metadata": {},
   "outputs": [],
   "source": [
    "micado[\"grating_efficiency\"].plot()"
   ]
  },
  {
   "cell_type": "markdown",
   "id": "c58fe1b2",
   "metadata": {},
   "source": [
    "# Limiting magnitude\n",
    "\n",
    "The following series of images each show a grid of 7x7 stars with magnitudes ranging from 25 to 30 (Vega mags), observed in MCAO mode with the wide-field imaging mode of 4mas/pix, in Ks, H and J filters. The second image (with the colourful boxes) in each filter shows an estimate of signal-to-noise ratios (SNR) for each observed star. The final plots each show a fit through the magnitude and SNR values, with a limiting magnitude at SNR=5 plotted into the data."
   ]
  },
  {
   "cell_type": "code",
   "execution_count": null,
   "id": "db52ffaa",
   "metadata": {},
   "outputs": [],
   "source": [
    "import numpy as np\n",
    "\n",
    "import scopesim as sim\n",
    "from scopesim import rc\n",
    "from scopesim.source import source_templates as st\n",
    "\n",
    "from matplotlib import pyplot as plt\n",
    "from matplotlib.colors import LogNorm\n",
    "\n",
    "from scipy.stats import linregress\n",
    "\n",
    "import hmbp\n",
    "from astropy import units as u\n",
    "\n",
    "args = [(\"open\", \"Ks\", 2, 27.1, 0.3),\n",
    "        (\"open\", \"H\", 2, 27.5, 0.3),\n",
    "        (\"J\", \"open\", 1, 27.9, 1.0)]\n",
    "ao_mode=\"MCAO\""
   ]
  },
  {
   "cell_type": "code",
   "execution_count": null,
   "id": "11115396",
   "metadata": {},
   "outputs": [],
   "source": [
    "def lim_mag(fw1, fw2, r0, rics_lim_mag, abslim):\n",
    "    n_stars, mmin, mmax = 49, 25, 30\n",
    "    r1, r2 = 10, 15              # aperture radii  r0 (sig), r1-r2 (noise)\n",
    "    src = st.star_field(n_stars, mmin, mmax, width=3, use_grid=True)\n",
    "\n",
    "    cmds = sim.UserCommands(use_instrument=\"MICADO\",\n",
    "                            set_modes=[ao_mode, \"IMG_4mas\"])\n",
    "    micado = sim.OpticalTrain(cmds)\n",
    "    micado.cmds[\"!OBS.dit\"] = 18000\n",
    "    micado[\"filter_wheel_1\"].change_filter(fw1)\n",
    "    micado[\"filter_wheel_2\"].change_filter(fw2)\n",
    "    micado[\"detector_linearity\"].include = False\n",
    "\n",
    "    micado.observe(src)\n",
    "    hdul = micado.readout()[0]\n",
    "    det = hdul[1].data\n",
    "    imp = micado.image_planes[0].hdu.data  # e-/pixel/s\n",
    "\n",
    "    fig = plt.figure(figsize=(15, 20))\n",
    "    ax1, ax2 = fig.subplots(2, 1)\n",
    "    ax1.imshow(imp, norm=LogNorm(vmin=np.median(imp), vmax=1.01*np.median(imp)))\n",
    "    ax2.imshow(det, norm=LogNorm(vmin=np.median(det), vmax=1.01*np.median(det)))\n",
    "\n",
    "    offset = 2      # this needs to be addressed\n",
    "    xpix, ypix = src.fields[0][\"x\"].data, src.fields[0][\"y\"].data\n",
    "    xpix = xpix / 0.004 + 512 + offset\n",
    "    ypix = ypix / 0.004 + 512 + offset\n",
    "    mags = np.round(np.linspace(mmin, mmax, n_stars), 1)\n",
    "\n",
    "    snrs = []\n",
    "    for x, y, mag in zip(xpix, ypix, mags):\n",
    "        x, y = int(x+0.5), int(y+0.5)\n",
    "        sig_im = np.copy(det[y-r0:y+r0+1, x-r0:x+r0+1])\n",
    "        bg_im  = np.copy(det[y-r2:y+r2+1, x-r2:x+r2+1])\n",
    "        bg_im[r1:-r1, r1:-r1] = 0\n",
    "\n",
    "        bg_median = np.median(bg_im[bg_im > 0])\n",
    "        bg_std = np.std(bg_im[bg_im > 0])\n",
    "        # bg_std = np.sqrt(bg_median)\n",
    "        noise = bg_std * np.sqrt(np.prod(sig_im.shape)) * np.sqrt(2)        # sqrt(2) comes from BG subtraction (see Rics doc)\n",
    "        signal = np.sum(sig_im - bg_median)\n",
    "        snr = signal/noise\n",
    "        snrs += [snr]\n",
    "\n",
    "        plt.plot([x-r0, x+r0, x+r0, x-r0, x-r0],\n",
    "                 [y-r0, y-r0, y+r0, y+r0, y-r0], \"g\")\n",
    "        plt.plot([x-r1, x+r1, x+r1, x-r1, x-r1],\n",
    "                 [y-r1, y-r1, y+r1, y+r1, y-r1], \"y\")\n",
    "        plt.plot([x-r2, x+r2, x+r2, x-r2, x-r2],\n",
    "                 [y-r2, y-r2, y+r2, y+r2, y-r2], \"r\")\n",
    "\n",
    "        plt.text(x+r2, y+r2, str(round(snr, 1)), color=\"w\")\n",
    "        plt.text(x-r2, y-r2, str(mag), color=\"w\")\n",
    "    fltr = fw1 if fw1 != \"open\" else fw2\n",
    "    plt.title(f\"Filter: {fltr}\")\n",
    "    plt.show()\n",
    "    return mags, snrs"
   ]
  },
  {
   "cell_type": "code",
   "execution_count": null,
   "id": "7c4e78b5",
   "metadata": {},
   "outputs": [],
   "source": [
    "def mag_fit(mags, snrs, *args):\n",
    "    fltr = args[0] if args[0] != \"open\" else args[1]\n",
    "    snrs = np.array(snrs)\n",
    "    results = linregress(mags[snrs > 5], np.log10(snrs[snrs > 5]))\n",
    "    m, c = results[:2]\n",
    "    sigma = 5\n",
    "    lim_mag = (np.log10(sigma) - c) / m\n",
    "\n",
    "    plt.plot(mags, snrs, \".\", alpha=0.3)\n",
    "    plt.plot(mags, 10 ** (m * mags + c), \"r\")\n",
    "\n",
    "    plt.axhline(sigma)\n",
    "    plt.axvline(lim_mag)\n",
    "    abmag = hmbp.convert(from_quantity=lim_mag*u.mag, to_unit=u.ABmag, filter_name=fltr)\n",
    "    txt = f\"{lim_mag:.2f} Vega mag\\n{abmag:.2f}\"\n",
    "    plt.text(lim_mag, sigma, txt,\n",
    "             horizontalalignment=\"left\",\n",
    "             verticalalignment=\"bottom\")\n",
    "    plt.xlabel(\"Magnitude\")\n",
    "    plt.ylabel(\"SNR\")\n",
    "    plt.title(f\"Filter: {fltr}\")\n",
    "    plt.show()"
   ]
  },
  {
   "cell_type": "code",
   "execution_count": null,
   "id": "b6b2efa6",
   "metadata": {},
   "outputs": [],
   "source": [
    "mags, snrs = lim_mag(*args[0])"
   ]
  },
  {
   "cell_type": "code",
   "execution_count": null,
   "id": "63a3c54e",
   "metadata": {},
   "outputs": [],
   "source": [
    "mag_fit(mags, snrs, *args[0])"
   ]
  },
  {
   "cell_type": "code",
   "execution_count": null,
   "id": "5db73d76",
   "metadata": {},
   "outputs": [],
   "source": [
    "mags, snrs = lim_mag(*args[1])"
   ]
  },
  {
   "cell_type": "code",
   "execution_count": null,
   "id": "4c6a26ac",
   "metadata": {},
   "outputs": [],
   "source": [
    "mag_fit(mags, snrs, *args[1])"
   ]
  },
  {
   "cell_type": "code",
   "execution_count": null,
   "id": "e9416ed4",
   "metadata": {},
   "outputs": [],
   "source": [
    "mags, snrs = lim_mag(*args[2])"
   ]
  },
  {
   "cell_type": "code",
   "execution_count": null,
   "id": "9365b479",
   "metadata": {},
   "outputs": [],
   "source": [
    "mag_fit(mags, snrs, *args[2])"
   ]
  },
  {
   "cell_type": "code",
   "execution_count": null,
   "id": "ccdfee24",
   "metadata": {},
   "outputs": [],
   "source": []
  }
 ],
 "metadata": {
  "kernelspec": {
   "display_name": "Python 3 (ipykernel)",
   "language": "python",
   "name": "python3"
  },
  "language_info": {
   "codemirror_mode": {
    "name": "ipython",
    "version": 3
   },
   "file_extension": ".py",
   "mimetype": "text/x-python",
   "name": "python",
   "nbconvert_exporter": "python",
   "pygments_lexer": "ipython3",
   "version": "3.9.16"
  }
 },
 "nbformat": 4,
 "nbformat_minor": 5
}
