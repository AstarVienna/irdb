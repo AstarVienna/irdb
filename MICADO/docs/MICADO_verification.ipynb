{
 "cells": [
  {
   "cell_type": "markdown",
   "id": "3712759f",
   "metadata": {},
   "source": [
    "# ScopeSim + IRDB validation for MICADO\n",
    "\n",
    "This is referencing Ric Davies' document *MICADO Imaging and Spectroscopy Reference*, Doc. No.: ELT-TRE-MCD-56300-0173, Issue: 0.5, Date: 14.06.2023. This document is hereinafter referred to as \"the reference document\". Any mention of sections, tables and figures refer to those listed in that document."
   ]
  },
  {
   "cell_type": "code",
   "execution_count": null,
   "id": "614f1b3a",
   "metadata": {},
   "outputs": [],
   "source": [
    "import scopesim as sim\n",
    "from matplotlib import pyplot as plt\n",
    "\n",
    "# Set local path\n",
    "sim.rc.__config__[\"!SIM.file.local_packages_path\"] = \"../../\""
   ]
  },
  {
   "cell_type": "markdown",
   "id": "d38f69dc",
   "metadata": {},
   "source": [
    "### General info about the optical train object\n",
    "\n",
    "Note e.g. the `!INST.plate_scale`, which matches with the final plate scale for spectroscopy mode given in **Table 3**."
   ]
  },
  {
   "cell_type": "code",
   "execution_count": null,
   "id": "0e544a47",
   "metadata": {},
   "outputs": [],
   "source": [
    "cmds = sim.UserCommands(use_instrument=\"MICADO\", set_modes=[\"SCAO\", \"SPEC_3000x16\"])\n",
    "cmds.cmds[\"!OBS.filter_name_fw1\"] = \"Spec_IJ\"\n",
    "cmds.cmds[\"!OBS.filter_name_fw2\"] = \"open\"\n",
    "micado = sim.OpticalTrain(cmds)\n",
    "\n",
    "micado"
   ]
  },
  {
   "cell_type": "markdown",
   "id": "b0027ec9",
   "metadata": {},
   "source": [
    "### Specific info about the included effects\n",
    "\n",
    "Using the `.show_in_notebook()` method to get a non-truncated table."
   ]
  },
  {
   "cell_type": "code",
   "execution_count": null,
   "id": "688f0a5f",
   "metadata": {},
   "outputs": [],
   "source": [
    "micado.effects.show_in_notebook()"
   ]
  },
  {
   "cell_type": "markdown",
   "id": "7032c66e",
   "metadata": {},
   "source": [
    "## 4.1 Detector and Pixel Numbering\n",
    "\n",
    "### Figure 3\n",
    "\n",
    "This is a recreation of the spectral traces on the detector layout, using the actual `OpticalTrain` object in ScopeSim.\n",
    "Note the orientation is flipped compared to the reference document. Some orders (8_3, 5_2) are missing, as they are missing from the IRDB."
   ]
  },
  {
   "cell_type": "code",
   "execution_count": null,
   "id": "3ab1ca5e",
   "metadata": {},
   "outputs": [],
   "source": [
    "# Setup figure\n",
    "fig, axes = plt.subplots(1, 3, figsize=(12, 4))\n",
    "\n",
    "modes = [\"SPEC_15000x20\", \"SPEC_15000x20\", \"SPEC_3000x16\"]\n",
    "filters = [\"Spec_HK\", \"J\", \"Spec_IJ\"]\n",
    "\n",
    "for mode, fltr, ax in zip(modes, filters, axes):\n",
    "    cmds = sim.UserCommands(use_instrument=\"MICADO\", set_modes=[\"SCAO\", mode])\n",
    "    cmds.cmds[\"!OBS.filter_name_fw1\"] = fltr\n",
    "    cmds.cmds[\"!OBS.filter_name_fw2\"] = \"open\"\n",
    "    micado = sim.OpticalTrain(cmds)\n",
    "\n",
    "    tbl = micado[\"filter_wheel_1\"].current_filter.table\n",
    "    wav_min = tbl[tbl[\"transmission\"] > 0.001][\"wavelength\"].min()\n",
    "    wav_max = tbl[tbl[\"transmission\"] > 0.0][\"wavelength\"].max()\n",
    "    xi_min = micado[\"spectroscopic_slit_aperture\"].table[\"x\"].min()\n",
    "    xi_max = micado[\"spectroscopic_slit_aperture\"].table[\"x\"].max()\n",
    "\n",
    "    micado[\"full_detector_array\"].plot(axes=ax)\n",
    "    micado[\"micado_spectral_traces\"].plot(wave_min=wav_min, wave_max=wav_max, xi_min=xi_min, xi_max=xi_max, axes=ax,\n",
    "                                      plot_footprint=False, plot_wave=False, plot_ctrlpnts=False, plot_outline=True,\n",
    "                                      plot_trace_id=True)\n",
    "    ax.set_title(f\"{fltr=}, {mode=}\")\n",
    "fig.tight_layout()"
   ]
  },
  {
   "cell_type": "markdown",
   "id": "6805ec13",
   "metadata": {},
   "source": [
    "As can be seen in the leftmost panel of the plot, order 3_1 has a weird shape towards the bottom. Let's plot the individual control points to see what's going on:"
   ]
  },
  {
   "cell_type": "code",
   "execution_count": null,
   "id": "35394768",
   "metadata": {},
   "outputs": [],
   "source": [
    "fig, ax = plt.subplots(figsize=(5, 5))\n",
    "\n",
    "mode = \"SPEC_15000x20\"\n",
    "fltr = \"Spec_HK\"\n",
    "\n",
    "cmds = sim.UserCommands(use_instrument=\"MICADO\", set_modes=[\"SCAO\", mode])\n",
    "cmds.cmds[\"!OBS.filter_name_fw1\"] = fltr\n",
    "cmds.cmds[\"!OBS.filter_name_fw2\"] = \"open\"\n",
    "micado = sim.OpticalTrain(cmds)\n",
    "\n",
    "tbl = micado[\"filter_wheel_1\"].current_filter.table\n",
    "wav_min = tbl[tbl[\"transmission\"] > 0.001][\"wavelength\"].min()\n",
    "wav_max = tbl[tbl[\"transmission\"] > 0.0][\"wavelength\"].max()\n",
    "xi_min = micado[\"spectroscopic_slit_aperture\"].table[\"x\"].min()\n",
    "xi_max = micado[\"spectroscopic_slit_aperture\"].table[\"x\"].max()\n",
    "\n",
    "micado[\"full_detector_array\"].plot(axes=ax)\n",
    "micado[\"micado_spectral_traces\"].plot(wave_min=wav_min, wave_max=wav_max, xi_min=xi_min, xi_max=xi_max, axes=ax,\n",
    "                                  plot_footprint=False, plot_wave=False, plot_ctrlpnts=True, plot_outline=False,\n",
    "                                  plot_trace_id=False)\n",
    "ax.set_title(f\"{fltr=}, {mode=}\")"
   ]
  },
  {
   "cell_type": "markdown",
   "id": "818701e7",
   "metadata": {},
   "source": [
    "There seems to be a single erroneous control point with an x-value of 0.0, considering all other points the trace is in line with the reference document."
   ]
  },
  {
   "cell_type": "markdown",
   "id": "ddc919c1",
   "metadata": {},
   "source": [
    "## 4.2 Detector properties\n",
    "\n",
    "### Table 4\n",
    "\n",
    "The positions and angles of the individual detectors. Table is transposed compared to the one in the reference document."
   ]
  },
  {
   "cell_type": "code",
   "execution_count": null,
   "id": "b8a80d6b",
   "metadata": {},
   "outputs": [],
   "source": [
    "micado[\"full_detector_array\"].table[[\"id\", \"x_cen\", \"y_cen\", \"angle\"]]"
   ]
  },
  {
   "cell_type": "markdown",
   "id": "fb6b7feb",
   "metadata": {},
   "source": [
    "### QE curve\n",
    "\n",
    "The following plot shows the detector QE, which is related to the information in **Table 5**."
   ]
  },
  {
   "cell_type": "code",
   "execution_count": null,
   "id": "1e19f865",
   "metadata": {},
   "outputs": [],
   "source": [
    "micado[\"qe_curve\"].plot().show()"
   ]
  },
  {
   "cell_type": "markdown",
   "id": "4fb15db8",
   "metadata": {},
   "source": [
    "## 7.2 Grating Efficiencies\n",
    "### Figure 10"
   ]
  },
  {
   "cell_type": "code",
   "execution_count": null,
   "id": "48cd49a6",
   "metadata": {},
   "outputs": [],
   "source": [
    "micado[\"grating_efficiency\"].plot()"
   ]
  }
 ],
 "metadata": {
  "kernelspec": {
   "display_name": "Python 3 (ipykernel)",
   "language": "python",
   "name": "python3"
  },
  "language_info": {
   "codemirror_mode": {
    "name": "ipython",
    "version": 3
   },
   "file_extension": ".py",
   "mimetype": "text/x-python",
   "name": "python",
   "nbconvert_exporter": "python",
   "pygments_lexer": "ipython3",
   "version": "3.9.16"
  }
 },
 "nbformat": 4,
 "nbformat_minor": 5
}
