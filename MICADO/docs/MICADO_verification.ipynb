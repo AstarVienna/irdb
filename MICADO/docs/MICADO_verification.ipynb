{
 "cells": [
  {
   "cell_type": "markdown",
   "metadata": {
    "datalore": {
     "hide_input_from_viewers": true,
     "hide_output_from_viewers": true,
     "node_id": "qFC5MK237efL1pNV4OKQgF",
     "type": "MD"
    }
   },
   "source": [
    "# ScopeSim + IRDB validation for MICADO\n",
    "\n",
    "This is referencing Ric Davies' document *MICADO Imaging and Spectroscopy Reference*, Doc. No.: ELT-TRE-MCD-56300-0173, Issue: 0.5, Date: 14.06.2023. This document is hereinafter referred to as \"the reference document\". Any mention of sections, tables and figures refer to those listed in that document."
   ]
  },
  {
   "cell_type": "code",
   "execution_count": null,
   "metadata": {
    "datalore": {
     "hide_input_from_viewers": true,
     "hide_output_from_viewers": true,
     "node_id": "snfL3bNoyLMEU1cgptT6BN",
     "type": "CODE"
    }
   },
   "outputs": [],
   "source": [
    "import scopesim as sim\n",
    "from matplotlib import pyplot as plt"
   ]
  },
  {
   "cell_type": "code",
   "execution_count": null,
   "metadata": {
    "datalore": {
     "hide_input_from_viewers": true,
     "hide_output_from_viewers": true,
     "node_id": "ib7DlXWY6nqWt7fsNQxSLD",
     "type": "CODE"
    }
   },
   "outputs": [],
   "source": [
    "# sim.download_packages([\"Armazones\", \"ELT\", \"MORFEO\", \"MICADO\"], release=\"latest\")"
   ]
  },
  {
   "cell_type": "code",
   "execution_count": null,
   "metadata": {
    "datalore": {
     "hide_input_from_viewers": true,
     "hide_output_from_viewers": true,
     "node_id": "GDcyqFaHKxueeWRIPeMyfz",
     "type": "CODE"
    }
   },
   "outputs": [],
   "source": [
    "cmds = sim.UserCommands(use_instrument=\"MICADO\", set_modes=[\"SCAO\", \"SPEC_3000x16\"])\n",
    "cmds.cmds[\"!OBS.filter_name_fw1\"] = \"Spec_IJ\"\n",
    "cmds.cmds[\"!OBS.filter_name_fw2\"] = \"open\"\n",
    "micado = sim.OpticalTrain(cmds)"
   ]
  },
  {
   "cell_type": "markdown",
   "metadata": {
    "datalore": {
     "hide_input_from_viewers": true,
     "hide_output_from_viewers": true,
     "node_id": "gvt5D4LhvU6zxCZY3P0UKC",
     "type": "MD"
    }
   },
   "source": [
    "# 3. Optical Train & Transmission\n",
    "\n",
    "### General info about the optical train object\n",
    "\n",
    "Note e.g. the `!INST.plate_scale`, which matches with the final plate scale for spectroscopy mode given in **Table 3**."
   ]
  },
  {
   "cell_type": "code",
   "execution_count": null,
   "metadata": {
    "datalore": {
     "hide_input_from_viewers": true,
     "hide_output_from_viewers": true,
     "node_id": "XbCEmknqCGVJ54srsVfbHz",
     "type": "CODE"
    }
   },
   "outputs": [],
   "source": [
    "micado"
   ]
  },
  {
   "cell_type": "markdown",
   "metadata": {
    "datalore": {
     "hide_input_from_viewers": true,
     "hide_output_from_viewers": true,
     "node_id": "uSWg8gqL92V5ems8I8hpns",
     "type": "MD"
    }
   },
   "source": [
    "### Specific info about the included effects\n",
    "\n",
    "This represents the optical elements, among other effects, and is related to **Table 1** and **Figure 1**. Some parts, like sequences of mirrors, are combined into a single effect type (e.g. `SurfaceList`).\n",
    "\n",
    "Using the `.show_in_notebook()` method to get a non-truncated table."
   ]
  },
  {
   "cell_type": "code",
   "execution_count": null,
   "metadata": {
    "datalore": {
     "hide_input_from_viewers": true,
     "hide_output_from_viewers": true,
     "node_id": "yn42Oovs6vHw5YUX67uWCl",
     "type": "CODE"
    }
   },
   "outputs": [],
   "source": [
    "micado.effects.show_in_notebook()"
   ]
  },
  {
   "cell_type": "markdown",
   "metadata": {
    "datalore": {
     "hide_input_from_viewers": true,
     "hide_output_from_viewers": true,
     "node_id": "JdKAFdzjFo4zZcj9Pa9LQE",
     "type": "MD"
    }
   },
   "source": [
    "# 4. Focal Plane Array and Detector Characteristics"
   ]
  },
  {
   "cell_type": "markdown",
   "metadata": {
    "datalore": {
     "hide_input_from_viewers": true,
     "hide_output_from_viewers": true,
     "node_id": "YRIhMg7aPflozA8sPjkKv7",
     "type": "MD"
    }
   },
   "source": [
    "## 4.1 Detector and Pixel Numbering\n",
    "\n",
    "### Figure 3\n",
    "\n",
    "This is a recreation of the spectral traces on the detector layout, using the actual `OpticalTrain` object in ScopeSim.\n",
    "Note the orientation is flipped compared to the reference document. Some orders (8_3, 5_2) are missing, as they are missing from the IRDB."
   ]
  },
  {
   "cell_type": "code",
   "execution_count": null,
   "metadata": {
    "datalore": {
     "hide_input_from_viewers": true,
     "hide_output_from_viewers": true,
     "node_id": "tF4PooEC62xug2ECFaxUES",
     "type": "CODE"
    }
   },
   "outputs": [],
   "source": [
    "# Setup figure\n",
    "fig, axes = plt.subplots(1, 3, figsize=(12, 4))\n",
    "\n",
    "modes = [\"SPEC_15000x20\", \"SPEC_15000x20\", \"SPEC_3000x16\"]\n",
    "filters = [\"Spec_HK\", \"J\", \"Spec_IJ\"]\n",
    "\n",
    "for mode, fltr, ax in zip(modes, filters, axes):\n",
    "    cmds = sim.UserCommands(use_instrument=\"MICADO\", set_modes=[\"SCAO\", mode])\n",
    "    cmds.cmds[\"!OBS.filter_name_fw1\"] = fltr\n",
    "    cmds.cmds[\"!OBS.filter_name_fw2\"] = \"open\"\n",
    "    micado = sim.OpticalTrain(cmds)\n",
    "\n",
    "    tbl = micado[\"filter_wheel_1\"].current_filter.table\n",
    "    wav_min = tbl[tbl[\"transmission\"] > 0.001][\"wavelength\"].min()\n",
    "    wav_max = tbl[tbl[\"transmission\"] > 0.0][\"wavelength\"].max()\n",
    "    xi_min = micado[\"spectroscopic_slit_aperture\"].table[\"x\"].min()\n",
    "    xi_max = micado[\"spectroscopic_slit_aperture\"].table[\"x\"].max()\n",
    "\n",
    "    micado[\"full_detector_array\"].plot(axes=ax)\n",
    "    micado[\"micado_spectral_traces\"].plot(wave_min=wav_min, wave_max=wav_max, xi_min=xi_min, xi_max=xi_max, axes=ax,\n",
    "                                      plot_footprint=False, plot_wave=False, plot_ctrlpnts=False, plot_outline=True,\n",
    "                                      plot_trace_id=True)\n",
    "    ax.set_title(f\"{fltr=}, {mode=}\")\n",
    "fig.tight_layout()"
   ]
  },
  {
   "cell_type": "markdown",
   "metadata": {
    "datalore": {
     "hide_input_from_viewers": true,
     "hide_output_from_viewers": true,
     "node_id": "OE73Ohc7XO0xPevzbVNvI8",
     "type": "MD"
    }
   },
   "source": [
    "## 4.2 Detector properties\n",
    "\n",
    "### Table 4\n",
    "\n",
    "The positions and angles of the individual detectors. Table is transposed compared to the one in the reference document."
   ]
  },
  {
   "cell_type": "code",
   "execution_count": null,
   "metadata": {
    "datalore": {
     "hide_input_from_viewers": true,
     "hide_output_from_viewers": true,
     "node_id": "FwkbYt8FBjg42oDdUwFOrc",
     "type": "CODE"
    }
   },
   "outputs": [],
   "source": [
    "micado[\"full_detector_array\"].table[[\"id\", \"x_cen\", \"y_cen\", \"angle\"]]"
   ]
  },
  {
   "cell_type": "markdown",
   "metadata": {
    "datalore": {
     "hide_input_from_viewers": true,
     "hide_output_from_viewers": true,
     "node_id": "LC8nXSRQcgblNWe7GcWtrg",
     "type": "MD"
    }
   },
   "source": [
    "### QE curve\n",
    "\n",
    "The following plot shows the detector QE, which is related to the information in **Table 5**."
   ]
  },
  {
   "cell_type": "code",
   "execution_count": null,
   "metadata": {
    "datalore": {
     "hide_input_from_viewers": true,
     "hide_output_from_viewers": true,
     "node_id": "Hs856DMQ2YaMjUQdTkUxOE",
     "type": "CODE"
    }
   },
   "outputs": [],
   "source": [
    "micado[\"qe_curve\"].surface.throughput.plot()"
   ]
  },
  {
   "cell_type": "markdown",
   "metadata": {
    "datalore": {
     "hide_input_from_viewers": true,
     "hide_output_from_viewers": true,
     "node_id": "nqXutlxvKBzjX1ncJAFYVn",
     "type": "MD"
    }
   },
   "source": [
    "# 5. Focal Plane Mapping"
   ]
  },
  {
   "cell_type": "markdown",
   "metadata": {
    "datalore": {
     "hide_input_from_viewers": true,
     "hide_output_from_viewers": true,
     "node_id": "nyVwWRyN6nKOKeW0SYQJ2V",
     "type": "MD"
    }
   },
   "source": [
    "# 6. Imaging Characteristics (LRI, HRI)"
   ]
  },
  {
   "cell_type": "markdown",
   "metadata": {
    "datalore": {
     "hide_input_from_viewers": true,
     "hide_output_from_viewers": true,
     "node_id": "EDxeotZNb501b3ZfIAEerf",
     "type": "MD"
    }
   },
   "source": [
    "# 7. Spectral traces"
   ]
  },
  {
   "cell_type": "markdown",
   "metadata": {
    "datalore": {
     "hide_input_from_viewers": true,
     "hide_output_from_viewers": true,
     "node_id": "GK5fziNAK3jmuInkn59Xj7",
     "type": "MD"
    }
   },
   "source": [
    "## 7.2 Grating Efficiencies\n",
    "### Figure 10"
   ]
  },
  {
   "cell_type": "code",
   "execution_count": null,
   "metadata": {
    "datalore": {
     "hide_input_from_viewers": true,
     "hide_output_from_viewers": true,
     "node_id": "uU51tNDOBtnIhYcnIYjtap",
     "type": "CODE"
    }
   },
   "outputs": [],
   "source": [
    "micado[\"grating_efficiency\"].plot().show()"
   ]
  },
  {
   "cell_type": "markdown",
   "metadata": {
    "datalore": {
     "hide_input_from_viewers": true,
     "hide_output_from_viewers": true,
     "node_id": "2RGsYieRMkcehjJLAUsKMr",
     "type": "MD"
    }
   },
   "source": [
    "# 8. Pupil Imaging (PUP)"
   ]
  },
  {
   "cell_type": "markdown",
   "metadata": {
    "datalore": {
     "hide_input_from_viewers": true,
     "hide_output_from_viewers": true,
     "node_id": "VrGD5RmBIMKOygyTOWRee6",
     "type": "MD"
    }
   },
   "source": [
    "# 9. Raw Data Format and Keywords"
   ]
  },
  {
   "cell_type": "code",
   "execution_count": null,
   "metadata": {
    "datalore": {
     "hide_input_from_viewers": true,
     "hide_output_from_viewers": true,
     "node_id": "9LrEEJePNco1sd79jIShvI",
     "type": "CODE"
    }
   },
   "outputs": [],
   "source": []
  }
 ],
 "metadata": {
  "datalore": {
   "base_environment": "default",
   "computation_mode": "JUPYTER",
   "package_manager": "pip",
   "packages": [
    {
     "name": "scopesim",
     "source": "PIP",
     "version": "0.6.1"
    }
   ],
   "report_row_ids": [],
   "version": 3
  },
  "kernelspec": {
   "display_name": "Python 3 (ipykernel)",
   "language": "python",
   "name": "python3"
  },
  "language_info": {
   "codemirror_mode": {
    "name": "ipython",
    "version": 3
   },
   "file_extension": ".py",
   "mimetype": "text/x-python",
   "name": "python",
   "nbconvert_exporter": "python",
   "pygments_lexer": "ipython3",
   "version": "3.11.4"
  }
 },
 "nbformat": 4,
 "nbformat_minor": 4
}
