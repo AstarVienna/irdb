{
 "cells": [
  {
   "cell_type": "markdown",
   "id": "0c02f589",
   "metadata": {},
   "source": [
    "# Background flux"
   ]
  },
  {
   "cell_type": "code",
   "execution_count": null,
   "id": "2f2a0fb0",
   "metadata": {},
   "outputs": [],
   "source": [
    "import numpy as np\n",
    "from itertools import product\n",
    "\n",
    "import scopesim as sim\n",
    "from scopesim.source.source_templates import empty_sky\n",
    "\n",
    "# Set local path\n",
    "sim.rc.__config__[\"!SIM.file.local_packages_path\"] = \"../../\"\n",
    "\n",
    "args = [(\"open\", \"Ks\", \"open\"),\n",
    "        (\"open\", \"H\", \"open\"),\n",
    "        (\"J\", \"open\", \"open\"),\n",
    "        (\"open\", \"Ks\", \"Br-gamma\")]\n",
    "ao_modes = (\"SCAO\", \"MCAO\")\n",
    "im_modes = (\"IMG_1.5mas\", \"IMG_4mas\")"
   ]
  },
  {
   "cell_type": "code",
   "execution_count": null,
   "id": "f6e3509a",
   "metadata": {},
   "outputs": [],
   "source": [
    "combos = list(product(ao_modes, im_modes, args))"
   ]
  },
  {
   "cell_type": "code",
   "execution_count": null,
   "id": "a09db983",
   "metadata": {},
   "outputs": [],
   "source": [
    "def background(ao_mode, im_mode, filters):\n",
    "    fw1, fw2, pw = filters\n",
    "    cmds = sim.UserCommands(use_instrument=\"MICADO\",\n",
    "                            set_modes=[ao_mode, im_mode])\n",
    "    micado = sim.OpticalTrain(cmds)\n",
    "\n",
    "    micado[\"filter_wheel_1\"].change_filter(fw1)\n",
    "    micado[\"filter_wheel_2\"].change_filter(fw2)\n",
    "    micado[\"pupil_wheel\"].change_filter(pw)\n",
    "\n",
    "    # Pixel size is 0.14 of the 4mas version, hence fluxes are lower\n",
    "    # bg_flux *= (1.5 / 4)**2\n",
    "    \n",
    "    src = empty_sky()\n",
    "    micado.observe(src)\n",
    "    implane = micado.image_planes[0].hdu.data       # e-/pixel/s\n",
    "\n",
    "    return np.median(implane)\n",
    "\n",
    "def filtername(filters):\n",
    "    fname = \"\"\n",
    "    for fltr in filters:\n",
    "        if fltr != \"open\":\n",
    "            fname += fltr\n",
    "    return fname"
   ]
  },
  {
   "cell_type": "code",
   "execution_count": null,
   "id": "48159758",
   "metadata": {},
   "outputs": [],
   "source": [
    "results = []\n",
    "for combo in combos:\n",
    "    a, m, fltrs = combo\n",
    "    results.append((a, m, filtername(fltrs), background(*combo)))"
   ]
  },
  {
   "cell_type": "code",
   "execution_count": null,
   "id": "eb617d56",
   "metadata": {},
   "outputs": [],
   "source": [
    "import pandas as pd\n",
    "pd.options.display.float_format = \"{:,.2f}\".format"
   ]
  },
  {
   "cell_type": "markdown",
   "id": "615d15b8",
   "metadata": {},
   "source": [
    "## Setup Table to show grouped results"
   ]
  },
  {
   "cell_type": "code",
   "execution_count": null,
   "id": "44439cb2",
   "metadata": {},
   "outputs": [],
   "source": [
    "idx = pd.MultiIndex.from_tuples([r[:3] for r in results],\n",
    "      names=[\"AO\", \"Mode\", \"Filter\"]).reorder_levels([\"AO\", \"Filter\", \"Mode\"])\n",
    "df = pd.DataFrame([r[-1] for r in results], columns=[\"e-/pixel/s\"], index=idx)\n",
    "df.sort_values(by=[\"AO\", \"Filter\", \"Mode\"], ascending=[False, True, True])"
   ]
  },
  {
   "cell_type": "code",
   "execution_count": null,
   "id": "b24c014a",
   "metadata": {},
   "outputs": [],
   "source": [
    "cmds = sim.UserCommands(use_instrument=\"MICADO\",\n",
    "                        set_modes=[\"MCAO\", \"IMG_4mas\"])\n",
    "micado = sim.OpticalTrain(cmds)\n",
    "micado[\"filter_wheel_1\"].change_filter(\"open\")\n",
    "micado[\"filter_wheel_2\"].change_filter(\"Ks\")\n",
    "micado[\"pupil_wheel\"].change_filter(\"Br-gamma\")\n"
   ]
  },
  {
   "cell_type": "code",
   "execution_count": null,
   "id": "a401650b",
   "metadata": {},
   "outputs": [],
   "source": [
    "micado.optics_manager.system_transmission.plot(ylog=True, left=20000, right=25000)"
   ]
  },
  {
   "cell_type": "code",
   "execution_count": null,
   "id": "f30f6046",
   "metadata": {},
   "outputs": [],
   "source": [
    "help(micado.optics_manager.system_transmission.plot)"
   ]
  }
 ],
 "metadata": {
  "kernelspec": {
   "display_name": "Python 3 (ipykernel)",
   "language": "python",
   "name": "python3"
  },
  "language_info": {
   "codemirror_mode": {
    "name": "ipython",
    "version": 3
   },
   "file_extension": ".py",
   "mimetype": "text/x-python",
   "name": "python",
   "nbconvert_exporter": "python",
   "pygments_lexer": "ipython3",
   "version": "3.11.4"
  }
 },
 "nbformat": 4,
 "nbformat_minor": 5
}
