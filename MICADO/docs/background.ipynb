{
 "cells": [
  {
   "cell_type": "markdown",
   "id": "0c02f589",
   "metadata": {},
   "source": [
    "# Background flux"
   ]
  },
  {
   "cell_type": "code",
   "execution_count": null,
   "id": "2f2a0fb0",
   "metadata": {},
   "outputs": [],
   "source": [
    "import numpy as np\n",
    "from itertools import product\n",
    "\n",
    "import scopesim as sim\n",
    "from scopesim.source.source_templates import empty_sky\n",
    "\n",
    "# Set local path\n",
    "sim.rc.__config__[\"!SIM.file.local_packages_path\"] = \"../../\"\n",
    "\n",
    "args = [(\"open\", \"Ks\", \"open\"),\n",
    "        (\"open\", \"H\", \"open\"),\n",
    "        (\"J\", \"open\", \"open\"),\n",
    "        (\"open\", \"open\", \"Br-gamma\")]\n",
    "ao_modes = (\"SCAO\", \"MCAO\")\n",
    "im_modes = (\"IMG_1.5mas\", \"IMG_4mas\")"
   ]
  },
  {
   "cell_type": "code",
   "execution_count": null,
   "id": "f6e3509a",
   "metadata": {},
   "outputs": [],
   "source": [
    "combos = list(product(ao_modes, im_modes, args))"
   ]
  },
  {
   "cell_type": "code",
   "execution_count": null,
   "id": "a09db983",
   "metadata": {},
   "outputs": [],
   "source": [
    "def background(ao_mode, im_mode, filters):\n",
    "    fw1, fw2, pw = filters\n",
    "    cmds = sim.UserCommands(use_instrument=\"MICADO\",\n",
    "                            set_modes=[ao_mode, im_mode])\n",
    "    micado = sim.OpticalTrain(cmds)\n",
    "\n",
    "    micado[\"filter_wheel_1\"].change_filter(fw1)\n",
    "    micado[\"filter_wheel_2\"].change_filter(fw2)\n",
    "    micado[\"pupil_wheel\"].change_filter(pw)\n",
    "\n",
    "    # Pixel size is 0.14 of the 4mas version, hence fluxes are lower\n",
    "    # bg_flux *= (1.5 / 4)**2\n",
    "    \n",
    "    src = empty_sky()\n",
    "    micado.observe(src)\n",
    "    implane = micado.image_planes[0].hdu.data       # e-/pixel/s\n",
    "\n",
    "    return np.median(implane)\n",
    "\n",
    "def filtername(filters):\n",
    "    for fltr in filters:\n",
    "        if fltr != \"open\":\n",
    "            return fltr\n",
    "    return fltr"
   ]
  },
  {
   "cell_type": "code",
   "execution_count": null,
   "id": "48159758",
   "metadata": {},
   "outputs": [],
   "source": [
    "results = []\n",
    "for combo in combos:\n",
    "    a, m, fltrs = combo\n",
    "    results.append((a, m, filtername(fltrs), background(*combo)))"
   ]
  },
  {
   "cell_type": "code",
   "execution_count": null,
   "id": "eb617d56",
   "metadata": {},
   "outputs": [],
   "source": [
    "import pandas as pd\n",
    "pd.options.display.float_format = \"{:,.2f}\".format"
   ]
  },
  {
   "cell_type": "markdown",
   "id": "615d15b8",
   "metadata": {},
   "source": [
    "## Setup Table to show grouped results"
   ]
  },
  {
   "cell_type": "code",
   "execution_count": null,
   "id": "44439cb2",
   "metadata": {},
   "outputs": [],
   "source": [
    "idx = pd.MultiIndex.from_tuples([r[:3] for r in results],\n",
    "      names=[\"AO\", \"Mode\", \"Filter\"]).reorder_levels([\"AO\", \"Filter\", \"Mode\"])\n",
    "df = pd.DataFrame([r[-1] for r in results], columns=[\"e-/pixel/s\"], index=idx)\n",
    "df.sort_values(by=[\"AO\", \"Filter\", \"Mode\"], ascending=[False, False, True])"
   ]
  }
 ],
 "metadata": {
  "kernelspec": {
   "display_name": "Python 3 (ipykernel)",
   "language": "python",
   "name": "python3"
  },
  "language_info": {
   "codemirror_mode": {
    "name": "ipython",
    "version": 3
   },
   "file_extension": ".py",
   "mimetype": "text/x-python",
   "name": "python",
   "nbconvert_exporter": "python",
   "pygments_lexer": "ipython3",
   "version": "3.9.16"
  }
 },
 "nbformat": 4,
 "nbformat_minor": 5
}
