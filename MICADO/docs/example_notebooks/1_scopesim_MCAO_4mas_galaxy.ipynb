{
 "cells": [
  {
   "cell_type": "markdown",
   "id": "molecular-picnic",
   "metadata": {},
   "source": [
    "# Observing a galaxy with MICADO_Sci in wide-field MCAO mode\n",
    "\n",
    "In this example we will generate a basic galaxy object with the help of the ``ScopeSim_templates`` package.\n",
    "We will then create a model of the ELT+MAORY+MICADO optical system using the ``MICADO_Sci`` package. \n",
    "The ``MICADO_Sci`` package has been optimised for speed so that the user can rapidly iterate on their science case."
   ]
  },
  {
   "cell_type": "code",
   "execution_count": null,
   "id": "standard-origin",
   "metadata": {},
   "outputs": [],
   "source": [
    "import numpy as np\n",
    "import matplotlib.pyplot as plt\n",
    "from matplotlib.colors import LogNorm\n",
    "from astropy import units as u\n",
    "\n",
    "import scopesim as sim\n",
    "import scopesim_templates as sim_tp\n",
    "\n",
    "%matplotlib inline\n",
    "\n",
    "# set to where you want the instrument packages to be located\n",
    "sim.rc.__config__[\"!SIM.file.local_packages_path\"] = \"../../../\"    "
   ]
  },
  {
   "cell_type": "markdown",
   "id": "sufficient-great",
   "metadata": {},
   "source": [
    "### Download the relevant scopesim instrument packages\n",
    "\n",
    "We will need the ``MICADO_Sci`` package, as well as the support packages for ``Armazones``, the ``ELT``, and ``MAORY``. If you have not yet downloaded the packages, you can use the ``download_package`` command:\n",
    "\n",
    "    sim.download_package([\"locations/Armazones.zip\",\n",
    "                          \"telescopes/ELT.zip\",\n",
    "                          \"instruments/MAORY.zip\",\n",
    "                          \"instruments/MICADO_Sci.zip\",])\n",
    "\n",
    "\n",
    "To view all available packages, use the ``sim.list_packages`` command"
   ]
  },
  {
   "cell_type": "code",
   "execution_count": null,
   "id": "conventional-street",
   "metadata": {},
   "outputs": [],
   "source": [
    "sim.list_packages(location=\"local\")   # [\"all\", \"local\", \"server\"]"
   ]
  },
  {
   "cell_type": "markdown",
   "id": "received-portfolio",
   "metadata": {},
   "source": [
    "### Set up on-sky source object\n",
    "\n",
    "For ease of use we will use the helper function from ``ScopeSim_templates`` to create a two-layer spiral galaxy object.\n",
    "The ``Source`` object contains two image layers (in ``<Source>.fields``) that each reference a unique spectrum.\n",
    "The two layers correspond to the old and the new stellar populations of the galaxy."
   ]
  },
  {
   "cell_type": "code",
   "execution_count": null,
   "id": "expanded-collins",
   "metadata": {},
   "outputs": [],
   "source": [
    "gal = sim_tp.extragalactic.galaxies.spiral_two_component(extent=16*u.arcsec, fluxes=(15, 15)*u.mag)"
   ]
  },
  {
   "cell_type": "markdown",
   "id": "satisfied-issue",
   "metadata": {},
   "source": [
    "Here we can see what is contained in the ``.fields`` and ``.spectra`` lists of the ``Source`` object"
   ]
  },
  {
   "cell_type": "code",
   "execution_count": null,
   "id": "medieval-associate",
   "metadata": {},
   "outputs": [],
   "source": [
    "wave = np.linspace(0.3, 2.5, 2201) * u.um\n",
    "plt.figure(figsize=(15, 10))\n",
    "\n",
    "plt.subplot(221)\n",
    "plt.imshow(gal.fields[0].data)\n",
    "plt.subplot(222)\n",
    "plt.plot(wave, gal.spectra[0](wave))\n",
    "plt.subplot(223)\n",
    "plt.imshow(gal.fields[1].data)\n",
    "plt.subplot(224)\n",
    "plt.plot(wave, gal.spectra[1](wave))"
   ]
  },
  {
   "cell_type": "markdown",
   "id": "infinite-retrieval",
   "metadata": {},
   "source": [
    "### Set up the MICADO_Sci system for MCAO 4mas J-band observations\n",
    "\n",
    "The next step is to create a model of MICADO in memory. \n",
    "First we need to generate a set of commands that we can manipulate. \n",
    "Once we have these we can create a model of the optical system.\n",
    "\n",
    "We use the ``UserCommands`` class and tell it to look for the ``MICADO_Sci`` package.\n",
    "At the same time we set the observing modes to use. \n",
    "In this case we want ``MCAO`` and the 4mas per pixel wide-field optics (``IMG_4mas``)"
   ]
  },
  {
   "cell_type": "code",
   "execution_count": null,
   "id": "distant-brand",
   "metadata": {},
   "outputs": [],
   "source": [
    "cmd = sim.UserCommands(use_instrument=\"MICADO_Sci\", set_modes=[\"SCAO\", \"IMG_4mas\"])"
   ]
  },
  {
   "cell_type": "markdown",
   "id": "underlying-pencil",
   "metadata": {},
   "source": [
    "We can update many of the observation parameters using the \"!-bang\" string syntax to access the values inside the hierarchical nested-dictionary structure of the ``UserCommands`` object.\n",
    "\n",
    "Here we set the filter to the J-band, exposure length (DIT) to 60 seconds and number of exposures (DIT) to 1.\n",
    "We can pass these parameters either as a dictionary using the ``.update(properties={...})`` method, or individually using normal dictionary notation with the \"!-bang\" strings."
   ]
  },
  {
   "cell_type": "code",
   "execution_count": null,
   "id": "floral-screw",
   "metadata": {},
   "outputs": [],
   "source": [
    "cmd.update(properties={\"!OBS.filter_name\": \"J\", \"!OBS.ndit\": 1, \"!OBS.dit\": 60})\n",
    "\n",
    "cmd[\"!DET.width\"] = 2048     # pixel\n",
    "cmd[\"!DET.height\"] = 1024"
   ]
  },
  {
   "cell_type": "markdown",
   "id": "activated-scenario",
   "metadata": {},
   "source": [
    "Now that we have the commands set, we create the MICADO optical model"
   ]
  },
  {
   "cell_type": "code",
   "execution_count": null,
   "id": "second-works",
   "metadata": {},
   "outputs": [],
   "source": [
    "micado = sim.OpticalTrain(cmd)"
   ]
  },
  {
   "cell_type": "markdown",
   "id": "sitting-trading",
   "metadata": {},
   "source": [
    "Observing and reading out the detectors is also a simple operation"
   ]
  },
  {
   "cell_type": "code",
   "execution_count": null,
   "id": "acting-strengthening",
   "metadata": {},
   "outputs": [],
   "source": [
    "micado.observe(gal)\n",
    "hdus = micado.readout()"
   ]
  },
  {
   "cell_type": "markdown",
   "id": "minor-maria",
   "metadata": {},
   "source": [
    "The output of a simulation is a list of ``fits.HDUList`` objects.\n",
    "One ``HDUList`` for each detector plane.\n",
    "In MICADO there is only 1 detector plane, but the class interface still requires that this single ``HDUList`` be placed in another list.\n",
    "\n",
    "We can view the output of our custom Detecotr window like we would for any regular fits image in Python\n",
    "\n",
    "Alternatively we could save the readout file to disk with the parameter ``filename=``:\n",
    "\n",
    "    micado.readout(filename=\"my_galaxy.fits\")"
   ]
  },
  {
   "cell_type": "code",
   "execution_count": null,
   "id": "addressed-permit",
   "metadata": {},
   "outputs": [],
   "source": [
    "plt.figure(figsize=(10,10))\n",
    "plt.imshow(hdus[0][1].data, norm=LogNorm())"
   ]
  }
 ],
 "metadata": {
  "kernelspec": {
   "display_name": "Python 3",
   "language": "python",
   "name": "python3"
  },
  "language_info": {
   "codemirror_mode": {
    "name": "ipython",
    "version": 3
   },
   "file_extension": ".py",
   "mimetype": "text/x-python",
   "name": "python",
   "nbconvert_exporter": "python",
   "pygments_lexer": "ipython3",
   "version": "3.6.8"
  }
 },
 "nbformat": 4,
 "nbformat_minor": 5
}
