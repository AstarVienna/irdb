{
 "cells": [
  {
   "cell_type": "markdown",
   "id": "educational-angel",
   "metadata": {},
   "source": [
    "# Astrometric observation simulations with MICADO_Sci and SCAO\n",
    "\n",
    "In this eample we demonstate the sub-pixel precision of ScopeSim simulation by creating a grid of moving stars and simulating observations of two epochs.\n",
    "The second part then applies the same workflow to the motions of stars in a star cluster.\n",
    "For the sake of computational speed we use the ``MICADO_Sci`` package.\n",
    "We use the wide-field mode (4 mas / pixel) so that the sub-pixel motions of the stars are visible in the flux distribution of the PSF cores."
   ]
  },
  {
   "cell_type": "code",
   "execution_count": 2,
   "id": "dangerous-civilization",
   "metadata": {},
   "outputs": [
    {
     "ename": "AttributeError",
     "evalue": "module 'scopesim' has no attribute 'system_dict'",
     "output_type": "error",
     "traceback": [
      "\u001b[1;31m---------------------------------------------------------------------------\u001b[0m",
      "\u001b[1;31mAttributeError\u001b[0m                            Traceback (most recent call last)",
      "\u001b[1;32m<ipython-input-2-9443803137b6>\u001b[0m in \u001b[0;36m<module>\u001b[1;34m\u001b[0m\n\u001b[0;32m      5\u001b[0m \u001b[1;33m\u001b[0m\u001b[0m\n\u001b[0;32m      6\u001b[0m \u001b[1;32mimport\u001b[0m \u001b[0mscopesim\u001b[0m \u001b[1;32mas\u001b[0m \u001b[0msim\u001b[0m\u001b[1;33m\u001b[0m\u001b[1;33m\u001b[0m\u001b[0m\n\u001b[1;32m----> 7\u001b[1;33m \u001b[1;32mimport\u001b[0m \u001b[0mscopesim_templates\u001b[0m \u001b[1;32mas\u001b[0m \u001b[0msim_tp\u001b[0m\u001b[1;33m\u001b[0m\u001b[1;33m\u001b[0m\u001b[0m\n\u001b[0m\u001b[0;32m      8\u001b[0m \u001b[1;33m\u001b[0m\u001b[0m\n\u001b[0;32m      9\u001b[0m \u001b[0mget_ipython\u001b[0m\u001b[1;33m(\u001b[0m\u001b[1;33m)\u001b[0m\u001b[1;33m.\u001b[0m\u001b[0mrun_line_magic\u001b[0m\u001b[1;33m(\u001b[0m\u001b[1;34m'matplotlib'\u001b[0m\u001b[1;33m,\u001b[0m \u001b[1;34m'inline'\u001b[0m\u001b[1;33m)\u001b[0m\u001b[1;33m\u001b[0m\u001b[1;33m\u001b[0m\u001b[0m\n",
      "\u001b[1;32mF:\\Work\\ScopeSim_Templates\\scopesim_templates\\__init__.py\u001b[0m in \u001b[0;36m<module>\u001b[1;34m\u001b[0m\n\u001b[0;32m      1\u001b[0m \u001b[1;32mimport\u001b[0m \u001b[0mwarnings\u001b[0m\u001b[1;33m\u001b[0m\u001b[1;33m\u001b[0m\u001b[0m\n\u001b[0;32m      2\u001b[0m \u001b[1;33m\u001b[0m\u001b[0m\n\u001b[1;32m----> 3\u001b[1;33m \u001b[1;32mfrom\u001b[0m \u001b[1;33m.\u001b[0m \u001b[1;32mimport\u001b[0m \u001b[0mcalibration\u001b[0m\u001b[1;33m\u001b[0m\u001b[1;33m\u001b[0m\u001b[0m\n\u001b[0m\u001b[0;32m      4\u001b[0m \u001b[1;32mfrom\u001b[0m \u001b[1;33m.\u001b[0m \u001b[1;32mimport\u001b[0m \u001b[0mextragalactic\u001b[0m\u001b[1;33m\u001b[0m\u001b[1;33m\u001b[0m\u001b[0m\n\u001b[0;32m      5\u001b[0m \u001b[1;32mfrom\u001b[0m \u001b[1;33m.\u001b[0m \u001b[1;32mimport\u001b[0m \u001b[0mmisc\u001b[0m\u001b[1;33m\u001b[0m\u001b[1;33m\u001b[0m\u001b[0m\n",
      "\u001b[1;32mF:\\Work\\ScopeSim_Templates\\scopesim_templates\\calibration\\__init__.py\u001b[0m in \u001b[0;36m<module>\u001b[1;34m\u001b[0m\n\u001b[1;32m----> 1\u001b[1;33m \u001b[1;32mfrom\u001b[0m \u001b[1;33m.\u001b[0m\u001b[0mcalibration\u001b[0m \u001b[1;32mimport\u001b[0m \u001b[1;33m*\u001b[0m\u001b[1;33m\u001b[0m\u001b[1;33m\u001b[0m\u001b[0m\n\u001b[0m\u001b[0;32m      2\u001b[0m \u001b[1;32mfrom\u001b[0m \u001b[1;33m.\u001b[0m \u001b[1;32mimport\u001b[0m \u001b[0mmicado\u001b[0m\u001b[1;33m\u001b[0m\u001b[1;33m\u001b[0m\u001b[0m\n",
      "\u001b[1;32mF:\\Work\\ScopeSim_Templates\\scopesim_templates\\calibration\\calibration.py\u001b[0m in \u001b[0;36m<module>\u001b[1;34m\u001b[0m\n\u001b[0;32m      1\u001b[0m \u001b[1;32mimport\u001b[0m \u001b[0mnumpy\u001b[0m \u001b[1;32mas\u001b[0m \u001b[0mnp\u001b[0m\u001b[1;33m\u001b[0m\u001b[1;33m\u001b[0m\u001b[0m\n\u001b[0;32m      2\u001b[0m \u001b[1;32mfrom\u001b[0m \u001b[0mastropy\u001b[0m \u001b[1;32mimport\u001b[0m \u001b[0munits\u001b[0m \u001b[1;32mas\u001b[0m \u001b[0mu\u001b[0m\u001b[1;33m\u001b[0m\u001b[1;33m\u001b[0m\u001b[0m\n\u001b[1;32m----> 3\u001b[1;33m \u001b[1;32mfrom\u001b[0m \u001b[0mscopesim_templates\u001b[0m\u001b[1;33m.\u001b[0m\u001b[0mrc\u001b[0m \u001b[1;32mimport\u001b[0m \u001b[0mSource\u001b[0m\u001b[1;33m,\u001b[0m \u001b[0m__config__\u001b[0m\u001b[1;33m\u001b[0m\u001b[1;33m\u001b[0m\u001b[0m\n\u001b[0m\u001b[0;32m      4\u001b[0m \u001b[1;32mfrom\u001b[0m \u001b[0mscopesim_templates\u001b[0m\u001b[1;33m.\u001b[0m\u001b[0mutils\u001b[0m\u001b[1;33m.\u001b[0m\u001b[0mgeneral_utils\u001b[0m \u001b[1;32mimport\u001b[0m \u001b[0mfunction_call_str\u001b[0m\u001b[1;33m\u001b[0m\u001b[1;33m\u001b[0m\u001b[0m\n\u001b[0;32m      5\u001b[0m \u001b[1;32mfrom\u001b[0m \u001b[0mspextra\u001b[0m \u001b[1;32mimport\u001b[0m \u001b[0mSpextrum\u001b[0m\u001b[1;33m\u001b[0m\u001b[1;33m\u001b[0m\u001b[0m\n",
      "\u001b[1;32mF:\\Work\\ScopeSim_Templates\\scopesim_templates\\rc.py\u001b[0m in \u001b[0;36m<module>\u001b[1;34m\u001b[0m\n\u001b[0;32m      9\u001b[0m \u001b[1;33m\u001b[0m\u001b[0m\n\u001b[0;32m     10\u001b[0m \u001b[0mSource\u001b[0m \u001b[1;33m=\u001b[0m \u001b[0mscopesim\u001b[0m\u001b[1;33m.\u001b[0m\u001b[0msource\u001b[0m\u001b[1;33m.\u001b[0m\u001b[0msource\u001b[0m\u001b[1;33m.\u001b[0m\u001b[0mSource\u001b[0m\u001b[1;33m\u001b[0m\u001b[1;33m\u001b[0m\u001b[0m\n\u001b[1;32m---> 11\u001b[1;33m \u001b[0mSystemDict\u001b[0m \u001b[1;33m=\u001b[0m \u001b[0mscopesim\u001b[0m\u001b[1;33m.\u001b[0m\u001b[0msystem_dict\u001b[0m\u001b[1;33m.\u001b[0m\u001b[0mSystemDict\u001b[0m\u001b[1;33m\u001b[0m\u001b[1;33m\u001b[0m\u001b[0m\n\u001b[0m\u001b[0;32m     12\u001b[0m \u001b[0mter_curve_utils\u001b[0m \u001b[1;33m=\u001b[0m \u001b[0mscopesim\u001b[0m\u001b[1;33m.\u001b[0m\u001b[0meffects\u001b[0m\u001b[1;33m.\u001b[0m\u001b[0mter_curves_utils\u001b[0m\u001b[1;33m\u001b[0m\u001b[1;33m\u001b[0m\u001b[0m\n\u001b[0;32m     13\u001b[0m \u001b[0mim_plane_utils\u001b[0m \u001b[1;33m=\u001b[0m \u001b[0mscopesim\u001b[0m\u001b[1;33m.\u001b[0m\u001b[0moptics\u001b[0m\u001b[1;33m.\u001b[0m\u001b[0mimage_plane_utils\u001b[0m\u001b[1;33m\u001b[0m\u001b[1;33m\u001b[0m\u001b[0m\n",
      "\u001b[1;31mAttributeError\u001b[0m: module 'scopesim' has no attribute 'system_dict'"
     ]
    }
   ],
   "source": [
    "import numpy as np\n",
    "import matplotlib.pyplot as plt\n",
    "from matplotlib.colors import LogNorm\n",
    "from astropy import units as u\n",
    "\n",
    "import scopesim as sim\n",
    "import scopesim_templates as sim_tp\n",
    "\n",
    "%matplotlib inline\n",
    "\n",
    "# set to where you want the instrument packages to be located \n",
    "pkgs_path = \"./\"\n",
    "\n",
    "if os.environ.get(\"READTHEDOCS\"):\n",
    "    pkgs_path = \"../../../\"\n",
    "sim.rc.__config__[\"!SIM.file.local_packages_path\"] = pkgs_path"
   ]
  },
  {
   "cell_type": "markdown",
   "id": "durable-cheese",
   "metadata": {},
   "source": [
    "As always, the first step is to make sure all instrument packages are present in the working directory.\n",
    "The assumption is that SCAO observations will use the MICADO internal SCAO system. \n",
    "Hence the MAORY package is not required for this optical models.\n",
    "\n",
    "    sim.download_package([\"locations/Armazones.zip\",\n",
    "                          \"telescopes/ELT.zip\",\n",
    "                          \"instruments/MAORY.zip\",\n",
    "                          \"instruments/MICADO_Sci.zip\",])"
   ]
  },
  {
   "cell_type": "code",
   "execution_count": null,
   "id": "defined-chicago",
   "metadata": {},
   "outputs": [],
   "source": [
    "sim.list_packages(location=\"local\")   # [\"all\", \"local\", \"server\"]"
   ]
  },
  {
   "cell_type": "markdown",
   "id": "friendly-quest",
   "metadata": {},
   "source": [
    "### Set up a source with 4 stars in a grid pattern\n",
    "\n",
    "For the first part of this exercise we create a grid of stars seperated by 32 mas.\n",
    "The ``ScopeSim_templates`` pacakge has a helper function for making griods of stars in the ``basic.stars`` submodule:"
   ]
  },
  {
   "cell_type": "code",
   "execution_count": null,
   "id": "appreciated-english",
   "metadata": {},
   "outputs": [],
   "source": [
    "stars = sim_tp.star_grid(n=4, mmin=15, mmax=15, filter_name=\"Ks\", separation=0.032)\n",
    "\n",
    "plt.scatter(stars.fields[0][\"x\"], stars.fields[0][\"y\"])"
   ]
  },
  {
   "cell_type": "markdown",
   "id": "lesser-attraction",
   "metadata": {},
   "source": [
    "# Set up the MICADO_Sci system for SCAO 4mas Pa-beta observations\n",
    "\n",
    "The next step is to set up the ``MICADO_Sci`` optical system using the ``SCAO`` and wide-field optics (``IMG_4mas``) modes.\n",
    "As we know in advance that we want to use the Pa-Beta filter, we can set this parameter by passing a dictionary to the ``properties=`` keyword.\n",
    "\n",
    "Additionally, we are only interested in a small section of the detector around where the 4 stars will be located.\n",
    "We can therefore set our Detector to only read out the desired window area.\n",
    "The required \"!-bang\" string keywords for this are ``!DET.width`` and ``!DET.height`` (given in units of pixels).\n",
    "\n",
    "As we are interested in the sub-pixel movements of the stars, it is also important to set the ``!SIM.sub_pixel.flag`` to True\n",
    "\n",
    "Given that we are observing at a non-standard broadband filter, we need to instruct the ``OpticalTrain`` to adjust the PSF strehl ratio.\n",
    "This is done with the ``!INST.psf`` dictionary."
   ]
  },
  {
   "cell_type": "code",
   "execution_count": null,
   "id": "freelance-custody",
   "metadata": {},
   "outputs": [],
   "source": [
    "cmd = sim.UserCommands(use_instrument=\"MICADO_Sci\", set_modes=[\"SCAO\", \"IMG_4mas\"],\n",
    "                       properties={\"!INST.filter_name\": \"Pa-beta\"})\n",
    "cmd[\"!DET.width\"] = 16     # pixel\n",
    "cmd[\"!DET.height\"] = 16\n",
    "\n",
    "cmd[\"!SIM.sub_pixel.flag\"] = True\n",
    "\n",
    "cmd[\"!INST.psf.strehl\"] = 0.1\n",
    "cmd[\"!INST.psf.wavelength\"] = 1.2"
   ]
  },
  {
   "cell_type": "markdown",
   "id": "infrared-schema",
   "metadata": {},
   "source": [
    "With all these parameters set, we can finally build the optical model and observe the stars."
   ]
  },
  {
   "cell_type": "code",
   "execution_count": null,
   "id": "informative-marathon",
   "metadata": {
    "scrolled": false
   },
   "outputs": [],
   "source": [
    "micado = sim.OpticalTrain(cmd)\n",
    "micado.observe(stars)\n",
    "hdus = micado.readout()"
   ]
  },
  {
   "cell_type": "markdown",
   "id": "continent-recording",
   "metadata": {},
   "source": [
    "As we can see below the 4 stars appear nicely positioned in the grid.\n",
    "The pixelated 1st Airy ring is also visible.\n",
    "We chose the wide-field (4mas) mode for this example especially for this reason."
   ]
  },
  {
   "cell_type": "code",
   "execution_count": null,
   "id": "suited-destination",
   "metadata": {},
   "outputs": [],
   "source": [
    "plt.figure(figsize=(10,10))\n",
    "plt.imshow(hdus[0][1].data, norm=LogNorm())"
   ]
  },
  {
   "cell_type": "markdown",
   "id": "mobile-positive",
   "metadata": {},
   "source": [
    "### Observing a second Epoch\n",
    "\n",
    "To simulate the movement of the stars due to their proper motions over time, we can shift the stars by a random fraction of a pixel in both directions using the ``.shift`` method of a point-source ``Source`` object."
   ]
  },
  {
   "cell_type": "code",
   "execution_count": null,
   "id": "strange-delhi",
   "metadata": {},
   "outputs": [],
   "source": [
    "dx, dy = 0.004 * np.random.random(size=(2, 4))\n",
    "stars.shift(dx=dx, dy=dy)"
   ]
  },
  {
   "cell_type": "markdown",
   "id": "spanish-organizer",
   "metadata": {},
   "source": [
    "As the ``MICADO_Sci`` optical model already exists and we do not want to change anything about the system, we can simply observe and readout the updated ``Source`` again."
   ]
  },
  {
   "cell_type": "code",
   "execution_count": null,
   "id": "cubic-integer",
   "metadata": {
    "scrolled": false
   },
   "outputs": [],
   "source": [
    "micado.observe(stars)\n",
    "hdus2 = micado.readout()"
   ]
  },
  {
   "cell_type": "markdown",
   "id": "micro-chess",
   "metadata": {},
   "source": [
    "The added random fraction of a pixel motion to each star results in the centre of mass of each star being unaligned with the pixel."
   ]
  },
  {
   "cell_type": "code",
   "execution_count": null,
   "id": "structural-wound",
   "metadata": {},
   "outputs": [],
   "source": [
    "plt.figure(figsize=(10,10))\n",
    "plt.imshow(hdus2[0][1].data, norm=LogNorm())"
   ]
  },
  {
   "cell_type": "markdown",
   "id": "wireless-deadline",
   "metadata": {},
   "source": [
    "### Cluster movement use case\n",
    "\n",
    "The above examples are nice for illustrating a simple use case. \n",
    "For more complex cases, such as the motions of stars within a star cluster, the work flow remains the same.\n",
    "We can use the ``ScopeSim_Templates`` package function to create a plausible open cluster containing 10 solar masses worth of stars, located at a distance of 8 kpc. The core radius of 0.002 pc is wildly unrealistic, but this dense core serves the purpose of illustrating the sub-pixel nature of ScopeSim simulations.\n",
    "\n",
    "Here ``t0_cluster`` and ``t1_cluster`` are two realisation of the same cluster at different epochs.\n",
    "\n",
    "While the ``.shift`` method described above would also be perfectly applicable here, we will create a copy of the original cluster object for the second Epoch. This allows us to visualise the \"before and after\" of the cluster simulations.\n",
    "\n",
    "We also show how to access the table containing the spatial information inside the ``Source`` object's ``.fields`` attribute."
   ]
  },
  {
   "cell_type": "code",
   "execution_count": null,
   "id": "mechanical-oxygen",
   "metadata": {},
   "outputs": [],
   "source": [
    "from copy import deepcopy\n",
    "t0_cluster = sim_tp.cluster(mass=10, core_radius=0.002, distance=8000)\n",
    "t1_cluster = deepcopy(t0_cluster)\n",
    "\n",
    "pm_x, pm_y = np.random.normal(0, 0.02, size=(2, len(t0_cluster.fields[0])))\n",
    "\n",
    "t1_cluster.fields[0][\"x\"] += pm_x\n",
    "t1_cluster.fields[0][\"y\"] += pm_y\n",
    "\n",
    "plt.scatter(t0_cluster.fields[0][\"x\"], t0_cluster.fields[0][\"y\"], c=\"b\", label=\"t0\")\n",
    "plt.scatter(t1_cluster.fields[0][\"x\"], t1_cluster.fields[0][\"y\"], c=\"r\", label=\"t1\")\n",
    "plt.legend(loc=2)"
   ]
  },
  {
   "cell_type": "markdown",
   "id": "simplified-stereo",
   "metadata": {},
   "source": [
    "### Observing the two epochs of the cluster\n",
    "\n",
    "For an astrometric science case we are more likely to use the MICADO zoom optics (1.5mas / pixel).\n",
    "Therefore we recreate the optical mode with the updated ``set_modes`` keyword (``IMG_1.5mas``).\n",
    "\n",
    "We also expand the size of the detector window to 256x256 pixels in order to fit our unrealisticly dense open cluster."
   ]
  },
  {
   "cell_type": "code",
   "execution_count": null,
   "id": "driving-prayer",
   "metadata": {},
   "outputs": [],
   "source": [
    "cmd = sim.UserCommands(use_instrument=\"MICADO\", set_modes=[\"SCAO\", \"IMG_1.5mas\"],\n",
    "                       properties={\"!OBS.filter_name\": \"J\", \"!OBS.dit\": 3600})\n",
    "cmd[\"!DET.width\"] = 256     # pixel\n",
    "cmd[\"!DET.height\"] = 256\n",
    "\n",
    "cmd[\"!SIM.sub_pixel.flag\"] = True\n",
    "\n",
    "micado = sim.OpticalTrain(cmd)"
   ]
  },
  {
   "cell_type": "markdown",
   "id": "victorian-eugene",
   "metadata": {},
   "source": [
    "Observing and reading out the MICADO detector for each ``Source`` object is quite obvious by now"
   ]
  },
  {
   "cell_type": "code",
   "execution_count": null,
   "id": "vocational-juice",
   "metadata": {},
   "outputs": [],
   "source": [
    "micado.observe(t0_cluster)\n",
    "t0_hdus = micado.readout()\n",
    "\n",
    "micado.observe(t1_cluster)\n",
    "t1_hdus = micado.readout()"
   ]
  },
  {
   "cell_type": "markdown",
   "id": "fourth-marketplace",
   "metadata": {},
   "source": [
    "In contrast to the grid of stars being observed with the wide-field mode, the zoom-mode enables us to see much more of the PSF structure. \n",
    "The shift in star positions is also quite obvious.\n",
    "\n",
    "Each ``fits.HDUList`` could also ahve been saved to disk as a regular FITS file by passing a ``filename=`` keyword to the ``readout``method call.\n",
    "Alternatively we could use the standard ``astropy.fits`` functionality (i.e. the ``writeto()`` method) to save the ``HDUList``s to disk."
   ]
  },
  {
   "cell_type": "code",
   "execution_count": null,
   "id": "experienced-karaoke",
   "metadata": {},
   "outputs": [],
   "source": [
    "plt.figure(figsize=(15,8))\n",
    "plt.subplot(121)\n",
    "plt.imshow(t0_hdus[0][1].data, norm=LogNorm(), origin=\"lower\")\n",
    "plt.subplot(122)\n",
    "plt.imshow(t1_hdus[0][1].data, norm=LogNorm(), origin=\"lower\")"
   ]
  },
  {
   "cell_type": "code",
   "execution_count": null,
   "id": "grave-emission",
   "metadata": {},
   "outputs": [],
   "source": []
  }
 ],
 "metadata": {
  "kernelspec": {
   "display_name": "Python 3",
   "language": "python",
   "name": "python3"
  },
  "language_info": {
   "codemirror_mode": {
    "name": "ipython",
    "version": 3
   },
   "file_extension": ".py",
   "mimetype": "text/x-python",
   "name": "python",
   "nbconvert_exporter": "python",
   "pygments_lexer": "ipython3",
   "version": "3.6.8"
  }
 },
 "nbformat": 4,
 "nbformat_minor": 5
}
