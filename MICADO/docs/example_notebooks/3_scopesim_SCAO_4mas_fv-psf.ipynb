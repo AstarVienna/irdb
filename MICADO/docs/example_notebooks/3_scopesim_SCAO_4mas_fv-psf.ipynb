{
 "cells": [
  {
   "cell_type": "markdown",
   "id": "framed-clerk",
   "metadata": {},
   "source": [
    "# Wide-field observations of PSF variations with SCAO\n",
    "\n",
    "This notebook can be found in the [MICADO package on the IRDB Github repository](https://github.com/astronomyk/irdb/blob/master/MICADO/docs/static/)\n",
    "\n",
    "In this example we will show the effect of the off-axis AO correction on the shape of the PSF when observing with the SCAO mode.\n",
    "To make a semi-realistic observation, we will observe an open cluster created by the ``ScopeSim_Templates`` package.\n",
    "This cluster extends over the full MICADO field of view.\n",
    "As such it should show the full extend of the expected PSF variations over the field.\n",
    "\n",
    "It should be noted that adding PSF field variations is a computationally expensive process. ScopeSim does it's best to reduce the level of complexity by discretising the PSF variation into different zones over the field of view.\n",
    "Occasionally the borders between these zones is visible "
   ]
  },
  {
   "cell_type": "code",
   "execution_count": null,
   "id": "unlimited-cliff",
   "metadata": {},
   "outputs": [],
   "source": [
    "import numpy as np\n",
    "import matplotlib.pyplot as plt\n",
    "from matplotlib.colors import LogNorm\n",
    "from astropy import units as u\n",
    "\n",
    "import scopesim as sim\n",
    "import scopesim_templates as sim_tp\n",
    "\n",
    "%matplotlib inline\n",
    "\n",
    "# set to where you want the instrument packages to be located\n",
    "sim.rc.__config__[\"!SIM.file.local_packages_path\"] = \"../../../\""
   ]
  },
  {
   "cell_type": "markdown",
   "id": "about-darwin",
   "metadata": {},
   "source": [
    "The PSF field-variation is complex and computationally expensive.\n",
    "Hence this functionality is not inluded in the ``MICADO_Sci`` package.\n",
    "For use cases requireing field variations we must use the pipeline-oriented ``MICADO`` package.\n",
    "As we will be using the SCAO mode, we can ignore the ``MAORY`` module.\n",
    "\n",
    "    sim.download_package([\"locations/Armazones.zip\",\n",
    "                          \"telescopes/ELT.zip\",\n",
    "                          \"instruments/MAORY.zip\",\n",
    "                          \"instruments/MICADO_Sci.zip\",])"
   ]
  },
  {
   "cell_type": "code",
   "execution_count": null,
   "id": "floating-soccer",
   "metadata": {},
   "outputs": [],
   "source": [
    "sim.list_packages(location=\"local\")   # [\"all\", \"local\", \"server\"]"
   ]
  },
  {
   "cell_type": "markdown",
   "id": "formed-metabolism",
   "metadata": {},
   "source": [
    "### Set up an open cluster ``Source`` object\n",
    "\n",
    "The first step is to create a ``Source`` object. \n",
    "Here we take advantage of the ``cluster`` function from the ``ScopeSim_Templates.stellar.clusters`` submodule.\n",
    "The ``cluster`` function draws masses from an standard Kroupa IMF until the ``mass`` limit has been reached.\n",
    "It then generates randomly draw positions from a 2D gaussian distribution with a HWHM equal to the given ``core_radius`` in parsec.\n",
    "The ``distance`` parameter sets the distance in parsec to the centre of the cluster.\n",
    "This allows the final on-sky star positions in units of ``arcsec`` from the centre of the cluster to be calculated.\n",
    "Spectra for all the stars are taken from the Pickles (1998) catalogue and are imported from the ``Pyckles`` python packages.\n",
    "\n",
    "Here we choose a cluster with a mass of 10000 solar masses (~250000 stars) with a core radius of 0.5 parsec, located at a distance of 8 kpc from the Earth.\n",
    "This essentially gives us a cluster that covers the whole MICADO filed of view in wide-field mode (4mas / pixel)."
   ]
  },
  {
   "cell_type": "code",
   "execution_count": null,
   "id": "altered-paris",
   "metadata": {},
   "outputs": [],
   "source": [
    "cluster = sim_tp.cluster(mass=10000, core_radius=0.5, distance=8000)"
   ]
  },
  {
   "cell_type": "code",
   "execution_count": null,
   "id": "universal-qatar",
   "metadata": {},
   "outputs": [],
   "source": [
    "plt.plot(cluster.fields[0][\"x\"], cluster.fields[0][\"y\"], \".\")\n",
    "plt.axes().set_aspect('equal', 'datalim')"
   ]
  },
  {
   "cell_type": "markdown",
   "id": "enhanced-strip",
   "metadata": {},
   "source": [
    "### Set up the MICADO optical system for SCAO and include a field-varying PSF\n",
    "\n",
    "The next step is the standard proceedure - set the instrument to ``MICADO`` and the modes to ``SCAO`` and ``IMG_4mas``, then create an ``OpticalTrain`` object."
   ]
  },
  {
   "cell_type": "code",
   "execution_count": null,
   "id": "continent-springer",
   "metadata": {
    "scrolled": false
   },
   "outputs": [],
   "source": [
    "sim.rc.__config__[\"!SIM.file.local_packages_path\"] = \"../../../\"\n",
    "cmd = sim.UserCommands(use_instrument=\"MICADO\", set_modes=[\"SCAO\", \"IMG_4mas\"])\n",
    "micado = sim.OpticalTrain(cmd)"
   ]
  },
  {
   "cell_type": "markdown",
   "id": "identified-archive",
   "metadata": {},
   "source": [
    "By default the PSF model in the pipeline-oriented ``MICADO`` package is set to use a field-constant PSF cube.\n",
    "We need to change this to use a Field-Varying PSF model.\n",
    "\n",
    "**Note:** to view all the optical effects contained within the optical model, use the ``.effects`` attribute in the ``OpticalTrain`` class.\n",
    "\n",
    "Here we see the PSF model in the 4th last line:"
   ]
  },
  {
   "cell_type": "code",
   "execution_count": null,
   "id": "peripheral-monday",
   "metadata": {},
   "outputs": [],
   "source": [
    "micado.effects"
   ]
  },
  {
   "cell_type": "markdown",
   "id": "ruled-lounge",
   "metadata": {},
   "source": [
    "We can access the PSF model using the standard python dictionary notion using the name of the element.\n",
    "In this case it is called ``relay_psf`` as this refers to the internal MICADO relay optics which are connected to the SCAO system.\n",
    "\n",
    "We do not want to use the default ``relay_psf`` object, so we need to tell ScopeSim not to include it"
   ]
  },
  {
   "cell_type": "code",
   "execution_count": null,
   "id": "subjective-parallel",
   "metadata": {},
   "outputs": [],
   "source": [
    "micado[\"relay_psf\"].include = False"
   ]
  },
  {
   "cell_type": "markdown",
   "id": "threatened-steam",
   "metadata": {},
   "source": [
    "Next we want to add a ``FieldVaryingPSF`` object from the ScopeSim library of optical effect.\n",
    "Before we initialise the object though, we will need the correct PSF cube.\n",
    "\n",
    "A small library of precomputed PSFs can be found on the ScopeSim server: https://www.univie.ac.at/simcado/InstPkgSvr/psfs/\n",
    "\n",
    "Once we have downloaded the PSF cube of our choice (in this case the cube corresponding to ESO median atmospheric conditions) we can pass the file path to the ``FieldVaryingPSF`` object."
   ]
  },
  {
   "cell_type": "code",
   "execution_count": null,
   "id": "improving-august",
   "metadata": {},
   "outputs": [],
   "source": [
    "from astropy.utils.data import download_file\n",
    "download_file(\"https://www.univie.ac.at/simcado/InstPkgSvr/psfs/AnisoCADO_SCAO_FVPSF_4mas_EsoMedian_20190328.fits\", cache=True)\n",
    "fname = \"AnisoCADO_SCAO_FVPSF_4mas_EsoMedian_20190328.fits\"\n",
    "fv_psf = sim.effects.psfs.FieldVaryingPSF(filename=fname, name=\"SCAO_FV_PSF\")"
   ]
  },
  {
   "cell_type": "markdown",
   "id": "decimal-productivity",
   "metadata": {},
   "source": [
    "We now need to add the new PSF to the MICADO relay optics element inside the ``MICADO`` optical train."
   ]
  },
  {
   "cell_type": "code",
   "execution_count": null,
   "id": "elegant-swimming",
   "metadata": {},
   "outputs": [],
   "source": [
    "micado.optics_manager[\"default_ro\"].add_effect(fv_psf)"
   ]
  },
  {
   "cell_type": "markdown",
   "id": "funded-given",
   "metadata": {},
   "source": [
    "Viewing an on-axis PSF is boring. Therefore we will move the 1024x1024 detector window off centre 10 arcseconds in both x and y directions.\n",
    "We will also increase the exposure time to 60 seconds.\n",
    "\n",
    "Now we are ready to observe and readout the MICADO detector window"
   ]
  },
  {
   "cell_type": "code",
   "execution_count": null,
   "id": "revised-paper",
   "metadata": {},
   "outputs": [],
   "source": [
    "micado.cmds[\"!OBS.dit\"] = 600    # [s]\n",
    "micado.cmds[\"!DET.x\"] = 2500     # [pixel] equivalent of 10 arcseconds (10 arcsec / 0.004 arcsec pixel-1)\n",
    "micado.cmds[\"!DET.y\"] = 2500\n",
    "\n",
    "micado.observe(cluster)\n",
    "hdus = micado.readout()"
   ]
  },
  {
   "cell_type": "markdown",
   "id": "external-billion",
   "metadata": {},
   "source": [
    "The elongation of the PSF along the radial axis is quite visible."
   ]
  },
  {
   "cell_type": "code",
   "execution_count": null,
   "id": "prescription-certificate",
   "metadata": {},
   "outputs": [],
   "source": [
    "plt.figure(figsize=(20, 20))\n",
    "plt.subplot(121)\n",
    "im = hdus[0][1].data\n",
    "plt.imshow(im, origin=\"lower\", norm=LogNorm())"
   ]
  },
  {
   "cell_type": "markdown",
   "id": "wrong-excuse",
   "metadata": {},
   "source": [
    "Alternatively we could re-centre the detector window, but expand the window size to 4096x4096 pixels (16x16 arcsecond) which is the equivalent of the central MICADO detector."
   ]
  },
  {
   "cell_type": "code",
   "execution_count": null,
   "id": "romantic-birth",
   "metadata": {},
   "outputs": [],
   "source": [
    "micado.cmds[\"!DET.x\"] = 0     \n",
    "micado.cmds[\"!DET.y\"] = 0\n",
    "micado.cmds[\"!DET.width\"] = 4096\n",
    "micado.cmds[\"!DET.height\"] = 4096\n",
    "\n",
    "micado.observe(cluster)\n",
    "hdus = micado.readout()"
   ]
  },
  {
   "cell_type": "markdown",
   "id": "classical-ethiopia",
   "metadata": {},
   "source": [
    "It should be noted, the larger the detector size, the longer the simulation takes to run.\n",
    "Hence the option to simply shift the detector centre while keeping the detector size small.\n",
    "\n",
    "This option does however let us see the change in orientation of the PSF elongation around the on-axis position"
   ]
  },
  {
   "cell_type": "code",
   "execution_count": null,
   "id": "patient-thinking",
   "metadata": {},
   "outputs": [],
   "source": [
    "plt.figure(figsize=(20, 20))\n",
    "plt.subplot(121)\n",
    "im = hdus[0][1].data\n",
    "plt.imshow(im, origin=\"lower\", norm=LogNorm())"
   ]
  },
  {
   "cell_type": "markdown",
   "id": "quality-scroll",
   "metadata": {},
   "source": [
    "### Swap between a detector window and the full detector array\n",
    "\n",
    "**WARNING! It is ONLY recommended to run the full MICADO detector configuration is you have >8 GB of RAM**\n",
    "\n",
    "While the ``MICADO_Sci`` package only has a customisable detector window for simulated observations, the ``MICADO`` package contains a full description of the 9 detectors in the MICADO detector array.\n",
    "\n",
    "This requires simulating a ~13000x13000 pixel field, which understandable takes a lot of computer resources and takes on the **order of 10 minutes to run.**\n",
    "\n",
    "\n",
    "\n",
    "Ideally the user would write a script using the commands in this notebook and run that script in the background.\n",
    "\n",
    "That said, swapping to the full detector array is a simple matter of setting the ``.include`` parameter to ``True`` and ``False`` for the two Detector options provided in the ``MICADO`` package (see ``micado.effects`` table above)."
   ]
  },
  {
   "cell_type": "code",
   "execution_count": null,
   "id": "collectible-actress",
   "metadata": {},
   "outputs": [],
   "source": [
    "# micado[\"full_detector_array\"].include = True\n",
    "# micado[\"detector_window\"].include = False"
   ]
  },
  {
   "cell_type": "markdown",
   "id": "considered-institute",
   "metadata": {},
   "source": [
    "In this case, it is worth saving the final ``HDUList`` to disk as a multi-extension FITS file so the data are safe in case something happens to the Python session"
   ]
  },
  {
   "cell_type": "code",
   "execution_count": null,
   "id": "mounted-burns",
   "metadata": {},
   "outputs": [],
   "source": [
    "# micado.observe(cluster)\n",
    "# micado.readout(filename=\"micado_full_detector.fits\")"
   ]
  }
 ],
 "metadata": {
  "kernelspec": {
   "display_name": "Python 3",
   "language": "python",
   "name": "python3"
  },
  "language_info": {
   "codemirror_mode": {
    "name": "ipython",
    "version": 3
   },
   "file_extension": ".py",
   "mimetype": "text/x-python",
   "name": "python",
   "nbconvert_exporter": "python",
   "pygments_lexer": "ipython3",
   "version": "3.6.8"
  }
 },
 "nbformat": 4,
 "nbformat_minor": 5
}
