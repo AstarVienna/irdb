{
 "cells": [
  {
   "cell_type": "markdown",
   "id": "judicial-vietnam",
   "metadata": {},
   "source": [
    "# Basic spectroscopy mode observations with MICADO_Sci\n",
    "\n",
    "This notebook can be found in the [MICADO package on the IRDB Github repository](https://github.com/astronomyk/irdb/blob/master/MICADO/docs/static/)\n",
    "\n",
    "In this example we show how to use the basic spectroscopy mode provided with the ``MICADO_Sci`` package.\n",
    "The output of these spectroscopy simulations is a rectified image of the slit expanded along the wavelength axis.\n",
    "The x-axis is flux along the slit, the y-axis is wavelength.\n",
    "\n",
    "Because this is a reduced version (for the sake of speed) of the spectroscopic mode, several of the expected effects, like non-parallel atmospheric background lines are not included. There is also no functionality for turning the slit relative to the parallactic angle. This functionality is available in the pipeline-oriented ``MICADO`` package. The main aim of ``MICADO_Sci`` is to enable the user to quickly iterate on their science use case."
   ]
  },
  {
   "cell_type": "code",
   "execution_count": null,
   "id": "fifty-beginning",
   "metadata": {},
   "outputs": [],
   "source": [
    "import numpy as np\n",
    "import matplotlib.pyplot as plt\n",
    "from matplotlib.colors import LogNorm\n",
    "from astropy import units as u\n",
    "\n",
    "import scopesim as sim\n",
    "import scopesim_templates as sim_tp\n",
    "\n",
    "%matplotlib inline\n",
    "%config Completer.use_jedi = False"
   ]
  },
  {
   "cell_type": "markdown",
   "id": "anonymous-equilibrium",
   "metadata": {},
   "source": [
    "As always, we must make sure we have the 3 instrument packages needed for SCAO osbservations"
   ]
  },
  {
   "cell_type": "code",
   "execution_count": null,
   "id": "comfortable-poland",
   "metadata": {},
   "outputs": [],
   "source": [
    "sim.server.database.download_package([\"locations/Armazones.zip\",\n",
    "                                      \"telescopes/ELT.zip\",\n",
    "                                      \"instruments/MICADO.zip\",\n",
    "                                      \"instruments/MICADO_Sci.zip\"])"
   ]
  },
  {
   "cell_type": "markdown",
   "id": "atlantic-comparison",
   "metadata": {},
   "source": [
    "### Set up the Source \n",
    "\n",
    "For this basic example we will use the helper function ``spiral_two_component`` from the ``scopesim_templates.basic.galaxy`` submodule.\n",
    "This function creates a ``Source`` object with two intensity maps and two spectra. \n",
    "The two maps represent the distribution of the old (top) and new (bottom) stellar populations in the galaxy.\n",
    "The associated spectra are taken from the Brown et al (2014) galaxy spectra catalogue and are for an elliptical and a starburst galaxy.\n",
    "\n",
    "For the purpose of illustrating how the spectroscopy mode works, this approximation will be sufficient.\n",
    "\n",
    "Here we have selected to scale the galaxy images to 15 arcsec on a side and re-scale the spectra such that a pixel value of 1 corresponds to 15 magnitudes arcsec-2 in the AB system.\n",
    "\n",
    "As the centre of the galaxy is not exactly in the centre of the iamge, we need to shift the ``Source`` 0.12 arcsec downwards so that the slit catched the galactic bulge"
   ]
  },
  {
   "cell_type": "code",
   "execution_count": null,
   "id": "asian-cisco",
   "metadata": {},
   "outputs": [],
   "source": [
    "gal = sim_tp.basic.galaxy.spiral_two_component(extent=15*u.arcsec, fluxes=(15, 15)*u.ABmag)\n",
    "gal.shift(dy=-30*0.004)"
   ]
  },
  {
   "cell_type": "markdown",
   "id": "confused-finland",
   "metadata": {},
   "source": [
    "On the left we have the two intensity maps.\n",
    "On the right the spectrum associated with these maps.\n",
    "\n",
    "The vertical line shows were we will set the wavelength that we will centre the observation around"
   ]
  },
  {
   "cell_type": "code",
   "execution_count": null,
   "id": "polish-testimony",
   "metadata": {},
   "outputs": [],
   "source": [
    "wave = np.linspace(0.7, 2.2, 1001) * u.um\n",
    "\n",
    "plt.figure(figsize=(15,8))\n",
    "for i, c in zip([0, 1], \"rb\"):\n",
    "    plt.subplot(2,2,2*i+1)\n",
    "    plt.imshow(gal.fields[i].data, origin=\"lower\")\n",
    "    plt.subplot(2,2,2*i+2)\n",
    "    plt.plot(wave, gal.spectra[i](wave), c=c)\n",
    "    plt.axvline(0.96)"
   ]
  },
  {
   "cell_type": "markdown",
   "id": "outer-jersey",
   "metadata": {},
   "source": [
    "We can visualise approximately what portion of the galaxy that we want to come through the slit."
   ]
  },
  {
   "cell_type": "code",
   "execution_count": null,
   "id": "imperial-aquatic",
   "metadata": {},
   "outputs": [],
   "source": [
    "plt.figure(figsize=(15,3))\n",
    "plt.imshow(gal.fields[1].data[625:635, 400:800], origin=\"lower\")"
   ]
  },
  {
   "cell_type": "markdown",
   "id": "endangered-appearance",
   "metadata": {},
   "source": [
    "# Set up MICADO_Sci in SPEC mode\n",
    "\n",
    "Now we follow the standard proceedure to set up the ``MICADO_Sci`` optical system using a ``UserCommands`` object.\n",
    "Before we initialise the optical model, we need to set a few parameters.\n",
    "\n",
    "- ``!SIM.spectral.wave_mid``: [um] sets the wavelength that the simulation will be centred on. In our case we're interested in the feature at 0.96um.\n",
    "- ``!DET.height``: [pixel] in this context will given the number of spectral bins. As the spectral resolution changes with wavelength, it doesn't make sense to specify a desired wavelength region. Instead the user can choose more or fewer spectral bins on the detector. For the sake of speed we will restrict this simulation to 1000 spectral bins.\n",
    "- ``!OBS.filter_name``: we can't forget to set the correct filter, otherwise no photons will get through\n",
    "- ``!OBS.dit``: [s] the exposure time"
   ]
  },
  {
   "cell_type": "code",
   "execution_count": null,
   "id": "recognized-switch",
   "metadata": {},
   "outputs": [],
   "source": [
    "cmd = sim.UserCommands(use_instrument=\"MICADO_Sci\", set_modes=[\"SCAO\", \"SPEC\"])\n",
    "cmd[\"!SIM.spectral.wave_mid\"] = 0.96\n",
    "cmd[\"!DET.height\"] = 1000\n",
    "cmd[\"!OBS.filter_name\"] = \"Spec_IJ\"\n",
    "cmd[\"!OBS.dit\"] = 3600\n",
    "cmd[\"!INST.psf.strehl\"]= 0.2"
   ]
  },
  {
   "cell_type": "markdown",
   "id": "1bf0c48b",
   "metadata": {},
   "source": [
    "In the ``MICADO_Sci`` package the slit aperture size and position can be set freely. \n",
    "The default values correspond to the short-fat slit (3000x50mas) centred on the field of view apnning the x-axis."
   ]
  },
  {
   "cell_type": "code",
   "execution_count": null,
   "id": "0466008b",
   "metadata": {},
   "outputs": [],
   "source": [
    "cmd[\"!INST.aperture.x\"] = 0             # [arcsec]\n",
    "cmd[\"!INST.aperture.y\"] = 0\n",
    "cmd[\"!INST.aperture.width\"] = 3         # [arcsec]\n",
    "cmd[\"!INST.aperture.height\"] = 0.05    "
   ]
  },
  {
   "cell_type": "markdown",
   "id": "destroyed-outline",
   "metadata": {},
   "source": [
    "As always, the standard process for creating an optical model, observing, and reading out the detector window:"
   ]
  },
  {
   "cell_type": "code",
   "execution_count": null,
   "id": "reported-judge",
   "metadata": {},
   "outputs": [],
   "source": [
    "micado = sim.OpticalTrain(cmd)\n",
    "micado.observe(gal)\n",
    "hdus = micado.readout()"
   ]
  },
  {
   "cell_type": "markdown",
   "id": "driven-platform",
   "metadata": {},
   "source": [
    "The figure below shows the detector window readout in spectroscopy mode.\n",
    "It's clear that the spectrum from the new population dominates.\n",
    "It is now up to the user to decide which regions of the spectrum need to be extracted for analysis.\n",
    "Below we show a very rudimentary way to extract 1D spectra from the image."
   ]
  },
  {
   "cell_type": "code",
   "execution_count": null,
   "id": "molecular-grill",
   "metadata": {},
   "outputs": [],
   "source": [
    "plt.figure(figsize=(15,15))\n",
    "plt.imshow(hdus[0][1].data)\n",
    "plt.colorbar()\n",
    "plt.ylabel(\"Wavelength\")\n",
    "plt.xlabel(\"Slit position\")"
   ]
  },
  {
   "cell_type": "markdown",
   "id": "public-driver",
   "metadata": {},
   "source": [
    "The above image doesn't tell us anything about the wavelength range we're covering, just as the raw MICADO detector readouts will not tell us anything about the observed spectrum. \n",
    "\n",
    "We can however extract the wavelength calibration from the MICADO ``OpticalTrain`` object by looking at how many spectral slices (FOV objects) were generated. This requires a bit Python Kung-Fu. Rest assured that this will be easier in later releases of ScopeSim."
   ]
  },
  {
   "cell_type": "code",
   "execution_count": null,
   "id": "junior-density",
   "metadata": {},
   "outputs": [],
   "source": [
    "waves = [fov.wavelength.value for fov in micado.fov_manager._fovs_list]\n",
    "flux = hdus[0][1].data[10:, 400:410].sum(axis=1)\n",
    "\n",
    "plt.figure(figsize=(15, 5))\n",
    "plt.plot(waves[9:], flux)"
   ]
  }
 ],
 "metadata": {
  "kernelspec": {
   "display_name": "Python 3",
   "language": "python",
   "name": "python3"
  },
  "language_info": {
   "codemirror_mode": {
    "name": "ipython",
    "version": 3
   },
   "file_extension": ".py",
   "mimetype": "text/x-python",
   "name": "python",
   "nbconvert_exporter": "python",
   "pygments_lexer": "ipython3",
   "version": "3.6.8"
  }
 },
 "nbformat": 4,
 "nbformat_minor": 5
}
