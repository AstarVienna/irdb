{
 "cells": [
  {
   "cell_type": "markdown",
   "id": "finished-truck",
   "metadata": {},
   "source": [
    "# Full MICADO focal plane spectroscopic trace simulations\n",
    "\n",
    "This notebook can be found in the [MICADO package on the IRDB Github repository](https://github.com/astronomyk/irdb/blob/master/MICADO/docs/static/)\n",
    "\n",
    "This example is a biggun'. And it will take **upwards of half an hour** to compute depending on your hardware.\n",
    "What we are doing here is using ScopeSim to project the full spectroscopic trace pattern of two point sources (a binary star system) after they have passed through the full optical system (atmosphere --> detector) onto the MICADO detector array.\n",
    "\n",
    "This type of simulation is directed towards the team developing the data reduction pipeline. \n",
    "That said, there may be other users who would like to have a full readout of the MICADO detectors in this configuration.\n",
    "It should be noted that ScopeSim **does not** provide any kind of reduction functionality. \n",
    "It is therefore up to the user to reduce and analyse their own spectra derived from these simulations.\n",
    "A more user-friendly spectroscopy option is provided with the ``MICADO_Sci`` package (see the previous example notebook)"
   ]
  },
  {
   "cell_type": "code",
   "execution_count": null,
   "id": "gentle-wheel",
   "metadata": {},
   "outputs": [],
   "source": [
    "import numpy as np\n",
    "import matplotlib.pyplot as plt\n",
    "from matplotlib.colors import LogNorm\n",
    "from astropy import units as u\n",
    "\n",
    "import scopesim as sim\n",
    "import scopesim_templates as sim_tp\n",
    "\n",
    "%matplotlib inline\n",
    "%config Completer.use_jedi = False"
   ]
  },
  {
   "cell_type": "markdown",
   "id": "local-chemical",
   "metadata": {},
   "source": [
    "The normal setup. This time using the ``MICADO`` package instead of the ``MICADO_Sci`` package."
   ]
  },
  {
   "cell_type": "code",
   "execution_count": null,
   "id": "amateur-auditor",
   "metadata": {},
   "outputs": [],
   "source": [
    "sim.server.database.download_package([\"locations/Armazones.zip\",\n",
    "                                      \"telescopes/ELT.zip\",\n",
    "                                      \"instruments/MICADO.zip\"])"
   ]
  },
  {
   "cell_type": "markdown",
   "id": "unique-woman",
   "metadata": {},
   "source": [
    "### Set up source\n",
    "\n",
    "A simple object, the binary star system, can be created with the ``stars`` function in the ``scopesim_templates.basic.stars`` submodule. \n",
    "Our binary system consists of two stars with similar spectral types seperated by 200 mas. \n",
    "Each star is located 0.1 arcsec either side of the centre of the field of view.\n",
    "The stars are both 18 ABmags in the Ks filter.\n",
    "\n",
    "We redshift one of stars to induce a shift in the spectrum, that we will hopefully recover from the final simulated image.\n",
    "This is visible in the right plot below."
   ]
  },
  {
   "cell_type": "code",
   "execution_count": null,
   "id": "loving-nicholas",
   "metadata": {},
   "outputs": [],
   "source": [
    "stars = sim_tp.basic.stars.stars(filter_name=\"Ks\", amplitudes=[18,18]*u.ABmag, \n",
    "                                 spec_types=[\"A0V\", \"A1V\"], x=[-0.1, 0.1], y=[0, 0])\n",
    "stars.spectra[1].z = 0.01"
   ]
  },
  {
   "cell_type": "code",
   "execution_count": null,
   "id": "hungarian-outdoors",
   "metadata": {},
   "outputs": [],
   "source": [
    "plt.figure(figsize=(15,5))\n",
    "wave = np.linspace(1.9, 2.4, 1001) * u.um\n",
    "for i, c in zip([0, 1], \"br\"):\n",
    "    plt.subplot(121)\n",
    "    plt.scatter(stars.fields[0][\"x\"][i], stars.fields[0][\"y\"][i], c=c)\n",
    "    plt.subplot(122)\n",
    "    plt.plot(wave, stars.spectra[i](wave), c=c)"
   ]
  },
  {
   "cell_type": "markdown",
   "id": "annoying-domain",
   "metadata": {},
   "source": [
    "### Set up MICADO in SPEC mode, 3 arcsec slit and HK filter\n",
    "\n",
    "There are three spectroscopy modes available in the ``MICADO`` package, each uses a different slit:\n",
    "\n",
    "- ``SPEC_3000x20``: Short and narrow, with a 20mas slit that is 3 arcsec long\n",
    "- ``SPEC_3000x50``: Short and fat, with a 50mas slit that is 3 arcsec long\n",
    "- ``SPEC_15000x50``: Long and fat, with a 50mas slit that is 15 arcsec long\n",
    "\n",
    "For the sake of this example we will use the short and fat slit, or 3 arcsec by 50 mas.\n",
    "\n",
    "The default filter in the spectroscopy modes is the ``Spec_HK`` filter. The other spectroscopy specific filter is names ``Spec_IJ``. It is however possible to use any other filter in any of the three wheels. Different filters can be selected using the bang-string keywords: ``\"!OBS.filter_name_fw1\"`` for filter wheel 1, ``\"!OBS.filter_name_fw2\"`` for filter wheel 2, and ``\"!OBS.filter_name_pupil\"`` for the pupil wheel. "
   ]
  },
  {
   "cell_type": "code",
   "execution_count": null,
   "id": "lasting-bronze",
   "metadata": {},
   "outputs": [],
   "source": [
    "cmd = sim.UserCommands(use_instrument=\"MICADO\", set_modes=[\"SCAO\", \"SPEC_3000x50\"])\n",
    "cmd[\"!OBS.filter_name_fw1\"] = \"Spec_HK\"\n",
    "cmd[\"!OBS.filter_name_fw2\"] = \"blank\"\n",
    "cmd[\"!OBS.filter_name_pupil\"] = \"blank\"\n",
    "\n",
    "cmd[\"!OBS.dit\"] = 600     # [s]"
   ]
  },
  {
   "cell_type": "markdown",
   "id": "internal-player",
   "metadata": {},
   "source": [
    "Unfortunately the only way to see which filters are available is to either look in the instrument package folder in the working directory, or by initialising the ``OpticalTrain`` object and then looking at the contents of each filter wheel. This is done with the following command:\n",
    "```\n",
    "micado[\"filter_wheel_1\"].data[\"names\"]\n",
    "```\n",
    "for each of ``filter_wheel_1``, ``filter_wheel_2``, and ``pupil_wheel``.\n",
    "\n",
    "Once we've set which filter we want to use, we can generate the optical model of MICADO.\n",
    "\n",
    "The purpose of this example is to show the trace pattern of MICADO's long slit spectrograph on the focal plane. \n",
    "We therefore need to turn off the detector window and turn on the full detector array.\n",
    "This is done be setting the ``include`` property of the relevant ``Effect`` objects to ``True`` or ``False``.\n",
    "\n",
    "To find the name of any ``Effect`` in the optical model, call:\n",
    "```\n",
    "micado.effects\n",
    "```"
   ]
  },
  {
   "cell_type": "code",
   "execution_count": null,
   "id": "sophisticated-resistance",
   "metadata": {},
   "outputs": [],
   "source": [
    "micado = sim.OpticalTrain(cmd)\n",
    "\n",
    "micado[\"full_detector_array\"].include = True\n",
    "micado[\"detector_window\"].include = False"
   ]
  },
  {
   "cell_type": "markdown",
   "id": "hispanic-norman",
   "metadata": {},
   "source": [
    "Finally we are set and can simulate the observation of out binary star system\n",
    "\n",
    "**WARNING: over 25000 spectral slices must be created and observed to run this simulation.** Please expect this to take on the order of 30 minutes to complete (hardware dependent). The best strategy would be to create a script with the commands from this notebook and execute it in the background. Also, save as much of the simulation to disk as possible to avoid wasting execution time."
   ]
  },
  {
   "cell_type": "code",
   "execution_count": null,
   "id": "integral-license",
   "metadata": {},
   "outputs": [],
   "source": [
    "micado.observe(stars)"
   ]
  },
  {
   "cell_type": "markdown",
   "id": "exterior-election",
   "metadata": {},
   "source": [
    "We can check that the ``observe`` command ran successfully by looking inside the ``MICADO`` optical model.\n",
    "The resulting normalised flux map in units of ph s-1 pixel-1 can be found in the first entry of the ``image_planes`` attribute of the optical model, in the form of a ``fits.HDUList`` object.\n",
    "If the size of the data image is ~12000x12000, then the simulation has been run successfully.\n",
    "\n",
    "**Note:** this image is the \"perfect\" image of the source. It contains all contaminating flux (atmosphere, telescope greybody emission, etc) but has not had the poisson noise effects and detector read noise effects applied to it.\n",
    "It is still however useful to keep this image as a sanity check - i.e. that the expected flux levels are indeed seen at the detector plane.\n",
    "\n",
    "We can save this intermediate image using the standard ``fits.HDUList`` functionality, i.e. the ``writeto`` method:"
   ]
  },
  {
   "cell_type": "code",
   "execution_count": null,
   "id": "broadband-compilation",
   "metadata": {},
   "outputs": [],
   "source": [
    "print(micado.image_planes[0].data.shape)\n",
    "micado.image_planes[0].hdu.writeto(\"micado_spec_focal_plane_flux_map.fits\", overwrite=True)"
   ]
  },
  {
   "cell_type": "code",
   "execution_count": null,
   "id": "capital-appliance",
   "metadata": {},
   "outputs": [],
   "source": [
    "im = micado.image_planes[0].data\n",
    "im[im<1e-7] = 1e-7\n",
    "\n",
    "plt.figure(figsize=(15, 15))\n",
    "plt.imshow(im, origin=\"lower\", norm=LogNorm())"
   ]
  },
  {
   "cell_type": "markdown",
   "id": "personal-poland",
   "metadata": {},
   "source": [
    "The above image shows the flux distribution of the three spectral traces for the ``Spec_HK`` filter over the full focal plane of MICADO.\n",
    "To convert these into individual detector read out frames, we still need to call ``micado.readout``.\n",
    "The final output file will be a FITS file containing 10 ``HDU``s.\n",
    "The Primary HDU (index 0) contains meta data about the simulation.\n",
    "HDUs 1-9 contain the raw images from each detector in the MICADO detector array, including all known detector characterists (RON, ACN, Dark current, linearity effects, dead pixels, etc)\n",
    "\n",
    "Don't forget to save the output image to disk."
   ]
  },
  {
   "cell_type": "code",
   "execution_count": null,
   "id": "pleasant-shanghai",
   "metadata": {},
   "outputs": [],
   "source": [
    "hdus = micado.readout(filename=\"micado_spec_detector_readout.fits\", overwrite=True)"
   ]
  },
  {
   "cell_type": "markdown",
   "id": "handled-anniversary",
   "metadata": {},
   "source": [
    "Becasue the MICADO detector array numbering scheme does not follow the matplotlib LRTB scheme, we cannot simply plot all the detector images in a standard ``for`` loop.\n",
    "\n",
    "We can visualise the detector numbering scheme by calling the ``plot`` function of the ``full_detector_array`` ``Effect`` object:"
   ]
  },
  {
   "cell_type": "code",
   "execution_count": null,
   "id": "hispanic-album",
   "metadata": {},
   "outputs": [],
   "source": [
    "micado[\"full_detector_array\"].plot()\n",
    "plt.show()"
   ]
  },
  {
   "cell_type": "markdown",
   "id": "blond-colony",
   "metadata": {},
   "source": [
    "Below we have the raw output images from the 9 MICADO detectors. Note the slight shift in the 6th detector.\n",
    "The right 3 detectors recieve no flux projected through the slit when the Spec_HK filter is used.\n",
    "The patterns visible on these detectors are due to the noise characteristics.\n",
    "They are identical because ScopeSim resets the numpy random seed for each operation. \n",
    "This reset operation could be turned off (``micado.cmds[!\"SIM.random.seed\"] = None``) in order to get more realistic noise proerties.\n"
   ]
  },
  {
   "cell_type": "code",
   "execution_count": null,
   "id": "familiar-camera",
   "metadata": {},
   "outputs": [],
   "source": [
    "plt.figure(figsize=(20, 20))\n",
    "for hdu_i, plot_i in zip([1,2,3,6,5,4,7,8,9], range(1, 10)):\n",
    "    plt.subplot(3,3,plot_i)\n",
    "    plt.imshow(hdus[0][hdu_i].data, origin=\"lower\", norm=LogNorm())   "
   ]
  }
 ],
 "metadata": {
  "kernelspec": {
   "display_name": "Python 3",
   "language": "python",
   "name": "python3"
  },
  "language_info": {
   "codemirror_mode": {
    "name": "ipython",
    "version": 3
   },
   "file_extension": ".py",
   "mimetype": "text/x-python",
   "name": "python",
   "nbconvert_exporter": "python",
   "pygments_lexer": "ipython3",
   "version": "3.6.8"
  }
 },
 "nbformat": 4,
 "nbformat_minor": 5
}
