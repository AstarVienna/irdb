{
 "cells": [
  {
   "cell_type": "markdown",
   "id": "revised-fountain",
   "metadata": {},
   "source": [
    "# Basic usage of the MICADO spectroscopy mode in ScopeSim\n",
    "\n",
    "<h1 id=\"tocheading\">Table of Contents</h1>\n",
    "<div id=\"toc\"><br></div>"
   ]
  },
  {
   "cell_type": "code",
   "execution_count": null,
   "id": "civilian-isolation",
   "metadata": {},
   "outputs": [],
   "source": [
    "%%javascript\n",
    "$.getScript('https://kmahelona.github.io/ipython_notebook_goodies/ipython_notebook_toc.js')"
   ]
  },
  {
   "cell_type": "markdown",
   "id": "transparent-ecuador",
   "metadata": {},
   "source": [
    "## Set up ScopeSim and MICADO\n",
    "\n",
    "The following ``import`` statements are needed to run ScopeSim.\n",
    "\n",
    "The ``pkgs_path`` value can be changed to point to the folder where you are keeping the instrument packages. If you are using the default settings, then ScopeSim will download these packages to your working directory (where this notebook is) and move them into the ``inst_pkgs/`` subdirectory."
   ]
  },
  {
   "cell_type": "code",
   "execution_count": null,
   "id": "revised-flower",
   "metadata": {},
   "outputs": [],
   "source": [
    "import os\n",
    "import numpy as np\n",
    "import matplotlib.pyplot as plt\n",
    "from matplotlib.colors import LogNorm\n",
    "from astropy import units as u\n",
    "\n",
    "import scopesim as sim\n",
    "from scopesim.source import source_templates as src_tp\n",
    "import scopesim_templates as sim_tp\n",
    "%matplotlib inline\n",
    "\n",
    "# sim.rc.__config__[\"!SIM.file.local_packages_path\"] = \"inst_simulations/inst_pkgs\""
   ]
  },
  {
   "cell_type": "markdown",
   "id": "loaded-crowd",
   "metadata": {},
   "source": [
    "If you have not done so already, please download the relevant instrument packages using the following code in a new cell:\n",
    "\n",
    "    sim.download_packages([\"Armazones\", \"ELT\", \"MORFEO\", \"MICADO\"])\n",
    "    \n",
    "Alternatively, if we would like to keep the instrument packages in a separate directory, we can set the following config value:\n",
    "\n",
    "    sim.rc.__config__[\"!SIM.file.local_packages_path\"] = \"path/to/packages\"\n"
   ]
  },
  {
   "cell_type": "markdown",
   "id": "diverse-aspect",
   "metadata": {},
   "source": [
    "## Basic on-sky source to observe\n",
    "\n",
    "Some basic on-sky source examples to pick from. Note, that sources can be added together with the `+` operator."
   ]
  },
  {
   "cell_type": "code",
   "execution_count": null,
   "id": "reverse-effectiveness",
   "metadata": {},
   "outputs": [],
   "source": [
    "# src = sim_tp.empty_sky()\n",
    "src = sim_tp.star(\"K\", 10)\n",
    "# src = src_tp.uniform_source(extent=60)\n",
    "# src = src + src_tp.uniform_illumination(xs=[-8, 8], ys=[-0.03, 0.03], pixel_scale=0.004, flux=10*u.mag)\n",
    "# src = sim_tp.extragalactic.galaxies.spiral_two_component(extent=16*u.arcsec, fluxes=(15, 15)*u.mag)"
   ]
  },
  {
   "cell_type": "markdown",
   "id": "tracked-petite",
   "metadata": {},
   "source": [
    "## Part 1: Set up MICADO for spectroscopy with a 3000x48 slit and the Spec_IJ filter\n",
    "\n",
    "We start off by importing all the configuration data with ``UserCommands``. \n",
    "Here we also specify which modes are to be used. \n",
    "To start with, we will use the 15 arcsec slit in the ``Spec_IJ`` filter.\n",
    "\n",
    "The ``set_modes`` parameter takes a list of two mode keywords: ``[<AO mode>, <slit>]``. \n",
    "- AO modes affect total system transmisison and which PSF file is used.\n",
    "  - Possible values are ``SCAO``, ``MCAO``\n",
    "- The slit modes difine the slit dimensions (and add the grating losses to the total transmission).\n",
    "  The mode name reflects the dimensions of the slit in  [mas]:\n",
    "  - Possible values are ``SPEC_3000x16``, ``SPEC_3000x48``, ``SPEC_15000x20``\n",
    "\n",
    "Some possible combinations would be:\n",
    "\n",
    "    set_modes=[\"SCAO\", \"SPEC_3000x16\"]\n",
    "    set_modes=[\"MCAO\", \"SPEC_3000x48\"]\n",
    "    set_modes=[\"SCAO\", \"SPEC_15000x20\"]\n",
    "\n",
    "Possible combinations of filter and slit are:\n",
    "\n",
    "    Spec_IJ, SPEC_3000x48\n",
    "    Spec_IJ, SPEC_3000x16\n",
    "    Spec_J, SPEC_15000x20\n",
    "    Spec_HK, SPEC_3000x48\n",
    "    Spec_HK, SPEC_1500020\n"
   ]
  },
  {
   "cell_type": "markdown",
   "id": "84915a7e",
   "metadata": {},
   "source": [
    "The filter is set by default to the ``Spec_HK`` filter, located in filter wheel 1.\n",
    "\n",
    "To change the filter, set it to the ``\"Spec_IJ\"`` or ``\"J\"`` filter by useing the setting: ``cmd[\"!OBS.filter_name_fw1\"] = \"Spec_IJ\"``"
   ]
  },
  {
   "cell_type": "code",
   "execution_count": null,
   "id": "570c5068",
   "metadata": {},
   "outputs": [],
   "source": [
    "AO_MODE = \"SCAO\"\n",
    "SLIT = \"SPEC_3000x48\"\n",
    "FILT = \"Spec_IJ\"\n",
    "\n",
    "cmd = sim.UserCommands(use_instrument=\"MICADO\", set_modes=[AO_MODE, SLIT])\n",
    "\n",
    "# we can swap to imaging mode just to check what the field looks like\n",
    "# cmd = sim.UserCommands(use_instrument=\"MICADO\", set_modes=[\"SCAO\", \"IMG_4mas\"])\n",
    "\n",
    "cmd[\"!OBS.filter_name_fw1\"] = FILT\n",
    "cmd[\"!OBS.filter_name_fw2\"] = \"open\"\n"
   ]
  },
  {
   "cell_type": "markdown",
   "id": "f309f4da",
   "metadata": {},
   "source": [
    "Select an appropriate spectral resolution based on filter and slit width"
   ]
  },
  {
   "cell_type": "code",
   "execution_count": null,
   "id": "50423631",
   "metadata": {},
   "outputs": [],
   "source": [
    "min_wavelen = {\n",
    "    \"Spec_IJ\": 0.82,\n",
    "    \"Spec_HK\": 1.49, \n",
    "    \"J\": 1.16,\n",
    "    } # in microns\n",
    "\n",
    "R = {\n",
    "    \"SPEC_3000x16\": 10000,\n",
    "    \"SPEC_3000x48\": 3300,\n",
    "    \"SPEC_15000x20\": 8000,\n",
    "}\n",
    "\n",
    "def spec_res(slit, filter):\n",
    "    return min_wavelen[filter] / R[slit]"
   ]
  },
  {
   "cell_type": "markdown",
   "id": "a8910613",
   "metadata": {},
   "source": [
    "This notebook runs for a long time and requires more than 30 GB of RAM. It is possible to speed up the computation and reduce the memory consumption (at the cost of lower accuracy) by specifying the spectral bin width and disabling PSF interpolation. Uncomment the relevant lines below if you prefer a faster but less accurate simulation:"
   ]
  },
  {
   "cell_type": "code",
   "execution_count": null,
   "id": "9212f0dd",
   "metadata": {},
   "outputs": [],
   "source": [
    "cmd[\"!SIM.spectral.spectral_bin_width\"] = spec_res(SLIT, FILT)\n",
    "\n",
    "# settings to speed up the simulation\n",
    "# cmd[\"!SIM.spectral.spectral_bin_width\"] = 5e-4\n",
    "cmd[\"!OBS.interp_psf\"] = False\n",
    "\n",
    "print(f\"Spectral bin width set to {cmd['!SIM.spectral.spectral_bin_width']:.2e} microns\")\n",
    "\n",
    "# If not usign the full detector (see below), set the size of the window to simulate\n",
    "cmd[\"!DET.width\"] = 4096\n",
    "cmd[\"!DET.height\"] = 4096\n",
    "\n",
    "# change the psf file if needed (e.g. for a larger extent version)\n",
    "# cmd[\"!RO.psf_file\"] = \"inst_simulations/inst_pkgs/MICADO/SCAO_ConstPSF_5off_1024.fits\""
   ]
  },
  {
   "cell_type": "code",
   "execution_count": null,
   "id": "conditional-secretariat",
   "metadata": {},
   "outputs": [],
   "source": [
    "micado = sim.OpticalTrain(cmd)"
   ]
  },
  {
   "cell_type": "markdown",
   "id": "novel-beads",
   "metadata": {},
   "source": [
    "For testing purposes it maybe useful to only simulate a certain sub-window on the focal plane. \n",
    "\n",
    "If we want to simulate the full detector array, we need to exclude the ``detector_window`` effect, and include the ``full_detector_array`` effect. \n",
    "\n",
    "Naturally the execution time is dependent on whether we want to simulate only a small fraction of the focal plane, or the full thing."
   ]
  },
  {
   "cell_type": "code",
   "execution_count": null,
   "id": "developing-humor",
   "metadata": {},
   "outputs": [],
   "source": [
    "USE_FULL_DETECTOR = False\n",
    "micado[\"full_detector_array\"].include = USE_FULL_DETECTOR\n",
    "micado[\"detector_window\"].include = not USE_FULL_DETECTOR"
   ]
  },
  {
   "cell_type": "markdown",
   "id": "presidential-clause",
   "metadata": {},
   "source": [
    "To check which instrument configuration is currently used, we can print the table of effects with ``micado.effects``"
   ]
  },
  {
   "cell_type": "code",
   "execution_count": null,
   "id": "chief-apparel",
   "metadata": {},
   "outputs": [],
   "source": [
    "micado.effects.pprint_all()"
   ]
  },
  {
   "cell_type": "markdown",
   "id": "stock-filling",
   "metadata": {},
   "source": [
    "## Observe the on-sky source\n",
    "\n",
    "Running the simulation involves first ``observe()``ing the object, then ``readout()``ing the detectors.\n",
    "\n",
    "    micado.observe(src)\n",
    "    micado.readout()\n",
    "    \n",
    "``observe()`` does not produce any output, although it is possible to access (and save) the intermediate focal plane image.\n",
    "\n",
    "``readout()`` returns a list of ``fits.HDUList`` object to the ipython session. \n",
    "\n",
    "By providing the ``filename`` keyword, the result can also be saved to disk: ``micado.readout(filename=\"spec_temp.fits\")``"
   ]
  },
  {
   "cell_type": "code",
   "execution_count": null,
   "id": "olive-chest",
   "metadata": {},
   "outputs": [],
   "source": [
    "# Warning, this takes about 1 minute per detector to complete\n",
    "# (with PSF interpolation turned off)\n",
    "micado.observe(src)"
   ]
  },
  {
   "cell_type": "markdown",
   "id": "primary-corpus",
   "metadata": {},
   "source": [
    "### Checking the intermediate output\n",
    "\n",
    "We can check the intermediate (noise-less) focal plane image by looking at the ``micado.image_planes[0]`` ``ImageHDU`` object:"
   ]
  },
  {
   "cell_type": "code",
   "execution_count": null,
   "id": "excessive-monitor",
   "metadata": {},
   "outputs": [],
   "source": [
    "plt.figure(figsize=(15,15))\n",
    "plt.imshow(micado.image_planes[0].data, norm=LogNorm(), origin=\"lower\")\n",
    "plt.colorbar()"
   ]
  },
  {
   "cell_type": "markdown",
   "id": "aquatic-vienna",
   "metadata": {},
   "source": [
    "### Performing the detector readout\n",
    "\n"
   ]
  },
  {
   "cell_type": "markdown",
   "id": "52fb5721",
   "metadata": {},
   "source": [
    "Change ``dit`` and ``ndit`` to whatever we want the exposure time to be:"
   ]
  },
  {
   "cell_type": "code",
   "execution_count": null,
   "id": "introductory-reputation",
   "metadata": {},
   "outputs": [],
   "source": [
    "hdul = micado.readout(dit=60, ndit=1)"
   ]
  },
  {
   "cell_type": "markdown",
   "id": "random-sponsorship",
   "metadata": {},
   "source": [
    "### Checking the final output\n",
    "\n",
    "Now we plot the noisy detector readouts"
   ]
  },
  {
   "cell_type": "code",
   "execution_count": null,
   "id": "classified-turkey",
   "metadata": {},
   "outputs": [],
   "source": [
    "# detector layout definition in the form subplot index: hdu index\n",
    "hdu_layout = {\n",
    "    1: 1,\n",
    "    2: 2,\n",
    "    3: 3,\n",
    "    4: 6,\n",
    "    5: 5,\n",
    "    6: 4,\n",
    "    7: 7,\n",
    "    8: 8,\n",
    "    9: 9,\n",
    "}\n",
    "\n",
    "plt.figure(figsize=(15,15))\n",
    "if USE_FULL_DETECTOR:\n",
    "    for i in range(1,10):\n",
    "        plt.subplot(3,3,i)\n",
    "        plt.imshow(hdul[0][hdu_layout[i]].data, norm=LogNorm(), origin=\"lower\")\n",
    "else:\n",
    "    plt.imshow(hdul[0][1].data, norm=LogNorm(), origin=\"lower\")\n",
    "    plt.colorbar()"
   ]
  },
  {
   "cell_type": "markdown",
   "id": "visible-brake",
   "metadata": {},
   "source": [
    "## Part 2: Observe the on-sky source with a 15000x20 slit in the Spec_HK filter\n",
    "\n",
    "To change modes, we need to create a new model of MICADO.\n",
    "\n",
    "The filter is set by default to the ``Spec_HK`` filter, located in filter wheel 1."
   ]
  },
  {
   "cell_type": "code",
   "execution_count": null,
   "id": "fifth-consequence",
   "metadata": {},
   "outputs": [],
   "source": [
    "FILT = \"Spec_HK\"\n",
    "SLIT = \"SPEC_15000x20\"\n",
    "\n",
    "cmd = sim.UserCommands(use_instrument=\"MICADO\", set_modes=[\"SCAO\", SLIT])\n",
    "cmd[\"!OBS.filter_name_fw1\"] = FILT\n",
    "cmd[\"!OBS.filter_name_fw2\"] = \"open\"\n",
    "\n",
    "cmd[\"!SIM.spectral.spectral_bin_width\"] = spec_res(SLIT, FILT)\n",
    "\n",
    "# un-comment the following lines to speed up the simulation at the cost of accuracy\n",
    "# cmd[\"!SIM.spectral.spectral_bin_width\"] = spec_res(SLIT, FILT)\n",
    "cmd[\"!OBS.interp_psf\"] = False\n",
    "\n",
    "# If not usign the full detector (see below), set the size of the window to simulate\n",
    "cmd[\"!DET.width\"] = 4096\n",
    "cmd[\"!DET.height\"] = 4096\n",
    "\n",
    "# change the psf file if needed (e.g. for a larger extent version)\n",
    "# cmd[\"!RO.psf_file\"] = \"inst_simulations/inst_pkgs/MICADO/SCAO_ConstPSF_5off_1024.fits\"\n",
    "\n",
    "micado = sim.OpticalTrain(cmd)\n",
    "\n",
    "USE_FULL_DETECTOR = False\n",
    "micado[\"full_detector_array\"].include = USE_FULL_DETECTOR\n",
    "micado[\"detector_window\"].include = not USE_FULL_DETECTOR"
   ]
  },
  {
   "cell_type": "code",
   "execution_count": null,
   "id": "guilty-ensemble",
   "metadata": {},
   "outputs": [],
   "source": [
    "# Warning, simulating the long slit takes about 5 minutes per detector to complete\n",
    "# (with psf interpolation turned off)\n",
    "micado.observe(src)"
   ]
  },
  {
   "cell_type": "markdown",
   "id": "assured-compatibility",
   "metadata": {},
   "source": [
    "### Checking the intermediate output\n",
    "\n",
    "We can check the intermediate (noise-less) focal plane image by looking at the ``micado.image_planes[0]`` ``ImageHDU`` object:"
   ]
  },
  {
   "cell_type": "code",
   "execution_count": null,
   "id": "nervous-ridge",
   "metadata": {},
   "outputs": [],
   "source": [
    "plt.figure(figsize=(15,15))\n",
    "plt.imshow(micado.image_planes[0].data, norm=LogNorm(), origin=\"lower\")"
   ]
  },
  {
   "cell_type": "markdown",
   "id": "71e605d5",
   "metadata": {},
   "source": [
    "### Performing the readout"
   ]
  },
  {
   "cell_type": "code",
   "execution_count": null,
   "id": "contemporary-contents",
   "metadata": {},
   "outputs": [],
   "source": [
    "hdul = micado.readout(dit=60, ndit=10)"
   ]
  },
  {
   "cell_type": "markdown",
   "id": "superior-water",
   "metadata": {},
   "source": [
    "### Checking the final output\n",
    "\n",
    "Now we plot the noisy detector readouts"
   ]
  },
  {
   "cell_type": "code",
   "execution_count": null,
   "id": "extensive-paper",
   "metadata": {},
   "outputs": [],
   "source": [
    "plt.figure(figsize=(15,15))\n",
    "if USE_FULL_DETECTOR:\n",
    "    for i in range(1,10):\n",
    "        plt.subplot(3,3,i)\n",
    "\n",
    "        im = hdul[0][hdu_layout[i]].data\n",
    "        plt.imshow(im, norm=LogNorm(vmin=0.99*np.median(im), vmax=1.1*np.median(im)), origin=\"lower\")\n",
    "else:\n",
    "    im = hdul[0][1].data\n",
    "    plt.imshow(im, norm=LogNorm(vmin=0.99*np.median(im), vmax=1.1*np.median(im)), origin=\"lower\")"
   ]
  },
  {
   "cell_type": "markdown",
   "id": "forbidden-nursery",
   "metadata": {},
   "source": [
    "## Saving to disk\n",
    "\n",
    "All the returned objects are from the ``astropy.io.fits`` library, and can therefore be saved to disk in the usual manner:"
   ]
  },
  {
   "cell_type": "code",
   "execution_count": null,
   "id": "excellent-editing",
   "metadata": {},
   "outputs": [],
   "source": [
    "# micado.image_planes[0].hdu.writeto(\"intermediate_data.fits\", overwrite=True)\n",
    "# hdul[0].writeto(\"detector_readout_data.fits\", overwrite=True)"
   ]
  }
 ],
 "metadata": {
  "kernelspec": {
   "display_name": "scopesim_dev",
   "language": "python",
   "name": "python3"
  },
  "language_info": {
   "codemirror_mode": {
    "name": "ipython",
    "version": 3
   },
   "file_extension": ".py",
   "mimetype": "text/x-python",
   "name": "python",
   "nbconvert_exporter": "python",
   "pygments_lexer": "ipython3",
   "version": "3.12.4"
  }
 },
 "nbformat": 4,
 "nbformat_minor": 5
}
