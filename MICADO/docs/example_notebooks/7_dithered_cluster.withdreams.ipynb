{
 "cells": [
  {
   "cell_type": "code",
   "execution_count": 1,
   "id": "f768a8f1",
   "metadata": {},
   "outputs": [],
   "source": [
    "%matplotlib inline\n",
    "from matplotlib import pyplot as plt\n",
    "from matplotlib.colors import LogNorm\n",
    "import datetime\n",
    "from astropy import units as u\n",
    "import scopesim as sim\n",
    "import scopesim_templates as sim_tp\n",
    "import astropy.units as u\n",
    "from scopesim.effects.ter_curves import FilterCurve"
   ]
  },
  {
   "cell_type": "code",
   "execution_count": 2,
   "id": "ffbdc64d",
   "metadata": {},
   "outputs": [
    {
     "name": "stdout",
     "output_type": "stream",
     "text": [
      "\u001b[32mimf - sample_imf: Setting maximum allowed mass to 10000\u001b[0m\n",
      "\u001b[32mimf - sample_imf: Loop 0 added 1.01e+04 Msun to previous total of 0.00e+00 Msun\u001b[0m\n"
     ]
    }
   ],
   "source": [
    "src = sim_tp.stellar.clusters.cluster(mass=10000, distance=2000, core_radius=5.0)"
   ]
  },
  {
   "cell_type": "code",
   "execution_count": 3,
   "id": "a01348fc-1bc6-46fe-99bb-7410da236c5c",
   "metadata": {},
   "outputs": [],
   "source": [
    "cmd = sim.UserCommands(\n",
    "    use_instrument=\"MICADO\",\n",
    "    set_modes=[\"IMG_4mas\", \"SCAO\"],\n",
    ")\n",
    "cmd.update(properties={\n",
    "    \"!OBS.filter_name\": \"J_DREAMS\",\n",
    "    \"!OBS.ndit\": 1, \n",
    "    \"!OBS.dit\": 3600,\n",
    "\n",
    "    \"!OBS.catg\": \"SCIENCE\",\n",
    "    \"!OBS.tech\": \"IMAGE\",\n",
    "    \"!OBS.type\": \"OBJECT\",\n",
    "    \"!OBS.mjdobs\": datetime.datetime(2022, 1, 1, 2, 30, 0),\n",
    "\n",
    "    \"!DET.bin_size\": 1,\n",
    "\n",
    "    # \"!INST.filter_file_format\": \"filters/{}.dat\",\n",
    "})\n",
    "micado = sim.OpticalTrain(cmd)\n",
    "    "
   ]
  },
  {
   "cell_type": "code",
   "execution_count": 4,
   "id": "1e940012-584a-442b-833d-5c933326a0cf",
   "metadata": {},
   "outputs": [
    {
     "data": {
      "text/plain": [
       "0.999999999975"
      ]
     },
     "execution_count": 4,
     "metadata": {},
     "output_type": "execute_result"
    }
   ],
   "source": [
    "pixel_scale_micado, plate_scale_micado, pixel_size_micado = 0.004, 0.26666666666, 0.015\n",
    "pixel_size_micado * plate_scale_micado / pixel_scale_micado"
   ]
  },
  {
   "cell_type": "code",
   "execution_count": 5,
   "id": "5c4d686f-3422-4eaf-a3fa-de81fcc1fc8d",
   "metadata": {},
   "outputs": [
    {
     "data": {
      "text/plain": [
       "0.9980564516129032"
      ]
     },
     "execution_count": 5,
     "metadata": {},
     "output_type": "execute_result"
    }
   ],
   "source": [
    "pixel_scale_dreams, plate_scale_dreams, pixel_size_dreams = 2.48, 206.265, 0.012\n",
    "pixel_size_dreams * plate_scale_dreams / pixel_scale_dreams"
   ]
  },
  {
   "cell_type": "code",
   "execution_count": 6,
   "id": "f24f3a3e-75be-4890-82de-5c0d5fc7ec13",
   "metadata": {},
   "outputs": [
    {
     "data": {
      "text/plain": [
       "(0.012, 41.253, 0.496, 0.9980564516129034)"
      ]
     },
     "execution_count": 6,
     "metadata": {},
     "output_type": "execute_result"
    }
   ],
   "source": [
    "pixel_scale = micado.cmds[\"!INST.pixel_scale\"]\n",
    "plate_scale = micado.cmds[\"!INST.plate_scale\"]\n",
    "pixel_size = micado['full_detector_array'].data[\"pixel_size\"][0]\n",
    "pixel_size, plate_scale, pixel_scale, pixel_size * plate_scale / pixel_scale"
   ]
  },
  {
   "cell_type": "code",
   "execution_count": null,
   "id": "ec29f167-a054-4d37-b99a-040826c484aa",
   "metadata": {},
   "outputs": [
    {
     "name": "stderr",
     "output_type": "stream",
     "text": [
      " FOVs:   0%|                                                                                                                                                                                 | 0/1 [00:00<?, ?it/s]\n",
      " FOV effects:   0%|                                                                                                                                                                          | 0/2 [00:00<?, ?it/s]\u001b[A\n",
      " FOV effects:  50%|█████████████████████████████████████████████████████████████████████████████████                                                                                 | 1/2 [00:00<00:00,  8.41it/s]\u001b[A\n"
     ]
    }
   ],
   "source": [
    "micado.observe(src)\n",
    "hdus = micado.readout()"
   ]
  },
  {
   "cell_type": "code",
   "execution_count": null,
   "id": "30dadfbb-26ca-4694-8963-783b22496473",
   "metadata": {},
   "outputs": [],
   "source": [
    "filter_J_MICADO = FilterCurve(filename=\"filters/TC_filter_J.dat\")\n",
    "filter_J_DREAMS = FilterCurve(filename=\"filters/TC_filter_J_DREAMS.dat\")"
   ]
  },
  {
   "cell_type": "code",
   "execution_count": null,
   "id": "75f0f5a5-3004-46f4-b9a1-cc4366b2cb17",
   "metadata": {},
   "outputs": [],
   "source": [
    "filter_J_MICADO.plot()"
   ]
  },
  {
   "cell_type": "code",
   "execution_count": null,
   "id": "073e4516-ebe9-48a0-a882-fdd160462ea6",
   "metadata": {},
   "outputs": [],
   "source": [
    "filter_J_DREAMS.plot()"
   ]
  },
  {
   "cell_type": "code",
   "execution_count": null,
   "id": "b95f46b3",
   "metadata": {},
   "outputs": [],
   "source": [
    "len(hdus[0])"
   ]
  },
  {
   "cell_type": "code",
   "execution_count": null,
   "id": "04863ddb",
   "metadata": {},
   "outputs": [],
   "source": [
    "detector_order = [2, 1, 4, 3, 6, 5]\n",
    "detector_order = [1, 1, 1, 1, 1 ,1]  # To test with 1 detector\n",
    "plt.figure(figsize=(20, 20))\n",
    "for plot_number, hdu_number in enumerate(detector_order, 1):\n",
    "    plt.subplot(3, 2, plot_number)\n",
    "    plt.imshow(hdus[0][hdu_number].data, origin=\"lower\", norm=LogNorm())\n",
    "\n",
    "plt.savefig(\"MICADO_with_DREAMS_detector_array.png\")"
   ]
  },
  {
   "cell_type": "code",
   "execution_count": null,
   "id": "50c31fef",
   "metadata": {},
   "outputs": [],
   "source": [
    "hdus[0][0].header"
   ]
  },
  {
   "cell_type": "code",
   "execution_count": null,
   "id": "80727be5",
   "metadata": {},
   "outputs": [],
   "source": [
    "hdus[0].writeto(\"my_dithered_cluster.fits\", overwrite=True)"
   ]
  }
 ],
 "metadata": {
  "kernelspec": {
   "display_name": "Python 3 (ipykernel)",
   "language": "python",
   "name": "python3"
  },
  "language_info": {
   "codemirror_mode": {
    "name": "ipython",
    "version": 3
   },
   "file_extension": ".py",
   "mimetype": "text/x-python",
   "name": "python",
   "nbconvert_exporter": "python",
   "pygments_lexer": "ipython3",
   "version": "3.11.5"
  }
 },
 "nbformat": 4,
 "nbformat_minor": 5
}
