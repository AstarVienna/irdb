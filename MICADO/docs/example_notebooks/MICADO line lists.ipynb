{
 "cells": [
  {
   "cell_type": "code",
   "execution_count": 5,
   "id": "e709fab6",
   "metadata": {},
   "outputs": [],
   "source": [
    "import numpy as np\n",
    "from astropy import units as u\n",
    "from matplotlib import pyplot as plt\n",
    "from matplotlib.colors import LogNorm\n",
    "\n",
    "import scopesim as sim\n",
    "from scopesim_templates.micado.spectral_calibrations import line_list\n",
    "\n",
    "# Comment out if you used scopesim.download_packages(), \n",
    "# or change to the path of your local cloned version of the github IRDB directory\n",
    "sim.rc.__config__[\"!SIM.file.local_packages_path\"] = \"F:/Work/irdb\""
   ]
  },
  {
   "cell_type": "markdown",
   "id": "dd9bc322",
   "metadata": {},
   "source": [
    "### Make the line list input Source object"
   ]
  },
  {
   "cell_type": "code",
   "execution_count": 6,
   "id": "100f68fb",
   "metadata": {},
   "outputs": [],
   "source": [
    "# unit_flux means a relative intensity of 1 = 3000 PHOTLAM [ph s-1 cm-2 AA-1]\n",
    "# dwave = 1e-3 [nm] as discussed on slack --> change this to 1e-2 to speed up scopesim (maybe)\n",
    "src_lines = line_list(unit_flux=3000, dwave=1e-3)"
   ]
  },
  {
   "cell_type": "markdown",
   "id": "eff33265",
   "metadata": {},
   "source": [
    "### Make the spectroscopic mode optical model"
   ]
  },
  {
   "cell_type": "code",
   "execution_count": 8,
   "id": "d7ab55fb",
   "metadata": {},
   "outputs": [],
   "source": [
    "cmds = sim.UserCommands(use_instrument=\"MICADO\", set_modes=[\"SCAO\", \"SPEC_3000x50\"])\n",
    "cmds[\"!OBS.dit\"] = 3600\n",
    "cmds[\"!OBS.filter_name_fw1\"] = \"Spec_HK\"     # Spec_IJ, Spec_HK\n",
    "cmds[\"!OBS.filter_name_fw2\"] = \"open\"\n",
    "\n",
    "\n",
    "micado = sim.OpticalTrain(cmds)\n",
    "\n",
    "# Set to False to test if everything is working, then flip to True\n",
    "USE_FULL_DETECTOR = False\n",
    "micado[\"full_detector_array\"].include = USE_FULL_DETECTOR\n",
    "micado[\"detector_window\"].include = not USE_FULL_DETECTOR"
   ]
  },
  {
   "cell_type": "code",
   "execution_count": null,
   "id": "d3a71aea",
   "metadata": {},
   "outputs": [],
   "source": [
    "# This makes the perfect noiseless focal plane image\n",
    "# This may take a while: ~order of mins\n",
    "micado.observe(src_lines)"
   ]
  },
  {
   "cell_type": "markdown",
   "id": "a165fc87",
   "metadata": {},
   "source": [
    "### Plot the intermediate noiseless focal plane image"
   ]
  },
  {
   "cell_type": "code",
   "execution_count": null,
   "id": "4496405e",
   "metadata": {},
   "outputs": [],
   "source": [
    "plt.figure(figsize=(15,15))\n",
    "plt.imshow(micado.image_planes[0].data, norm=LogNorm())"
   ]
  },
  {
   "cell_type": "markdown",
   "id": "89d64897",
   "metadata": {},
   "source": [
    "### This adds detector and shot noise"
   ]
  },
  {
   "cell_type": "code",
   "execution_count": null,
   "id": "ed63aafd",
   "metadata": {},
   "outputs": [],
   "source": [
    "hdu = micado.readout()[0]"
   ]
  },
  {
   "cell_type": "code",
   "execution_count": null,
   "id": "26b9cca4",
   "metadata": {},
   "outputs": [],
   "source": [
    "# The intermediate and detector images are here in memory\n",
    "# If you want to write them to disk, do this:\n",
    "micado.image_planes[0].hdu.writeto(\"img_plane_intermediate.fits\")\n",
    "hdu.writeto(\"detector_final.fits\")"
   ]
  },
  {
   "cell_type": "code",
   "execution_count": null,
   "id": "7d40a2ec",
   "metadata": {},
   "outputs": [],
   "source": [
    "src_lines = line_list()\n",
    "\n",
    "waves = np.arange(0.8, 2.5, 1e-7) * u.um\n",
    "flux = src_lines.spectra[0](waves)\n",
    "\n",
    "plt.plot(waves, flux)"
   ]
  },
  {
   "cell_type": "markdown",
   "id": "1835d9d3",
   "metadata": {},
   "source": [
    "### Display information about the elements in the MICADO optical train"
   ]
  },
  {
   "cell_type": "code",
   "execution_count": 9,
   "id": "686ada27",
   "metadata": {},
   "outputs": [
    {
     "data": {
      "text/html": [
       "<div><i>Table length=22</i>\n",
       "<table id=\"table2504448099136\" class=\"table-striped table-bordered table-condensed\">\n",
       "<thead><tr><th>element</th><th>name</th><th>class</th><th>included</th></tr></thead>\n",
       "<thead><tr><th>str11</th><th>str27</th><th>str24</th><th>bool</th></tr></thead>\n",
       "<tr><td>armazones</td><td>skycalc_atmosphere</td><td>SkycalcTERCurve</td><td>True</td></tr>\n",
       "<tr><td>ELT</td><td>telescope_reflection</td><td>SurfaceList</td><td>True</td></tr>\n",
       "<tr><td>MICADO</td><td>micado_static_surfaces</td><td>SurfaceList</td><td>True</td></tr>\n",
       "<tr><td>MICADO</td><td>micado_ncpas_psf</td><td>NonCommonPathAberration</td><td>True</td></tr>\n",
       "<tr><td>MICADO</td><td>filter_wheel_1 : [Spec_HK]</td><td>FilterWheel</td><td>True</td></tr>\n",
       "<tr><td>MICADO</td><td>filter_wheel_2 : [open]</td><td>FilterWheel</td><td>True</td></tr>\n",
       "<tr><td>MICADO</td><td>pupil_wheel : [open]</td><td>FilterWheel</td><td>True</td></tr>\n",
       "<tr><td>MICADO_DET</td><td>full_detector_array</td><td>DetectorList</td><td>False</td></tr>\n",
       "<tr><td>MICADO_DET</td><td>detector_window</td><td>DetectorWindow</td><td>True</td></tr>\n",
       "<tr><td>MICADO_DET</td><td>qe_curve</td><td>QuantumEfficiencyCurve</td><td>True</td></tr>\n",
       "<tr><td>MICADO_DET</td><td>exposure_action</td><td>SummedExposure</td><td>True</td></tr>\n",
       "<tr><td>MICADO_DET</td><td>dark_current</td><td>DarkCurrent</td><td>True</td></tr>\n",
       "<tr><td>MICADO_DET</td><td>shot_noise</td><td>ShotNoise</td><td>True</td></tr>\n",
       "<tr><td>MICADO_DET</td><td>detector_linearity</td><td>LinearityCurve</td><td>True</td></tr>\n",
       "<tr><td>MICADO_DET</td><td>border_reference_pixels</td><td>ReferencePixelBorder</td><td>True</td></tr>\n",
       "<tr><td>MICADO_DET</td><td>readout_noise</td><td>PoorMansHxRGReadoutNoise</td><td>True</td></tr>\n",
       "<tr><td>MICADO_DET</td><td>extra_fits_keywords</td><td>ExtraFitsKeywords</td><td>True</td></tr>\n",
       "<tr><td>default_ro</td><td>relay_psf</td><td>FieldConstantPSF</td><td>True</td></tr>\n",
       "<tr><td>default_ro</td><td>relay_surface_list</td><td>SurfaceList</td><td>True</td></tr>\n",
       "<tr><td>MICADO_SPEC</td><td>spec_mode_optics</td><td>SurfaceList</td><td>True</td></tr>\n",
       "<tr><td>MICADO_SPEC</td><td>spectroscopic_slit_aperture</td><td>ApertureMask</td><td>True</td></tr>\n",
       "<tr><td>MICADO_SPEC</td><td>micado_spectral_traces</td><td>SpectralTraceList</td><td>True</td></tr>\n",
       "</table></div>"
      ],
      "text/plain": [
       "<Table length=22>\n",
       "  element               name                     class           included\n",
       "   str11               str27                     str24             bool  \n",
       "----------- --------------------------- ------------------------ --------\n",
       "  armazones          skycalc_atmosphere          SkycalcTERCurve     True\n",
       "        ELT        telescope_reflection              SurfaceList     True\n",
       "     MICADO      micado_static_surfaces              SurfaceList     True\n",
       "     MICADO            micado_ncpas_psf  NonCommonPathAberration     True\n",
       "     MICADO  filter_wheel_1 : [Spec_HK]              FilterWheel     True\n",
       "     MICADO     filter_wheel_2 : [open]              FilterWheel     True\n",
       "     MICADO        pupil_wheel : [open]              FilterWheel     True\n",
       " MICADO_DET         full_detector_array             DetectorList    False\n",
       " MICADO_DET             detector_window           DetectorWindow     True\n",
       " MICADO_DET                    qe_curve   QuantumEfficiencyCurve     True\n",
       " MICADO_DET             exposure_action           SummedExposure     True\n",
       " MICADO_DET                dark_current              DarkCurrent     True\n",
       " MICADO_DET                  shot_noise                ShotNoise     True\n",
       " MICADO_DET          detector_linearity           LinearityCurve     True\n",
       " MICADO_DET     border_reference_pixels     ReferencePixelBorder     True\n",
       " MICADO_DET               readout_noise PoorMansHxRGReadoutNoise     True\n",
       " MICADO_DET         extra_fits_keywords        ExtraFitsKeywords     True\n",
       " default_ro                   relay_psf         FieldConstantPSF     True\n",
       " default_ro          relay_surface_list              SurfaceList     True\n",
       "MICADO_SPEC            spec_mode_optics              SurfaceList     True\n",
       "MICADO_SPEC spectroscopic_slit_aperture             ApertureMask     True\n",
       "MICADO_SPEC      micado_spectral_traces        SpectralTraceList     True"
      ]
     },
     "execution_count": 9,
     "metadata": {},
     "output_type": "execute_result"
    }
   ],
   "source": [
    "# List all the effects included in MICADO\n",
    "micado.effects"
   ]
  },
  {
   "cell_type": "code",
   "execution_count": 17,
   "id": "b8ebbc07",
   "metadata": {},
   "outputs": [
    {
     "data": {
      "text/plain": [
       "{'filename': None,\n",
       " 'description': '',\n",
       " 'history': [],\n",
       " 'name': 'filter_wheel_2',\n",
       " 'temperature': -190,\n",
       " 'filter_file_format': 'filters/TC_filter_{}.dat',\n",
       " 'element_name': 'MICADO',\n",
       " 'filter_names': ['open',\n",
       "  'xY2',\n",
       "  'xK1',\n",
       "  'xK2',\n",
       "  'block',\n",
       "  'K-mid',\n",
       "  'K-short',\n",
       "  'Ks',\n",
       "  'H',\n",
       "  'H-long',\n",
       "  'H-short',\n",
       "  'xH1',\n",
       "  'xH2',\n",
       "  'xJ1',\n",
       "  'xJ2',\n",
       "  'xY1'],\n",
       " 'filename_format': '!INST.filter_file_format',\n",
       " 'current_filter': '!OBS.filter_name_fw2',\n",
       " 'minimum_throughput': 0.000101,\n",
       " 'outer': 0.2,\n",
       " 'outer_unit': 'm',\n",
       " 'z_order': [124, 224, 524],\n",
       " 'include': True,\n",
       " 'path': '',\n",
       " 'report_plot_include': True,\n",
       " 'report_table_include': True,\n",
       " 'report_table_rounding': 4}"
      ]
     },
     "execution_count": 17,
     "metadata": {},
     "output_type": "execute_result"
    }
   ],
   "source": [
    "# Detailed info about each effect can be found in the .meta dictionaries\n",
    "micado[\"filter_wheel_1\"].meta"
   ]
  },
  {
   "cell_type": "code",
   "execution_count": null,
   "id": "845b593c",
   "metadata": {},
   "outputs": [],
   "source": []
  }
 ],
 "metadata": {
  "kernelspec": {
   "display_name": "Python 3 (ipykernel)",
   "language": "python",
   "name": "python3"
  },
  "language_info": {
   "codemirror_mode": {
    "name": "ipython",
    "version": 3
   },
   "file_extension": ".py",
   "mimetype": "text/x-python",
   "name": "python",
   "nbconvert_exporter": "python",
   "pygments_lexer": "ipython3",
   "version": "3.10.5"
  }
 },
 "nbformat": 4,
 "nbformat_minor": 5
}
