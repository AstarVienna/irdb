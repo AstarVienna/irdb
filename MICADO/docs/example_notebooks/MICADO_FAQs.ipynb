{
 "cells": [
  {
   "cell_type": "markdown",
   "id": "circular-education",
   "metadata": {},
   "source": [
    "# MICADO FAQs\n",
    "\n",
    "A collection of random code snippets that might help someone. One day they will be sorted into the docs properly"
   ]
  },
  {
   "cell_type": "markdown",
   "id": "brilliant-gardening",
   "metadata": {},
   "source": [
    "## Add a larger SCAO PSF instead of the default kernel"
   ]
  },
  {
   "cell_type": "code",
   "execution_count": 1,
   "id": "excellent-sewing",
   "metadata": {},
   "outputs": [],
   "source": [
    "import scopesim\n",
    "from scopesim.effects import AnisocadoConstPSF\n",
    "\n",
    "wide_psf = AnisocadoConstPSF(name=\"Wide_SCAO_PSF\",\n",
    "                             filename=\"MICADO/MICADO_AnisoCADO_rms_map.fits\",\n",
    "                             strehl=0.5,\n",
    "                             wavelength=2.15,\n",
    "                             psf_side_length=2048)\n",
    "\n",
    "cmds = scopesim.UserCommands(use_instrument=\"MICADO\", set_modes=[\"SCAO\", \"IMG_1.5mas\"])\n",
    "micado = scopesim.OpticalTrain(cmds)\n",
    "\n",
    "micado.optics_manager[\"default_ro\"].add_effect(wide_psf)\n",
    "\n",
    "micado[\"relay_psf\"].include = False\n",
    "micado[\"Wide_SCAO_PSF\"].include = True"
   ]
  }
 ],
 "metadata": {
  "kernelspec": {
   "display_name": "Python 3 (ipykernel)",
   "language": "python",
   "name": "python3"
  },
  "language_info": {
   "codemirror_mode": {
    "name": "ipython",
    "version": 3
   },
   "file_extension": ".py",
   "mimetype": "text/x-python",
   "name": "python",
   "nbconvert_exporter": "python",
   "pygments_lexer": "ipython3",
   "version": "3.11.0"
  }
 },
 "nbformat": 4,
 "nbformat_minor": 5
}
