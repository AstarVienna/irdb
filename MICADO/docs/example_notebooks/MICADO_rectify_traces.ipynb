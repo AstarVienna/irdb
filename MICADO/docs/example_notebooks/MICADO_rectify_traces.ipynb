{
 "cells": [
  {
   "cell_type": "markdown",
   "id": "fe7880aa",
   "metadata": {},
   "source": [
    "# Rectify Traces\n",
    "This notebook demonstrates how to rectify a detector readout from a spectroscopic simulation using Scopesim. \"Rectification\" means the transformation of a spectral trace from the detector onto a rectangular pixel grid of wavelength and spatial position along the slit. Wavelength calibration and rectification are major tasks of the spectroscopic data-reduction pipeline. For convenience, Scopesim includes functionality to perform these tasks by reversing the *known* mapping that was used for the simulation, resulting in easily analysable 2D spectra that include all the noise and background components but neglect the uncertainties of a wavelength calibration as it would be performed during the reduction of real data. \n",
    "Rectification is demonstrated on a MICADO long-slit simulation."
   ]
  },
  {
   "cell_type": "code",
   "execution_count": null,
   "id": "f79694c7",
   "metadata": {},
   "outputs": [],
   "source": [
    "import numpy as np\n",
    "\n",
    "from astropy import units as u\n",
    "from astropy.wcs import WCS\n",
    "\n",
    "from synphot import SourceSpectrum, Empirical1D\n",
    "from scopesim_templates.micado import flatlamp\n",
    "from scopesim_templates.micado.spectral_calibrations import line_list\n"
   ]
  },
  {
   "cell_type": "code",
   "execution_count": null,
   "id": "bd63e8a7",
   "metadata": {},
   "outputs": [],
   "source": [
    "from matplotlib import pyplot as plt\n",
    "from matplotlib.colors import LogNorm\n",
    "%matplotlib inline"
   ]
  },
  {
   "cell_type": "code",
   "execution_count": null,
   "id": "fc0ad6f7",
   "metadata": {},
   "outputs": [],
   "source": [
    "import scopesim as sim\n",
    "# sim.bug_report() # display ScopeSim configuration"
   ]
  },
  {
   "cell_type": "code",
   "execution_count": null,
   "id": "d50a230f",
   "metadata": {},
   "outputs": [],
   "source": [
    "# Edit this path if you have a custom install directory, otherwise comment it out.\n",
    "# sim.rc.__config__[\"!SIM.file.local_packages_path\"] = \"inst_simulations/inst_pkgs/\""
   ]
  },
  {
   "cell_type": "markdown",
   "id": "b7b2a57b",
   "metadata": {},
   "source": [
    "If you haven’t got the instrument packages yet, uncomment the following cell."
   ]
  },
  {
   "cell_type": "code",
   "execution_count": null,
   "id": "40add2a6",
   "metadata": {},
   "outputs": [],
   "source": [
    "#sim.download_packages([\"MICADO\", \"ELT\", \"Armazones\"])"
   ]
  },
  {
   "cell_type": "markdown",
   "id": "66118fe8",
   "metadata": {},
   "source": [
    "## Creation of a source - spectral line lamp"
   ]
  },
  {
   "cell_type": "markdown",
   "id": "cd09d911",
   "metadata": {},
   "source": [
    "As an example, we use a calibration lamp with equally spaced and equally strong emission lines, covering the full MICADO waveband. The line list is turned into a spectrum by placing a narrow Gaussian at each line position. To simulate the lamp, we use the `flatlamp` function and replace the default spectrum (a black body) by the line spectrum."
   ]
  },
  {
   "cell_type": "code",
   "execution_count": null,
   "id": "2cd445b7",
   "metadata": {},
   "outputs": [],
   "source": [
    "lines = np.arange(0.8, 2.5, 0.01)\n",
    "\n",
    "wave = np.linspace(0.8, 2.5, 4096)\n",
    "flux = np.zeros_like(wave)\n",
    "sigma = 0.00005\n",
    "for line in lines:\n",
    "    flux += 1e0 * np.exp(-(wave - line)**2 / (2 * sigma**2))\n",
    "\n",
    "spec = SourceSpectrum(Empirical1D, points=wave*u.um, lookup_table=flux)\n",
    "\n",
    "src_linelamp = flatlamp()\n",
    "src_linelamp.fields[0].spectra[0] = spec     # NB: Do not try to set src_linelamp.spectra[0], this has no effect. "
   ]
  },
  {
   "cell_type": "markdown",
   "id": "5f539847",
   "metadata": {},
   "source": [
    "We can also replace the test spectrum with an actual line-list"
   ]
  },
  {
   "cell_type": "code",
   "execution_count": null,
   "id": "59938957",
   "metadata": {},
   "outputs": [],
   "source": [
    "# OPTIONAL: import line list from file, or comment out to keep the test spectrum\n",
    "# llist = line_list(unit_flux=1e-12,\n",
    "#                   dwave=0.01,\n",
    "#                   smoothing_fwhm=0.03)\n",
    "\n",
    "# src_linelamp.fields[0].spectra = llist.spectra"
   ]
  },
  {
   "cell_type": "code",
   "execution_count": null,
   "id": "6a5f9479",
   "metadata": {},
   "outputs": [],
   "source": [
    "plt.figure(figsize=(5,5))\n",
    "plt.imshow(src_linelamp.fields[0].data)\n",
    "plt.colorbar()\n",
    "\n",
    "src_linelamp.spectra[0].plot()"
   ]
  },
  {
   "cell_type": "markdown",
   "id": "0adc8671",
   "metadata": {},
   "source": [
    "## Simulation of an observation"
   ]
  },
  {
   "cell_type": "markdown",
   "id": "d84af6f1",
   "metadata": {},
   "source": [
    "We use MICADO in the long-slit spectroscopic mode.\n",
    "Select `FILT` and `SLIT` as appropriate.\n",
    "First iterage on flux levels before setting `USE_FULL_DETECTOR = True` for final simulation.\n",
    "\n",
    "Possible combinations of filter and slit are:\n",
    "\n",
    "    Spec_IJ, SPEC_3000x48\n",
    "    Spec_IJ, SPEC_3000x16\n",
    "    Spec_J, SPEC_15000x20\n",
    "    Spec_HK, SPEC_3000x48\n",
    "    Spec_HK, SPEC_1500020"
   ]
  },
  {
   "cell_type": "code",
   "execution_count": null,
   "id": "5284cd98",
   "metadata": {},
   "outputs": [],
   "source": [
    "USE_FULL_DETECTOR = True\n",
    "FILT = \"Spec_IJ\"\n",
    "# FILT = \"Spec_HK\"\n",
    "# FILT = \"J\"\n",
    "\n",
    "# SLIT = \"SPEC_3000x16\"\n",
    "SLIT = \"SPEC_3000x48\"\n",
    "# SLIT = \"SPEC_15000x20\"\n",
    "\n",
    "min_wavelen = {\n",
    "    \"Spec_IJ\": 0.82,\n",
    "    \"Spec_HK\": 1.49, \n",
    "    \"J\": 1.16,\n",
    "    } # in microns\n",
    "\n",
    "R = {\n",
    "    \"SPEC_3000x16\": 10000,\n",
    "    \"SPEC_3000x48\": 3300,\n",
    "    \"SPEC_15000x20\": 8000,\n",
    "}\n",
    "\n",
    "# estimate spectral resolution in microns\n",
    "def spec_res(slit, filter):\n",
    "    return min_wavelen[filter] / R[slit]\n",
    "\n",
    "\n",
    "spec_res_um = spec_res(SLIT, FILT)\n",
    "print(f\"{spec_res_um = }\")"
   ]
  },
  {
   "cell_type": "code",
   "execution_count": null,
   "id": "44adab0e",
   "metadata": {},
   "outputs": [],
   "source": [
    "# Set up ScopeSim parameters\n",
    "cmds = sim.UserCommands(use_instrument=\"MICADO\", set_modes=[\"SCAO\", f\"{SLIT}\"])\n",
    "cmds[\"!OBS.dit\"] = 100\n",
    "cmds[\"!OBS.ndit\"] = 1\n",
    "cmds[\"!OBS.filter_name_fw1\"] = f\"{FILT}\"     # Spec_IJ, J, Spec_HK\n",
    "cmds[\"!OBS.filter_name_fw2\"] = \"open\"\n",
    "cmds[\"!SIM.spectral.spectral_bin_width\"] = spec_res_um\n",
    "cmds[\"!DET.width\"] = 4096\n",
    "cmds[\"!DET.height\"] = 4096\n",
    "\n",
    "# turn off PSF interpolation to speed up simulations\n",
    "cmds[\"!OBS.interp_psf\"] = False\n",
    "\n",
    "micado = sim.OpticalTrain(cmds)"
   ]
  },
  {
   "cell_type": "markdown",
   "id": "5732f705",
   "metadata": {},
   "source": [
    "We exclude atmospheric emission (and absorption) and the telescope optics as is appropriate for a calibration-lamp observation. As the source fills the slit homogeneously a PSF convolution should have no effect on the result. Excluding PSF convolution cuts down significantly on computation time."
   ]
  },
  {
   "cell_type": "code",
   "execution_count": null,
   "id": "d61f1c7c",
   "metadata": {},
   "outputs": [],
   "source": [
    "# Turn off the effects that are not needed (see below for more on this)\n",
    "micado[\"skycalc_atmosphere\"].include = False\n",
    "micado[\"telescope_reflection\"].include = False\n",
    "micado[\"relay_psf\"].include = False\n",
    "\n",
    "micado[\"full_detector_array\"].include = USE_FULL_DETECTOR\n",
    "micado[\"detector_window\"].include = not USE_FULL_DETECTOR\n",
    "\n",
    "# For checking/debugging\n",
    "# print(cmds.list_modes())\n",
    "# micado.effects.pprint_all()\n",
    "# micado[\"pupil_wheel\"].meta\n",
    "micado[\"filter_wheel_1\"].current_filter.plot()"
   ]
  },
  {
   "cell_type": "code",
   "execution_count": null,
   "id": "ccafc4c8",
   "metadata": {},
   "outputs": [],
   "source": [
    "# warning - this step takes ~12 minutes to run on the full detector\n",
    "micado.observe(src_linelamp, update=True)"
   ]
  },
  {
   "cell_type": "code",
   "execution_count": null,
   "id": "cf2956e9",
   "metadata": {},
   "outputs": [],
   "source": [
    "# plot the image plane using a logarithmic intensity scale\n",
    "plt.figure(figsize=(15,15))\n",
    "plt.imshow(micado.image_planes[0].data, norm=LogNorm())\n",
    "plt.colorbar()"
   ]
  },
  {
   "cell_type": "code",
   "execution_count": null,
   "id": "711386ce",
   "metadata": {},
   "outputs": [],
   "source": [
    "# check the spectrum of the last source used\n",
    "micado._last_source.fields[0].spectra[0].plot()"
   ]
  },
  {
   "cell_type": "markdown",
   "id": "9c0cc02b",
   "metadata": {},
   "source": [
    "Simulate detector readout - this projects the image plane onto the 3x3 detector focal-plane-array and adds readout noise."
   ]
  },
  {
   "cell_type": "code",
   "execution_count": null,
   "id": "6fd86db6",
   "metadata": {},
   "outputs": [],
   "source": [
    "ro = micado.readout()[0]"
   ]
  },
  {
   "cell_type": "code",
   "execution_count": null,
   "id": "7bd06f5a",
   "metadata": {},
   "outputs": [],
   "source": [
    "if USE_FULL_DETECTOR:\n",
    "    # plot the 3x3 detector array\n",
    "    fig, axs = plt.subplots(3, 3, figsize=(10,10), layout='constrained')\n",
    "    for i, hdu in enumerate(ro[1:]):\n",
    "        row = int(i/3)\n",
    "        col = i%3\n",
    "        if row == 1:\n",
    "            col = 2 - col\n",
    "        axs[row, col].imshow(hdu.data, origin=\"lower\")\n",
    "else:\n",
    "    # plot the single detector window\n",
    "    plt.figure(figsize=(10,10))\n",
    "    plt.imshow(ro[1].data, origin=\"lower\")\n",
    "    plt.colorbar()"
   ]
  },
  {
   "cell_type": "markdown",
   "id": "c035912b",
   "metadata": {},
   "source": [
    "## Rectification of the spectrum"
   ]
  },
  {
   "cell_type": "markdown",
   "id": "43f5145d",
   "metadata": {},
   "source": [
    "Rectification is necessary to arrive at a 2D spectrum with well-defined wavelength and spatial coordinates. The method to use is `rectify_traces` and belongs to the `SpectralTraceList` effect, which is accessible in the MICADO optical train as `\"micado_spectral_traces\"`. Currently, it is necessary to specify the spatial extent of the slit when calling the method. The long slit in MICADO has a length of 15 arcsec and extends from -5 arcsec to +10 arcsec. The short slit extens from -1.5 to +1.5 arcsec."
   ]
  },
  {
   "cell_type": "code",
   "execution_count": null,
   "id": "c17c9c04",
   "metadata": {},
   "outputs": [],
   "source": [
    "tracelist = micado[\"micado_spectral_traces\"]"
   ]
  },
  {
   "cell_type": "code",
   "execution_count": null,
   "id": "1649e402",
   "metadata": {},
   "outputs": [],
   "source": [
    "# warning - this step takes ~13 minutes to run\n",
    "rectified = tracelist.rectify_traces(ro, -1.5, 1.5)\n",
    "# skip primary header [0] and unused order 7_1 [6]\n",
    "rectified = np.concatenate((rectified[1:6], rectified[7:]))"
   ]
  },
  {
   "cell_type": "markdown",
   "id": "49469101",
   "metadata": {},
   "source": [
    "`rectified` is an HDU list with one extension for each spectral trace - for MICADO there are several. Each extension has a WCS that translates pixel coordinates into wavelength and position along the slit."
   ]
  },
  {
   "cell_type": "code",
   "execution_count": null,
   "id": "df3b5a30",
   "metadata": {},
   "outputs": [],
   "source": [
    "# Plot the rectified traces\n",
    "fig, axs = plt.subplots(len(rectified), figsize=(8,10), layout='constrained')\n",
    "\n",
    "for i, trc in enumerate(rectified):\n",
    "    wcs = WCS(trc)\n",
    "    naxis1 = trc.header[\"NAXIS1\"]\n",
    "    naxis2 = trc.header[\"NAXIS2\"]\n",
    "    lam = (wcs.all_pix2world(np.arange(naxis1), 800, 0)[0] * u.Unit(wcs.wcs.cunit[0])).to(u.um).value\n",
    "    xi = (wcs.all_pix2world(1000, np.arange(naxis2), 0)[1] * u.Unit(wcs.wcs.cunit[1])).to(u.arcsec).value\n",
    "    axs[i].imshow(trc.data, origin=\"lower\", extent=[lam[0], lam[-1], xi[0], xi[-1]])\n",
    "    axs[i].set_aspect(\"auto\")\n",
    "    axs[i].set_ylabel(trc.header[\"EXTNAME\"])\n",
    "\n",
    "    # axs[i].set_ylabel(r\"Spatial position along slit [arcsec]\");\n",
    "\n",
    "axs[-1].set_xlabel(r\"Wavelength [$\\mu$m]\")\n"
   ]
  },
  {
   "cell_type": "code",
   "execution_count": null,
   "id": "76b8c5c2",
   "metadata": {},
   "outputs": [],
   "source": [
    "# plot 1D extracted spectrum for each trace\n",
    "fig, axs = plt.subplots(len(rectified), figsize=(8,10), layout='constrained')\n",
    "for i, trc in enumerate(rectified):\n",
    "    wcs = WCS(trc)\n",
    "    naxis1 = trc.header[\"NAXIS1\"]\n",
    "    naxis2 = trc.header[\"NAXIS2\"]\n",
    "    lam = (wcs.all_pix2world(np.arange(naxis1), 800, 0)[0] * u.Unit(wcs.wcs.cunit[0])).to(u.um).value\n",
    "    axs[i].plot(lam, trc.data[400], label=\"single row\")\n",
    "    axs[i].plot(lam, trc.data.mean(axis=0), label=\"average\")\n",
    "    axs[i].set_ylabel(trc.header[\"EXTNAME\"])\n",
    "\n",
    "axs[-1].set_xlabel(r\"Wavelength [$\\mu$m]\")\n",
    "plt.show()\n",
    "    "
   ]
  }
 ],
 "metadata": {
  "kernelspec": {
   "display_name": "scopesim_dev",
   "language": "python",
   "name": "python3"
  },
  "language_info": {
   "codemirror_mode": {
    "name": "ipython",
    "version": 3
   },
   "file_extension": ".py",
   "mimetype": "text/x-python",
   "name": "python",
   "nbconvert_exporter": "python",
   "pygments_lexer": "ipython3",
   "version": "3.12.4"
  }
 },
 "nbformat": 4,
 "nbformat_minor": 5
}
