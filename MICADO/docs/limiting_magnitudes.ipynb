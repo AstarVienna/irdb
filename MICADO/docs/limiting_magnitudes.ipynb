{
 "cells": [
  {
   "cell_type": "markdown",
   "id": "1cd85e25",
   "metadata": {},
   "source": [
    "# Limiting magnitude\n",
    "\n",
    "The following series of images each show a grid of 7x7 stars with magnitudes ranging from 25 to 30 (Vega mags), observed in MCAO mode with the wide-field imaging mode of 4mas/pix, in Ks, H and J filters. The second image (with the colourful boxes) in each filter shows an estimate of signal-to-noise ratios (SNR) for each observed star. The final plots each show a fit through the magnitude and SNR values, with a limiting magnitude at SNR=5 plotted into the data."
   ]
  },
  {
   "cell_type": "code",
   "execution_count": null,
   "id": "feb64e62",
   "metadata": {},
   "outputs": [],
   "source": [
    "import numpy as np\n",
    "\n",
    "import scopesim as sim\n",
    "from scopesim import rc\n",
    "from scopesim.source import source_templates as st\n",
    "\n",
    "from matplotlib import pyplot as plt\n",
    "from matplotlib.colors import LogNorm\n",
    "\n",
    "from scipy.stats import linregress\n",
    "\n",
    "import hmbp\n",
    "from astropy import units as u\n",
    "from itertools import product\n",
    "\n",
    "# Set local path\n",
    "sim.rc.__config__[\"!SIM.file.local_packages_path\"] = \"../../\"\n",
    "\n",
    "args = [(\"open\", \"Ks\", \"open\", 2),\n",
    "        (\"open\", \"H\", \"open\", 2),\n",
    "        (\"J\", \"open\", \"open\", 1),\n",
    "        (\"open\", \"Ks\", \"Br-gamma\", 2)]\n",
    "ao_modes = (\"SCAO\", \"MCAO\")\n",
    "im_modes = (\"IMG_1.5mas\", \"IMG_4mas\")\n",
    "dits = ((2.6, 17, 25), (1800, 22, 30), (18000, 24, 32))  # 2.6 s, 30 m, 5 h"
   ]
  },
  {
   "cell_type": "code",
   "execution_count": null,
   "id": "720cc778",
   "metadata": {},
   "outputs": [],
   "source": [
    "combos = list(product(ao_modes, im_modes, dits, args))\n",
    "combos"
   ]
  },
  {
   "cell_type": "code",
   "execution_count": null,
   "id": "17424426",
   "metadata": {},
   "outputs": [],
   "source": [
    "PLOTS = False\n",
    "n_stars = 100\n",
    "\n",
    "def lim_mag(ao_mode, im_mode, dit, arg):\n",
    "    fw1, fw2, pw, r0 = arg\n",
    "    dit, mmin, mmax = dit\n",
    "    r1, r2 = 10, 15              # aperture radii  r0 (sig), r1-r2 (noise)\n",
    "    w = 3 if im_mode == \"IMG_4mas\" else 1.125\n",
    "    src = st.star_field(n_stars, mmin, mmax, width=w, use_grid=True)\n",
    "\n",
    "    cmds = sim.UserCommands(use_instrument=\"MICADO\",\n",
    "                            set_modes=[ao_mode, im_mode])\n",
    "    micado = sim.OpticalTrain(cmds)\n",
    "    micado.cmds[\"!OBS.dit\"] = dit\n",
    "    micado[\"filter_wheel_1\"].change_filter(fw1)\n",
    "    micado[\"filter_wheel_2\"].change_filter(fw2)\n",
    "    micado[\"pupil_wheel\"].change_filter(pw)\n",
    "    micado[\"detector_linearity\"].include = False\n",
    "\n",
    "    micado.observe(src)\n",
    "    hdul = micado.readout()[0]\n",
    "    det = hdul[1].data\n",
    "    imp = micado.image_planes[0].hdu.data  # e-/pixel/s\n",
    "\n",
    "    if PLOTS:\n",
    "        fig = plt.figure(figsize=(15, 20))\n",
    "        ax1, ax2 = fig.subplots(2, 1)\n",
    "        ax1.imshow(imp, norm=LogNorm(vmin=np.median(imp), vmax=1.01*np.median(imp)))\n",
    "        ax2.imshow(det, norm=LogNorm(vmin=np.median(det), vmax=1.01*np.median(det)))\n",
    "\n",
    "    offset = 2      # this needs to be addressed\n",
    "    xpix, ypix = src.fields[0][\"x\"].data, src.fields[0][\"y\"].data\n",
    "    scale = 0.004 if im_mode == \"IMG_4mas\" else 0.0015\n",
    "    xpix = xpix / scale + 512 + offset\n",
    "    ypix = ypix / scale + 512 + offset\n",
    "    mags = np.round(np.linspace(mmin, mmax, n_stars), 1)\n",
    "\n",
    "    snrs = []\n",
    "    for x, y, mag in zip(xpix, ypix, mags):\n",
    "        x, y = int(x+0.5), int(y+0.5)\n",
    "        sig_im = np.copy(det[y-r0:y+r0+1, x-r0:x+r0+1])\n",
    "        bg_im  = np.copy(det[y-r2:y+r2+1, x-r2:x+r2+1])\n",
    "        bg_im[r1:-r1, r1:-r1] = 0\n",
    "\n",
    "        bg_median = np.median(bg_im[bg_im > 0])\n",
    "        bg_std = np.std(bg_im[bg_im > 0])\n",
    "        # bg_std = np.sqrt(bg_median)\n",
    "        noise = bg_std * np.sqrt(np.prod(sig_im.shape)) * np.sqrt(2)        # sqrt(2) comes from BG subtraction (see Rics doc)\n",
    "        signal = np.sum(sig_im - bg_median)\n",
    "        snr = signal/noise\n",
    "        snrs += [snr]\n",
    "\n",
    "        if PLOTS:\n",
    "            plt.plot([x-r0, x+r0, x+r0, x-r0, x-r0],\n",
    "                     [y-r0, y-r0, y+r0, y+r0, y-r0], \"g\")\n",
    "            plt.plot([x-r1, x+r1, x+r1, x-r1, x-r1],\n",
    "                     [y-r1, y-r1, y+r1, y+r1, y-r1], \"y\")\n",
    "            plt.plot([x-r2, x+r2, x+r2, x-r2, x-r2],\n",
    "                     [y-r2, y-r2, y+r2, y+r2, y-r2], \"r\")\n",
    "\n",
    "            plt.text(x+r2, y+r2, str(round(snr, 1)), color=\"w\")\n",
    "            plt.text(x-r2, y-r2, str(mag), color=\"w\")\n",
    "    if fw1 != \"open\":\n",
    "        fltr = fw1\n",
    "    elif fw2 != \"open\":\n",
    "        fltr = fw2\n",
    "    else:\n",
    "        fltr = pw\n",
    "    if PLOTS:\n",
    "        plt.title(f\"Filter: {fltr}, mode: {im_mode}\")\n",
    "        plt.show()\n",
    "    return mags, snrs, fltr"
   ]
  },
  {
   "cell_type": "code",
   "execution_count": null,
   "id": "c281e297",
   "metadata": {},
   "outputs": [],
   "source": [
    "def mag_fit(mags, snrs, fltr):\n",
    "    snrs = np.array(snrs)\n",
    "    results = linregress(mags[snrs > 5], np.log10(snrs[snrs > 5]))\n",
    "    m, c = results[:2]\n",
    "    sigma = 5\n",
    "    lim_mag = (np.log10(sigma) - c) / m\n",
    "\n",
    "    plt.plot(mags, snrs, \".\", alpha=0.3)\n",
    "    plt.plot(mags, 10 ** (m * mags + c), \"r\")\n",
    "\n",
    "    plt.axhline(sigma)\n",
    "    plt.axvline(lim_mag)\n",
    "    fname = \"\".join(ff.title() for ff in fltr.split(\"-\"))\n",
    "    abmag = hmbp.convert(from_quantity=lim_mag*u.mag, to_unit=u.ABmag, filter_name=fname)\n",
    "    txt = f\"{lim_mag:.2f} Vega mag\\n{abmag:.2f}\"\n",
    "    plt.text(lim_mag, sigma, txt,\n",
    "             horizontalalignment=\"left\",\n",
    "             verticalalignment=\"bottom\")\n",
    "    plt.xlabel(\"Magnitude\")\n",
    "    plt.ylabel(\"SNR\")\n",
    "    plt.title(f\"Filter: {fltr}\")\n",
    "    plt.show()\n",
    "    return fltr, lim_mag, abmag.value"
   ]
  },
  {
   "cell_type": "code",
   "execution_count": null,
   "id": "19d354fc",
   "metadata": {},
   "outputs": [],
   "source": [
    "lims = []\n",
    "for combo in combos:\n",
    "    mags, snrs, fltr = lim_mag(*combo)\n",
    "    print(combo)\n",
    "    print(min(mags), max(mags), min(snrs), max(snrs))\n",
    "    lims.append(mag_fit(mags, snrs, fltr))"
   ]
  },
  {
   "cell_type": "code",
   "execution_count": null,
   "id": "dc967158",
   "metadata": {},
   "outputs": [],
   "source": [
    "def filtername(filters):\n",
    "    fname = \"\"\n",
    "    for fltr in filters:\n",
    "        if fltr != \"open\" and isinstance(fltr, str):\n",
    "            fname += fltr\n",
    "    return fname\n",
    "\n",
    "results = [(a, m, d[0], filtername(fltrs), *lim[1:]) for (a, m, d, fltrs), lim in zip(combos, lims)]"
   ]
  },
  {
   "cell_type": "code",
   "execution_count": null,
   "id": "44f203ad",
   "metadata": {},
   "outputs": [],
   "source": [
    "import pandas as pd\n",
    "pd.options.display.float_format = \"{:,.2f}\".format"
   ]
  },
  {
   "cell_type": "code",
   "execution_count": null,
   "id": "b5cbb446",
   "metadata": {},
   "outputs": [],
   "source": [
    "idx = pd.MultiIndex.from_tuples([r[:4] for r in results],\n",
    "      names=[\"AO\", \"Mode\", \"DIT\", \"Filter\"]).reorder_levels([\"AO\", \"Filter\", \"Mode\", \"DIT\"])\n",
    "df = pd.DataFrame([r[-2:] for r in results], columns=[\"Vega\", \"AB\"], index=idx)\n",
    "df.sort_values(by=[\"AO\", \"Filter\", \"Mode\", \"DIT\"], ascending=[False, True, True, True])"
   ]
  },
  {
   "cell_type": "code",
   "execution_count": null,
   "id": "fd1dc489",
   "metadata": {},
   "outputs": [],
   "source": []
  }
 ],
 "metadata": {
  "kernelspec": {
   "display_name": "Python 3 (ipykernel)",
   "language": "python",
   "name": "python3"
  },
  "language_info": {
   "codemirror_mode": {
    "name": "ipython",
    "version": 3
   },
   "file_extension": ".py",
   "mimetype": "text/x-python",
   "name": "python",
   "nbconvert_exporter": "python",
   "pygments_lexer": "ipython3",
   "version": "3.11.4"
  }
 },
 "nbformat": 4,
 "nbformat_minor": 5
}
