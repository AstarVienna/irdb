{
 "cells": [
  {
   "cell_type": "code",
   "execution_count": 2,
   "metadata": {},
   "outputs": [],
   "source": [
    "def hex_coordinates(distance, n_hex):\n",
    "    \"\"\"This function generates coordonates (x, y) for a specific hexagonal number by using a specific distance between the center of each hexagonal.\n",
    "    \n",
    "    :param distance: Represents the distance between the center of each hexagonal\n",
    "    :param n_hex: represents the number of hexagonal groups --> 1 n_hex = 7 hexagonals | 2 n_hex = 19 hexagonals\n",
    "    :return: a list of coordinates of each hexagonal\n",
    "    \"\"\"\n",
    "\n",
    "    coordinates = []\n",
    "    for q in range(-n_hex, n_hex+1):\n",
    "        r1 = max(-n_hex, -q-n_hex)\n",
    "        r2 = min(n_hex, -q+n_hex)\n",
    "        for r in range(r1, r2+1):\n",
    "            x = distance * (3**0.5) * (q + r/2)\n",
    "            y = distance * 3 * r\n",
    "            coordinates.append((x, y))\n",
    "    return coordinates"
   ]
  },
  {
   "attachments": {},
   "cell_type": "markdown",
   "metadata": {},
   "source": [
    "In this function, the variables \"q\" and \"r\" represent the cubic coordinates of hexagons in a coordinate system called \"cubic coordinates\".\n",
    "This coordinate system is used to represent the positions of the hexagons on a 2D plane using three coordinates, which correspond to the north, north-east and east directions.\n",
    "The cubic coordinate system is a system of orthonormal axes, each axis being twice as long as the others, the hexagons are arranged in a regular way on the plane.\n",
    "In summary, q, r, s = 0 is the coordinate value of the central hexagon, the hexagons surround the central hexagon in a direction (q,r,s) that depends on the orientation of the hexagon, as you can see in the formulas x and y calculated by the function\n",
    "\n",
    "The formulas used to calculate x and y in the hex_coordinates function are conversions of cubic coordinates to cartesian coordinates (x,y).\n",
    "Using the values of q and r of the loop, these formulas make it possible to calculate the x and y coordinates of the hexagons in the cartesian coordinate system (x,y) which is used to represent the positions of the hexagons on a 2D plane.\n",
    "The formula for x is: x = distance * (3**0.5) * (q + r/2), this formula uses the square root of 3 to have the right proportion of the hexagon sides. It uses q and r to calculate them according to their position relative to the central hexagon\n",
    "The formula for y is: y = distance * 3 * r , this formula uses 3 * r to have the right proportion of the hexagons sides, it uses r to calculate them according to their position relative to the center hexagon.\n",
    "In short, this function converts cubic coordinates (q, r) into cartesian coordinates (x, y) using the distance between the centers of the hexagons as a factor of proportionality"
   ]
  },
  {
   "cell_type": "code",
   "execution_count": 3,
   "metadata": {},
   "outputs": [],
   "source": [
    "def pretty_print(coords):\n",
    "    print(\"N                        x                        y\\n\")\n",
    "    val = 0\n",
    "    for (i, j) in coords:\n",
    "        print(str(val) + \"                        \" + str(i) + \"                        \" + str(j) + \"\\n\")\n",
    "        val += 1"
   ]
  },
  {
   "cell_type": "code",
   "execution_count": 4,
   "metadata": {},
   "outputs": [
    {
     "name": "stdout",
     "output_type": "stream",
     "text": [
      "N                        x                        y\n",
      "\n",
      "0                        -1.7320508075688772                        0\n",
      "\n",
      "1                        -0.8660254037844386                        -3\n",
      "\n",
      "2                        -0.8660254037844386                        3\n",
      "\n",
      "3                        0.0                        0\n",
      "\n",
      "4                        0.8660254037844386                        -3\n",
      "\n",
      "5                        0.8660254037844386                        3\n",
      "\n",
      "6                        1.7320508075688772                        0\n",
      "\n"
     ]
    }
   ],
   "source": [
    "coords = hex_coordinates(1, 1)\n",
    "pretty_print(sorted(coords))"
   ]
  }
 ],
 "metadata": {
  "kernelspec": {
   "display_name": "Python 3",
   "language": "python",
   "name": "python3"
  },
  "language_info": {
   "codemirror_mode": {
    "name": "ipython",
    "version": 3
   },
   "file_extension": ".py",
   "mimetype": "text/x-python",
   "name": "python",
   "nbconvert_exporter": "python",
   "pygments_lexer": "ipython3",
   "version": "3.10.6"
  },
  "orig_nbformat": 4,
  "vscode": {
   "interpreter": {
    "hash": "916dbcbb3f70747c44a77c7bcd40155683ae19c65e1c03b4aa3499c5328201f1"
   }
  }
 },
 "nbformat": 4,
 "nbformat_minor": 2
}
