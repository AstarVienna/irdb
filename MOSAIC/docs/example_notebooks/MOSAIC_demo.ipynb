{
 "cells": [
  {
   "cell_type": "markdown",
   "id": "612ecdf2-d7da-4a1f-87da-ff42d5a7e222",
   "metadata": {},
   "source": [
    "This is a simple demo of the \"ETC\" mode for MOSAIC. To use this you need the `oc/mosaic` branch of Scopesim and the `oc/mosaic` branch of the irdb. The implementation creates one-dimensional spectra for the output (summed over the fibres in a bundle for the MOS modes). The first sections demonstrate how to use Scopesim for the MOS and mIFU modes. The final section provides a more detailed description of the implementation and instrument definition that is currently used."
   ]
  },
  {
   "cell_type": "code",
   "execution_count": null,
   "id": "ade0fcb7-352f-4659-9cf6-abe22b49b8d6",
   "metadata": {},
   "outputs": [],
   "source": [
    "import scopesim as sim"
   ]
  },
  {
   "cell_type": "markdown",
   "id": "bfda4486-6cf3-407d-b1fe-1f39e9f5ffd4",
   "metadata": {},
   "source": [
    "Change the path below to your local irdb copy."
   ]
  },
  {
   "cell_type": "code",
   "execution_count": null,
   "id": "d273f5c3-bd10-4c54-ac2b-f5722cade6dd",
   "metadata": {},
   "outputs": [],
   "source": [
    "sim.link_irdb(\"/path/to/your/irdb\")"
   ]
  },
  {
   "cell_type": "markdown",
   "id": "db5a8af4-1a32-431a-838f-cce1344fb3de",
   "metadata": {},
   "source": [
    "## Instrument modes"
   ]
  },
  {
   "cell_type": "code",
   "execution_count": null,
   "id": "d482facd-efa0-41b5-9cff-5c897e3b1698",
   "metadata": {},
   "outputs": [],
   "source": [
    "cmd = sim.UserCommands(use_instrument=\"MOSAIC\")"
   ]
  },
  {
   "cell_type": "code",
   "execution_count": null,
   "id": "d63b47ba-6a26-4f09-8ded-1bec7930d949",
   "metadata": {},
   "outputs": [],
   "source": [
    "cmd.modes"
   ]
  },
  {
   "cell_type": "markdown",
   "id": "38063222-20bf-4668-aa31-3183d09a6b75",
   "metadata": {},
   "source": [
    "- The visual modes map spectra to a pseudo-detector of length 13000 pixels; the gap between the two 6k detectors in the real instrument is not simulated.\n",
    "- The near-infrared modes map spectra to a 4k x 4k detector.\n",
    "- As stated above, the MOS modes collapse the 7 (low-res modes) or 19 (high-res modes) fibres in a bundle to a single one-dimensional spectrum, the output is a FITS binary table with wavelength and flux (in ADU).\n",
    "- The mIFU modes return a 4k x 4k image with each of the 4xx fibre spectra mapped onto a detector row each. Rearrangement of the spectra into a cube has not been implemented."
   ]
  },
  {
   "cell_type": "markdown",
   "id": "702ed374-0367-4cfe-be42-2305dfecc131",
   "metadata": {},
   "source": [
    "## MOS modes\n",
    "All the MOS modes work identically, and we will only demonstrate the low-resolution R band mode."
   ]
  },
  {
   "cell_type": "code",
   "execution_count": null,
   "id": "3df6161a-01d3-459c-a148-48241ab340e1",
   "metadata": {},
   "outputs": [],
   "source": [
    "cmd = sim.UserCommands(use_instrument=\"MOSAIC\", set_modes=['MOS-LR-R'])"
   ]
  },
  {
   "cell_type": "code",
   "execution_count": null,
   "id": "ff8a4137-cc1d-461c-b2e7-8d7cfca31d67",
   "metadata": {},
   "outputs": [],
   "source": [
    "mosaic = sim.OpticalTrain(cmd)"
   ]
  },
  {
   "cell_type": "markdown",
   "id": "4a3dd85d-a417-4363-80c9-2061f5453637",
   "metadata": {},
   "source": [
    "The following gives an overview of the effects that are included in the optical train. "
   ]
  },
  {
   "cell_type": "code",
   "execution_count": null,
   "id": "5e6c651b-1b52-4b40-b0c1-e3b36f35489e",
   "metadata": {},
   "outputs": [],
   "source": [
    "mosaic.effects"
   ]
  },
  {
   "cell_type": "markdown",
   "id": "e630c9a8-8499-4c7a-a9ec-e7df735364b4",
   "metadata": {},
   "source": [
    "We start by observing blank sky; this will be useful for background subtraction when we observe a source later."
   ]
  },
  {
   "cell_type": "code",
   "execution_count": null,
   "id": "0f0eae6d-646f-4233-8460-5490fb666f79",
   "metadata": {},
   "outputs": [],
   "source": [
    "mosaic.observe()"
   ]
  },
  {
   "cell_type": "code",
   "execution_count": null,
   "id": "533ee95c-cdac-4638-b600-6b1b2e6a7c80",
   "metadata": {},
   "outputs": [],
   "source": [
    "sky = mosaic.readout(exptime=600)[0]"
   ]
  },
  {
   "cell_type": "markdown",
   "id": "c3b11f15-2d69-460d-bef8-53418d7dfbb8",
   "metadata": {},
   "source": [
    "The result is a binary table with columns `wavelength` and `spectrum`:"
   ]
  },
  {
   "cell_type": "code",
   "execution_count": null,
   "id": "68c08091-93af-4160-a144-9f3667c8589e",
   "metadata": {},
   "outputs": [],
   "source": [
    "sky[1].data"
   ]
  },
  {
   "cell_type": "code",
   "execution_count": null,
   "id": "7a72913d-5d32-4939-ad1d-e38b431b678d",
   "metadata": {},
   "outputs": [],
   "source": [
    "from matplotlib import pyplot as plt\n",
    "plt.plot(sky[1].data['wavelength'], sky[1].data['spectrum'])"
   ]
  },
  {
   "cell_type": "markdown",
   "id": "0dad3635-cfef-4150-8a52-ce3c6ee46220",
   "metadata": {},
   "source": [
    "As a source, we'll use a star of 15 mag:"
   ]
  },
  {
   "cell_type": "code",
   "execution_count": null,
   "id": "0ee2f0f2-d752-4a51-a95d-1c197c454599",
   "metadata": {},
   "outputs": [],
   "source": [
    "from astropy import units as u"
   ]
  },
  {
   "cell_type": "code",
   "execution_count": null,
   "id": "9ea43e01-9371-491b-8c4e-a67735696f42",
   "metadata": {},
   "outputs": [],
   "source": [
    "src = sim.source.source_templates.star(flux=15 * u.mag)"
   ]
  },
  {
   "cell_type": "code",
   "execution_count": null,
   "id": "e649ae17-ec87-4614-92d9-56a5c7191c02",
   "metadata": {},
   "outputs": [],
   "source": [
    "mosaic.observe(src)"
   ]
  },
  {
   "cell_type": "code",
   "execution_count": null,
   "id": "8ed08e9a-e06b-4af5-910c-fb4468f117c3",
   "metadata": {},
   "outputs": [],
   "source": [
    "star = mosaic.readout(exptime=600)[0]      # rather generous exposure time..."
   ]
  },
  {
   "cell_type": "code",
   "execution_count": null,
   "id": "80ac5af9-cacb-4f69-9150-663c02df11f0",
   "metadata": {},
   "outputs": [],
   "source": [
    "plt.plot(star[1].data['wavelength'], star[1].data['spectrum'], label=\"raw spectrum\")\n",
    "plt.plot(star[1].data['wavelength'], star[1].data['spectrum'] - sky[1].data['spectrum'], label=\"background subtracted\")\n",
    "plt.legend()\n",
    "plt.xlabel(\"Wavelength [um]\")\n",
    "plt.ylabel(\"Electrons\");"
   ]
  },
  {
   "cell_type": "markdown",
   "id": "4fb502c1-81e5-4731-9ccf-9b0f57bf084f",
   "metadata": {},
   "source": [
    "Strictly speaking, the flux units is ADU, but the gain is currently set to 1, so that 1 ADU corresponds to 1 electron collected over the exposure time (600 s).\n",
    "The spectrum is the sum over the seven fibres (19 for the high-resolution modes), each covering a solid angle of 0.0118 arcsec$^2$. "
   ]
  },
  {
   "cell_type": "markdown",
   "id": "33dbb6ff-c41d-4be5-bb20-a26a91fff215",
   "metadata": {},
   "source": [
    "Note that the `mosaic.readout()` method above has been set by the `exptime` keyword, and the exposure is a single readout of that integration time. This is appropriate for the visual modes. The near-infrared modes can also receive a simple `exptime`. In this case, the exposure time is automatically split into `ndit` subexposures of integration time `dit` each (cf. the readout of the mIFU example below). It is also possible to set `dit` and `ndit` directly. "
   ]
  },
  {
   "cell_type": "markdown",
   "id": "b612c2b2-ad88-445e-bd1f-f2bf93a251cc",
   "metadata": {},
   "source": [
    "## mIFU modes"
   ]
  },
  {
   "cell_type": "code",
   "execution_count": null,
   "id": "59a4a82b-3fc0-47a3-90c2-345e21330902",
   "metadata": {},
   "outputs": [],
   "source": [
    "cmd = sim.UserCommands(use_instrument=\"MOSAIC\", set_modes=[\"mIFU-LR-J\"])"
   ]
  },
  {
   "cell_type": "code",
   "execution_count": null,
   "id": "fc86a53d-1a51-4007-9990-fbf5d9c03729",
   "metadata": {},
   "outputs": [],
   "source": [
    "mosaic = sim.OpticalTrain(cmd)"
   ]
  },
  {
   "cell_type": "code",
   "execution_count": null,
   "id": "31260e7f-d10c-47e3-8891-1cbaa2c4e867",
   "metadata": {},
   "outputs": [],
   "source": [
    "mosaic.observe()"
   ]
  },
  {
   "cell_type": "code",
   "execution_count": null,
   "id": "be7b9f59-d8a6-4484-ac34-6ec28abee553",
   "metadata": {},
   "outputs": [],
   "source": [
    "hdul = mosaic.readout(exptime=3600)[0]"
   ]
  },
  {
   "cell_type": "code",
   "execution_count": null,
   "id": "d4d3e953-795f-4c24-99d6-d5aa549a6bf2",
   "metadata": {},
   "outputs": [],
   "source": [
    "plt.imshow(hdul[1].data[900:1100, 1900:2100], norm='log', origin='lower')\n",
    "plt.colorbar();"
   ]
  },
  {
   "cell_type": "code",
   "execution_count": null,
   "id": "4c5b7377-c23d-4056-8148-d039072f412e",
   "metadata": {},
   "outputs": [],
   "source": [
    "plt.plot(hdul[1].data[991, :])"
   ]
  },
  {
   "cell_type": "markdown",
   "id": "f25addbb-0578-4ced-964d-f0560a41a963",
   "metadata": {},
   "source": [
    "The mIFU mode is incomplete - it is currently not possible to deduce the wavelength vector and the spatial arrangement of the fibres from the readout alone. A table format might be better suited for that purpose."
   ]
  },
  {
   "attachments": {},
   "cell_type": "markdown",
   "id": "12f2011d-11b2-4680-9f41-4686637e2472",
   "metadata": {},
   "source": [
    "## Instrument package\n",
    "In this section we describe how the instrument is defined for Scopesim and what data files and parameters are used. The instrument configuration is found in `irdb/MOSAIC` (a release package will be provided once the code and configuration has been validated). The main file is `default.yaml` where in particular the available instrument modes are defined (see above for a list of these modes). The `OpticalTrain`, i.e. the software representation of the entire system of atmosphere, telescope, instrument optics and detector, is built as a series of `Effect` objects, which are set along with relevant parameters in further `yaml` files, as appropriate for each instrument mode. \n",
    "All modes use the additional `Armazones` and `ELT` packages:\n",
    "- `irdb/Armazones/Armazones.yaml` sets a single effect, `skycalc_atmosphere`, which provides atmospheric transmission and emission spectra as taken from ESO's skycalc server. The two parameters `spectral_resolution` and `spectral_bin_width` have been carefully chosen for each mode and should not be changed (unless for experimental purposes).\n",
    "- `irdb/ELT/ELT.yaml` defines `telescope_reflection`, which provides reflectivity and thermal emission from the telescope mirrors. The parameter `!TEL.ter_curve.filename` is by default set to `TER_ELT_5_mirror.dat`. The irdb contains files for 5- and 6-mirror configurations (the latter including a flat mirror to deflect light to a side port), the latter with exposed (field-tracking) or hidden (pupil-tracking) telescope spiders, and for clean and not so clean mirror segments.\n",
    "\n",
    "<img src=\"ELT_emissivity.png\" style=\"width:400px\"> </img>\n",
    "<img src=\"ELT_throughput.png\" style=\"width:400px\"> </img>\n",
    "\n",
    "The instrument is split into a visual and a near-infrared arm, described by `MOSAIC_VIS.yaml` and `MOSAIC_NIR.yaml`, respectively. \n",
    "- The transmission of the visual arm is given as a single combined `system transmission` effect, which uses the file named in the parameter \"!OBS.ter_file\" (TER = transmission, emission, reflection). For the near-infrared arm, the transmission is split into `fibre transmission` and `spectrograph transmission` (parameters `!OBS.fibre_ter_file` and `!OBS.spec_ter_file`). The fibre transmission files are named `TER_mos_*` to distinguish them from the IFU fibres, `TER_mIFU_*`. The available data are rather crude at present.\n",
    "\n",
    "<img src=\"MOS_VIS_transmission.png\" style=\"width:400px\"> </img>\n",
    "<img src=\"MOS_NIR_transmission.png\" style=\"width:400px\"> </img>\n",
    "\n",
    "- The point-spread function (effect `psf`) is currently taken to be a `SeeingPSF`, with FWHM settable via `!OBS.psf_fwhm`. This parameter is currently set to a default of 0.2 arcsec for all modes, probably not always a good value.\n",
    "- The line-spread function (effect `lsf`) is a convolution of a top-hat of width 4.5 spectral bins in the visual and 2.75 spectral bins in the near-infrared (the effect parameter `lsfwidth` is not currently user-settable, except by editing the yaml file; this should change in the future) with a Gaussian with standard deviation of 1 spectral bin. A spectral bin is given by the dispersion (um per pixel) on the detector.\n",
    "- The `fibre_bundle` effect determines the outline of the fibre bundle on the sky, and the `spectral_traces` effect is responsible for mapping the spectra into the two-dimensional `ImagePlane` (i.e. the detector focal plane). Both effects use the same trace file. Trace files are available for all instrument modes as multi-extension FITS files. The spatial arrangement of the fibres in a bundle is given as a table in the second extension of the file. Note that the fibre apertures are modelled as squares rather than hexagons (this makes it easier to sample the source cube); of course the squares cover the same solid angle on sky as the hexagons.\n",
    "\n",
    "<img src=\"MOS-LR-fibre_bundle.png\" style=\"width:400px\"> </img>\n",
    "<img src=\"MOS-HR-fibre_bundle.png\" style=\"width:400px\"> </img>\n",
    "\n",
    "The remaining traces map the spectra into the detector. This is done in a strictly linear manner, i.e. with constant dispersion (different for each mode). Each fibre is mapped as a one-dimensional spectrum onto a single row of the `ImagePlane`. \n",
    "\n",
    "The `ImagePlane` is produced by the `mosaic.observe()` command and is an image of the expected flux in photon/s in the detector plane, without noise. It is accessible by `mosaic.image_plane.hdu`.\n",
    "\n",
    "The `mosaic.readout()` command subsequently invokes the detector configuration to create a noisy detector readout from the `ImagePlane`. The detectors are defined in `MOSAIC_DET_VIS.yaml` and `MOSAIC_DET_NIR.yaml`, respectively. The geometric layout of the detectors is given by the effect `detector_array`, which reads `FPA_mosaic_VIS_layout.dat` and `FPA_mosaic_NIR_layout.dat`, respectively. The visual detector is currently described as a single 13000 x 160 array rather than the four 6k x 6k detectors foreseen for the actual instrument (hence the \"s(i)mpl(e)\" in the yaml file name) . This is because Scopesim only simulates a single fibre bundle, so a narrow effective detector is sufficient. Masking the gap between the two detectors is left to the user. The NIR detector is modeled as a single 4k x 4k detector (as in the actual instrument) to have enough room for the mIFU mode. \n",
    "\n",
    "The QE is handled by the effect `quantum_efficiency`, which uses the files `QE_VIS_ML2_depleted.dat` and `QE_detector_NIR.dat`, respectively.\n",
    "\n",
    "<img src=\"MOSAIC-QE.png\" style=\"width:400px\"> </img>\n",
    "\n",
    "The visual detector currently only applies shot noise; dark current and read noise still need to be included. The near-infrared detector includes these effects; the parameters are taken from our experience with MICADO. \n",
    "\n",
    "Finally, both detector yamls include the effect `collapse_1d`, which sums up the separate spectra from the fibres and produces a single output spectrum as described above. It is possible to switch this off with `mosaic['collapse_1d'].include=False` to see the \"detector image\". However, due to the way the spectra are currently formed, this is probably not of much interest."
   ]
  }
 ],
 "metadata": {
  "kernelspec": {
   "display_name": "Python 3 (ipykernel)",
   "language": "python",
   "name": "python3"
  },
  "language_info": {
   "codemirror_mode": {
    "name": "ipython",
    "version": 3
   },
   "file_extension": ".py",
   "mimetype": "text/x-python",
   "name": "python",
   "nbconvert_exporter": "python",
   "pygments_lexer": "ipython3",
   "version": "3.12.9"
  }
 },
 "nbformat": 4,
 "nbformat_minor": 5
}
